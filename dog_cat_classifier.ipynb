{
 "cells": [
  {
   "cell_type": "markdown",
   "id": "97651a9f-f498-47f2-8316-44f0b7f65c2d",
   "metadata": {},
   "source": [
    "# IMPORTATION DES PACKAGES"
   ]
  },
  {
   "cell_type": "code",
   "execution_count": null,
   "id": "20e2026a-dd2a-4d25-b836-38615264b842",
   "metadata": {},
   "outputs": [],
   "source": [
    "pip install tensorflow"
   ]
  },
  {
   "cell_type": "code",
   "execution_count": null,
   "id": "7ed79511-8e0a-4935-b353-0ab261018a2a",
   "metadata": {},
   "outputs": [],
   "source": [
    "import glob\n",
    "import numpy as np\n",
    "from PIL import Image\n",
    "import matplotlib.pyplot as plt\n",
    "import os\n"
   ]
  },
  {
   "cell_type": "code",
   "execution_count": null,
   "id": "ae0207c2-e240-4df5-ac59-a09a2d6a05eb",
   "metadata": {},
   "outputs": [],
   "source": [
    "print(\"Répertoire courant :\", os.getcwd())\n",
    "\n",
    "targets = []\n",
    "features = []\n",
    "\n",
    "# Chargement des images depuis les deux sous-dossiers\n",
    "cat_files = glob.glob('dogs_vs_cats/train/cats/*.jpg')\n",
    "dog_files = glob.glob('dogs_vs_cats/train/dogs/*.jpg')\n",
    "\n",
    "print(f\"{len(cat_files)} images de chats trouvées.\")\n",
    "print(f\"{len(dog_files)} images de chiens trouvées.\")\n"
   ]
  },
  {
   "cell_type": "code",
   "execution_count": null,
   "id": "506275ea-2dbe-44a2-b5e8-9426619516b3",
   "metadata": {},
   "outputs": [],
   "source": [
    "# Traitement des images de chats\n",
    "for file in cat_files:\n",
    "    try:\n",
    "        image = Image.open(file).resize((75, 75))\n",
    "        features.append(np.array(image))\n",
    "        targets.append([1, 0])  # [chat, chien]\n",
    "    except Exception as e:\n",
    "        print(f\"Erreur avec {file} : {e}\")"
   ]
  },
  {
   "cell_type": "code",
   "execution_count": null,
   "id": "2ce6a942-94da-4d51-a12c-cbd1c33a288d",
   "metadata": {},
   "outputs": [],
   "source": [
    "# Traitement des images de chiens\n",
    "for file in dog_files:\n",
    "    try:\n",
    "        image = Image.open(file).resize((75, 75))\n",
    "        features.append(np.array(image))\n",
    "        targets.append([0, 1])  # [chat, chien]\n",
    "    except Exception as e:\n",
    "        print(f\"Erreur avec {file} : {e}\")\n",
    "\n",
    "# Conversion en tableaux numpy\n",
    "features = np.array(features)\n",
    "targets = np.array(targets)\n",
    "\n",
    "print(\"features shape:\", features.shape)\n",
    "print(\"targets shape:\", targets.shape)"
   ]
  },
  {
   "cell_type": "code",
   "execution_count": null,
   "id": "25d2ab72-d768-4152-9fa8-94ad957bb924",
   "metadata": {},
   "outputs": [],
   "source": [
    "from random import randint\n",
    "\n",
    "for a in [randint(0, len(features)) for _ in range(10)]:\n",
    "    plt.imshow(features[a], cmap=\"gray\")\n",
    "    plt.show()"
   ]
  },
  {
   "cell_type": "markdown",
   "id": "4cbe2a82-9d3c-45f1-9bff-04ef29a5327f",
   "metadata": {},
   "source": [
    "# CREATION DU MODELE"
   ]
  },
  {
   "cell_type": "code",
   "execution_count": null,
   "id": "5e3031e1-cdd5-4194-96e7-8983acba5e6a",
   "metadata": {},
   "outputs": [],
   "source": []
  },
  {
   "cell_type": "markdown",
   "id": "1265c7a0-90e4-4f9d-a477-054e95d0ed3c",
   "metadata": {},
   "source": [
    "# COMPILATION DU MODELE"
   ]
  },
  {
   "cell_type": "code",
   "execution_count": null,
   "id": "1cf39dce-30ae-481a-afe4-e4927580be2a",
   "metadata": {},
   "outputs": [],
   "source": []
  },
  {
   "cell_type": "code",
   "execution_count": null,
   "id": "82c0e3f1-42d5-470b-bbaa-7636a0b20b56",
   "metadata": {},
   "outputs": [],
   "source": []
  },
  {
   "cell_type": "code",
   "execution_count": null,
   "id": "1b6b0df2-5803-4f6a-9b90-f5cbe4c8d533",
   "metadata": {},
   "outputs": [],
   "source": []
  },
  {
   "cell_type": "code",
   "execution_count": null,
   "id": "d2bb6216-f0ec-40d9-9757-e5f4e005a060",
   "metadata": {},
   "outputs": [],
   "source": []
  },
  {
   "cell_type": "code",
   "execution_count": null,
   "id": "9317e51b-a51a-4122-8c88-a2ceeafd1ad1",
   "metadata": {},
   "outputs": [],
   "source": []
  }
 ],
 "metadata": {
  "kernelspec": {
   "display_name": "Python 3 (ipykernel)",
   "language": "python",
   "name": "python3"
  },
  "language_info": {
   "codemirror_mode": {
    "name": "ipython",
    "version": 3
   },
   "file_extension": ".py",
   "mimetype": "text/x-python",
   "name": "python",
   "nbconvert_exporter": "python",
   "pygments_lexer": "ipython3",
   "version": "3.10.13"
  }
 },
 "nbformat": 4,
 "nbformat_minor": 5
}
