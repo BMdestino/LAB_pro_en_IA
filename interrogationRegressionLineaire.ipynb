{
 "cells": [
  {
   "cell_type": "markdown",
   "id": "e0c16400-4861-43f8-89dd-9abef6c99ba0",
   "metadata": {},
   "source": [
    "# PARTIE 1: REGRESSION LINEAIRE"
   ]
  },
  {
   "cell_type": "markdown",
   "id": "5554f6eb-c77d-4cc8-85ce-c9bf301c270b",
   "metadata": {},
   "source": [
    "# I. IMPORTATION DES PACKAGES"
   ]
  },
  {
   "cell_type": "code",
   "execution_count": 1,
   "id": "7183ffa9-56b4-4d28-8789-3a1829aac27f",
   "metadata": {},
   "outputs": [],
   "source": [
    "import numpy as np\n",
    "import pandas as pd\n",
    "import matplotlib.pyplot as plt\n",
    "import seaborn as sns\n",
    "import joblib\n",
    "#import plotly.express as px\n",
    "from sklearn.preprocessing import LabelEncoder\n",
    "from sklearn.preprocessing import StandardScaler\n",
    "from sklearn.model_selection import train_test_split\n",
    "\n",
    "from tensorflow.keras import Sequential\n",
    "from tensorflow.keras.layers import Dense, Dropout\n",
    "from tensorflow.keras.optimizers import Adam\n",
    "from tensorflow.keras.utils import to_categorical\n",
    "\n",
    "\n",
    "# importation de WARNING\n",
    "import warnings\n",
    "warnings.filterwarnings(\"ignore\")\n",
    "import tensorflow as tf\n"
   ]
  },
  {
   "cell_type": "code",
   "execution_count": 2,
   "id": "0d793ac9-eeda-4be6-9e18-173aa5daf147",
   "metadata": {},
   "outputs": [],
   "source": [
    "# Charger le fichier Excel\n",
    "#excel_file = 'C:/Users/User/PRO_EN_IA/INTERROGATION/dataset-uci.xlsxs'\n",
    "#data = pd.read_excel(excel_file)\n",
    "\n",
    "# Enregistrer en format CSV\n",
    "#csv_file = 'dataset-uci.csv'\n",
    "#data.to_csv(csv_file, index=False)"
   ]
  },
  {
   "cell_type": "markdown",
   "id": "da1ad269-6cc6-427f-8c80-f1e3f90d0c43",
   "metadata": {},
   "source": [
    "# II. CHRAGEMENT DES DONNEES"
   ]
  },
  {
   "cell_type": "code",
   "execution_count": 3,
   "id": "9d722925-13b4-40f2-90a1-338156000ca1",
   "metadata": {},
   "outputs": [
    {
     "data": {
      "text/html": [
       "<div>\n",
       "<style scoped>\n",
       "    .dataframe tbody tr th:only-of-type {\n",
       "        vertical-align: middle;\n",
       "    }\n",
       "\n",
       "    .dataframe tbody tr th {\n",
       "        vertical-align: top;\n",
       "    }\n",
       "\n",
       "    .dataframe thead th {\n",
       "        text-align: right;\n",
       "    }\n",
       "</style>\n",
       "<table border=\"1\" class=\"dataframe\">\n",
       "  <thead>\n",
       "    <tr style=\"text-align: right;\">\n",
       "      <th></th>\n",
       "      <th>school</th>\n",
       "      <th>sex</th>\n",
       "      <th>age</th>\n",
       "      <th>address</th>\n",
       "      <th>famsize</th>\n",
       "      <th>Pstatus</th>\n",
       "      <th>Medu</th>\n",
       "      <th>Fedu</th>\n",
       "      <th>Mjob</th>\n",
       "      <th>Fjob</th>\n",
       "      <th>...</th>\n",
       "      <th>famrel</th>\n",
       "      <th>freetime</th>\n",
       "      <th>goout</th>\n",
       "      <th>Dalc</th>\n",
       "      <th>Walc</th>\n",
       "      <th>health</th>\n",
       "      <th>absences</th>\n",
       "      <th>G1</th>\n",
       "      <th>G2</th>\n",
       "      <th>G3</th>\n",
       "    </tr>\n",
       "  </thead>\n",
       "  <tbody>\n",
       "    <tr>\n",
       "      <th>0</th>\n",
       "      <td>GP</td>\n",
       "      <td>F</td>\n",
       "      <td>18</td>\n",
       "      <td>U</td>\n",
       "      <td>GT3</td>\n",
       "      <td>A</td>\n",
       "      <td>4</td>\n",
       "      <td>4</td>\n",
       "      <td>at_home</td>\n",
       "      <td>teacher</td>\n",
       "      <td>...</td>\n",
       "      <td>4</td>\n",
       "      <td>3</td>\n",
       "      <td>4</td>\n",
       "      <td>1</td>\n",
       "      <td>1</td>\n",
       "      <td>3</td>\n",
       "      <td>6</td>\n",
       "      <td>5</td>\n",
       "      <td>6</td>\n",
       "      <td>6</td>\n",
       "    </tr>\n",
       "    <tr>\n",
       "      <th>1</th>\n",
       "      <td>GP</td>\n",
       "      <td>F</td>\n",
       "      <td>17</td>\n",
       "      <td>U</td>\n",
       "      <td>GT3</td>\n",
       "      <td>T</td>\n",
       "      <td>1</td>\n",
       "      <td>1</td>\n",
       "      <td>at_home</td>\n",
       "      <td>other</td>\n",
       "      <td>...</td>\n",
       "      <td>5</td>\n",
       "      <td>3</td>\n",
       "      <td>3</td>\n",
       "      <td>1</td>\n",
       "      <td>1</td>\n",
       "      <td>3</td>\n",
       "      <td>4</td>\n",
       "      <td>5</td>\n",
       "      <td>5</td>\n",
       "      <td>6</td>\n",
       "    </tr>\n",
       "    <tr>\n",
       "      <th>2</th>\n",
       "      <td>GP</td>\n",
       "      <td>F</td>\n",
       "      <td>15</td>\n",
       "      <td>U</td>\n",
       "      <td>LE3</td>\n",
       "      <td>T</td>\n",
       "      <td>1</td>\n",
       "      <td>1</td>\n",
       "      <td>at_home</td>\n",
       "      <td>other</td>\n",
       "      <td>...</td>\n",
       "      <td>4</td>\n",
       "      <td>3</td>\n",
       "      <td>2</td>\n",
       "      <td>2</td>\n",
       "      <td>3</td>\n",
       "      <td>3</td>\n",
       "      <td>10</td>\n",
       "      <td>7</td>\n",
       "      <td>8</td>\n",
       "      <td>10</td>\n",
       "    </tr>\n",
       "    <tr>\n",
       "      <th>3</th>\n",
       "      <td>GP</td>\n",
       "      <td>F</td>\n",
       "      <td>15</td>\n",
       "      <td>U</td>\n",
       "      <td>GT3</td>\n",
       "      <td>T</td>\n",
       "      <td>4</td>\n",
       "      <td>2</td>\n",
       "      <td>health</td>\n",
       "      <td>services</td>\n",
       "      <td>...</td>\n",
       "      <td>3</td>\n",
       "      <td>2</td>\n",
       "      <td>2</td>\n",
       "      <td>1</td>\n",
       "      <td>1</td>\n",
       "      <td>5</td>\n",
       "      <td>2</td>\n",
       "      <td>15</td>\n",
       "      <td>14</td>\n",
       "      <td>15</td>\n",
       "    </tr>\n",
       "    <tr>\n",
       "      <th>4</th>\n",
       "      <td>GP</td>\n",
       "      <td>F</td>\n",
       "      <td>16</td>\n",
       "      <td>U</td>\n",
       "      <td>GT3</td>\n",
       "      <td>T</td>\n",
       "      <td>3</td>\n",
       "      <td>3</td>\n",
       "      <td>other</td>\n",
       "      <td>other</td>\n",
       "      <td>...</td>\n",
       "      <td>4</td>\n",
       "      <td>3</td>\n",
       "      <td>2</td>\n",
       "      <td>1</td>\n",
       "      <td>2</td>\n",
       "      <td>5</td>\n",
       "      <td>4</td>\n",
       "      <td>6</td>\n",
       "      <td>10</td>\n",
       "      <td>10</td>\n",
       "    </tr>\n",
       "    <tr>\n",
       "      <th>...</th>\n",
       "      <td>...</td>\n",
       "      <td>...</td>\n",
       "      <td>...</td>\n",
       "      <td>...</td>\n",
       "      <td>...</td>\n",
       "      <td>...</td>\n",
       "      <td>...</td>\n",
       "      <td>...</td>\n",
       "      <td>...</td>\n",
       "      <td>...</td>\n",
       "      <td>...</td>\n",
       "      <td>...</td>\n",
       "      <td>...</td>\n",
       "      <td>...</td>\n",
       "      <td>...</td>\n",
       "      <td>...</td>\n",
       "      <td>...</td>\n",
       "      <td>...</td>\n",
       "      <td>...</td>\n",
       "      <td>...</td>\n",
       "      <td>...</td>\n",
       "    </tr>\n",
       "    <tr>\n",
       "      <th>390</th>\n",
       "      <td>MS</td>\n",
       "      <td>M</td>\n",
       "      <td>20</td>\n",
       "      <td>U</td>\n",
       "      <td>LE3</td>\n",
       "      <td>A</td>\n",
       "      <td>2</td>\n",
       "      <td>2</td>\n",
       "      <td>services</td>\n",
       "      <td>services</td>\n",
       "      <td>...</td>\n",
       "      <td>5</td>\n",
       "      <td>5</td>\n",
       "      <td>4</td>\n",
       "      <td>4</td>\n",
       "      <td>5</td>\n",
       "      <td>4</td>\n",
       "      <td>11</td>\n",
       "      <td>9</td>\n",
       "      <td>9</td>\n",
       "      <td>9</td>\n",
       "    </tr>\n",
       "    <tr>\n",
       "      <th>391</th>\n",
       "      <td>MS</td>\n",
       "      <td>M</td>\n",
       "      <td>17</td>\n",
       "      <td>U</td>\n",
       "      <td>LE3</td>\n",
       "      <td>T</td>\n",
       "      <td>3</td>\n",
       "      <td>1</td>\n",
       "      <td>services</td>\n",
       "      <td>services</td>\n",
       "      <td>...</td>\n",
       "      <td>2</td>\n",
       "      <td>4</td>\n",
       "      <td>5</td>\n",
       "      <td>3</td>\n",
       "      <td>4</td>\n",
       "      <td>2</td>\n",
       "      <td>3</td>\n",
       "      <td>14</td>\n",
       "      <td>16</td>\n",
       "      <td>16</td>\n",
       "    </tr>\n",
       "    <tr>\n",
       "      <th>392</th>\n",
       "      <td>MS</td>\n",
       "      <td>M</td>\n",
       "      <td>21</td>\n",
       "      <td>R</td>\n",
       "      <td>GT3</td>\n",
       "      <td>T</td>\n",
       "      <td>1</td>\n",
       "      <td>1</td>\n",
       "      <td>other</td>\n",
       "      <td>other</td>\n",
       "      <td>...</td>\n",
       "      <td>5</td>\n",
       "      <td>5</td>\n",
       "      <td>3</td>\n",
       "      <td>3</td>\n",
       "      <td>3</td>\n",
       "      <td>3</td>\n",
       "      <td>3</td>\n",
       "      <td>10</td>\n",
       "      <td>8</td>\n",
       "      <td>7</td>\n",
       "    </tr>\n",
       "    <tr>\n",
       "      <th>393</th>\n",
       "      <td>MS</td>\n",
       "      <td>M</td>\n",
       "      <td>18</td>\n",
       "      <td>R</td>\n",
       "      <td>LE3</td>\n",
       "      <td>T</td>\n",
       "      <td>3</td>\n",
       "      <td>2</td>\n",
       "      <td>services</td>\n",
       "      <td>other</td>\n",
       "      <td>...</td>\n",
       "      <td>4</td>\n",
       "      <td>4</td>\n",
       "      <td>1</td>\n",
       "      <td>3</td>\n",
       "      <td>4</td>\n",
       "      <td>5</td>\n",
       "      <td>0</td>\n",
       "      <td>11</td>\n",
       "      <td>12</td>\n",
       "      <td>10</td>\n",
       "    </tr>\n",
       "    <tr>\n",
       "      <th>394</th>\n",
       "      <td>MS</td>\n",
       "      <td>M</td>\n",
       "      <td>19</td>\n",
       "      <td>U</td>\n",
       "      <td>LE3</td>\n",
       "      <td>T</td>\n",
       "      <td>1</td>\n",
       "      <td>1</td>\n",
       "      <td>other</td>\n",
       "      <td>at_home</td>\n",
       "      <td>...</td>\n",
       "      <td>3</td>\n",
       "      <td>2</td>\n",
       "      <td>3</td>\n",
       "      <td>3</td>\n",
       "      <td>3</td>\n",
       "      <td>5</td>\n",
       "      <td>5</td>\n",
       "      <td>8</td>\n",
       "      <td>9</td>\n",
       "      <td>9</td>\n",
       "    </tr>\n",
       "  </tbody>\n",
       "</table>\n",
       "<p>395 rows × 33 columns</p>\n",
       "</div>"
      ],
      "text/plain": [
       "    school sex  age address famsize Pstatus  Medu  Fedu      Mjob      Fjob  \\\n",
       "0       GP   F   18       U     GT3       A     4     4   at_home   teacher   \n",
       "1       GP   F   17       U     GT3       T     1     1   at_home     other   \n",
       "2       GP   F   15       U     LE3       T     1     1   at_home     other   \n",
       "3       GP   F   15       U     GT3       T     4     2    health  services   \n",
       "4       GP   F   16       U     GT3       T     3     3     other     other   \n",
       "..     ...  ..  ...     ...     ...     ...   ...   ...       ...       ...   \n",
       "390     MS   M   20       U     LE3       A     2     2  services  services   \n",
       "391     MS   M   17       U     LE3       T     3     1  services  services   \n",
       "392     MS   M   21       R     GT3       T     1     1     other     other   \n",
       "393     MS   M   18       R     LE3       T     3     2  services     other   \n",
       "394     MS   M   19       U     LE3       T     1     1     other   at_home   \n",
       "\n",
       "     ... famrel freetime  goout  Dalc  Walc health absences  G1  G2  G3  \n",
       "0    ...      4        3      4     1     1      3        6   5   6   6  \n",
       "1    ...      5        3      3     1     1      3        4   5   5   6  \n",
       "2    ...      4        3      2     2     3      3       10   7   8  10  \n",
       "3    ...      3        2      2     1     1      5        2  15  14  15  \n",
       "4    ...      4        3      2     1     2      5        4   6  10  10  \n",
       "..   ...    ...      ...    ...   ...   ...    ...      ...  ..  ..  ..  \n",
       "390  ...      5        5      4     4     5      4       11   9   9   9  \n",
       "391  ...      2        4      5     3     4      2        3  14  16  16  \n",
       "392  ...      5        5      3     3     3      3        3  10   8   7  \n",
       "393  ...      4        4      1     3     4      5        0  11  12  10  \n",
       "394  ...      3        2      3     3     3      5        5   8   9   9  \n",
       "\n",
       "[395 rows x 33 columns]"
      ]
     },
     "execution_count": 3,
     "metadata": {},
     "output_type": "execute_result"
    }
   ],
   "source": [
    "data = pd.read_csv(\"C:/Users/User/PRO_EN_IA/INTERROGATION/student/student-mat.csv\", sep=';')\n",
    "data"
   ]
  },
  {
   "cell_type": "code",
   "execution_count": 4,
   "id": "8b6e92bf-9492-4775-a4f8-586e06279b98",
   "metadata": {},
   "outputs": [
    {
     "data": {
      "text/plain": [
       "(395, 33)"
      ]
     },
     "execution_count": 4,
     "metadata": {},
     "output_type": "execute_result"
    }
   ],
   "source": [
    "data.shape # LE DATASET DISPOSE 5 247 LIGNES ET 7 COLONNES"
   ]
  },
  {
   "cell_type": "code",
   "execution_count": 5,
   "id": "78033b61-a616-4b90-82f8-0d43b0ea908f",
   "metadata": {},
   "outputs": [
    {
     "name": "stdout",
     "output_type": "stream",
     "text": [
      "<class 'pandas.core.frame.DataFrame'>\n",
      "RangeIndex: 395 entries, 0 to 394\n",
      "Data columns (total 33 columns):\n",
      " #   Column      Non-Null Count  Dtype \n",
      "---  ------      --------------  ----- \n",
      " 0   school      395 non-null    object\n",
      " 1   sex         395 non-null    object\n",
      " 2   age         395 non-null    int64 \n",
      " 3   address     395 non-null    object\n",
      " 4   famsize     395 non-null    object\n",
      " 5   Pstatus     395 non-null    object\n",
      " 6   Medu        395 non-null    int64 \n",
      " 7   Fedu        395 non-null    int64 \n",
      " 8   Mjob        395 non-null    object\n",
      " 9   Fjob        395 non-null    object\n",
      " 10  reason      395 non-null    object\n",
      " 11  guardian    395 non-null    object\n",
      " 12  traveltime  395 non-null    int64 \n",
      " 13  studytime   395 non-null    int64 \n",
      " 14  failures    395 non-null    int64 \n",
      " 15  schoolsup   395 non-null    object\n",
      " 16  famsup      395 non-null    object\n",
      " 17  paid        395 non-null    object\n",
      " 18  activities  395 non-null    object\n",
      " 19  nursery     395 non-null    object\n",
      " 20  higher      395 non-null    object\n",
      " 21  internet    395 non-null    object\n",
      " 22  romantic    395 non-null    object\n",
      " 23  famrel      395 non-null    int64 \n",
      " 24  freetime    395 non-null    int64 \n",
      " 25  goout       395 non-null    int64 \n",
      " 26  Dalc        395 non-null    int64 \n",
      " 27  Walc        395 non-null    int64 \n",
      " 28  health      395 non-null    int64 \n",
      " 29  absences    395 non-null    int64 \n",
      " 30  G1          395 non-null    int64 \n",
      " 31  G2          395 non-null    int64 \n",
      " 32  G3          395 non-null    int64 \n",
      "dtypes: int64(16), object(17)\n",
      "memory usage: 102.0+ KB\n"
     ]
    }
   ],
   "source": [
    "# ça donne les informations générales sur le dataset et détermine le type de données pour chaque colonne\n",
    "data.info()"
   ]
  },
  {
   "cell_type": "code",
   "execution_count": 6,
   "id": "a34976ef-111b-4e6b-ab21-d5518f9ffe72",
   "metadata": {},
   "outputs": [
    {
     "data": {
      "text/plain": [
       "Index(['school', 'sex', 'age', 'address', 'famsize', 'Pstatus', 'Medu', 'Fedu',\n",
       "       'Mjob', 'Fjob', 'reason', 'guardian', 'traveltime', 'studytime',\n",
       "       'failures', 'schoolsup', 'famsup', 'paid', 'activities', 'nursery',\n",
       "       'higher', 'internet', 'romantic', 'famrel', 'freetime', 'goout', 'Dalc',\n",
       "       'Walc', 'health', 'absences', 'G1', 'G2', 'G3'],\n",
       "      dtype='object')"
      ]
     },
     "execution_count": 6,
     "metadata": {},
     "output_type": "execute_result"
    }
   ],
   "source": [
    "data.columns"
   ]
  },
  {
   "cell_type": "markdown",
   "id": "d9bb3f59-fbf1-4f71-b657-ddb49eb102ee",
   "metadata": {},
   "source": [
    "# III. ANALYSE DES DONNEES"
   ]
  },
  {
   "cell_type": "code",
   "execution_count": 7,
   "id": "ae7c92f6-2a5b-4858-a7e0-b697677b1b5b",
   "metadata": {},
   "outputs": [
    {
     "data": {
      "text/plain": [
       "Index(['school', 'sex', 'age', 'address', 'famsize', 'Pstatus', 'Medu', 'Fedu',\n",
       "       'Mjob', 'Fjob', 'reason', 'guardian', 'traveltime', 'studytime',\n",
       "       'failures', 'schoolsup', 'famsup', 'paid', 'activities', 'nursery',\n",
       "       'higher', 'internet', 'romantic', 'famrel', 'freetime', 'goout', 'Dalc',\n",
       "       'Walc', 'health', 'absences', 'G1', 'G2', 'G3'],\n",
       "      dtype='object')"
      ]
     },
     "execution_count": 7,
     "metadata": {},
     "output_type": "execute_result"
    }
   ],
   "source": [
    "data.columns"
   ]
  },
  {
   "cell_type": "code",
   "execution_count": 8,
   "id": "175d65da-ec3a-4ec3-96b4-40d43ad9cd8e",
   "metadata": {},
   "outputs": [
    {
     "name": "stdout",
     "output_type": "stream",
     "text": [
      "school        0\n",
      "sex           0\n",
      "age           0\n",
      "address       0\n",
      "famsize       0\n",
      "Pstatus       0\n",
      "Medu          0\n",
      "Fedu          0\n",
      "Mjob          0\n",
      "Fjob          0\n",
      "reason        0\n",
      "guardian      0\n",
      "traveltime    0\n",
      "studytime     0\n",
      "failures      0\n",
      "schoolsup     0\n",
      "famsup        0\n",
      "paid          0\n",
      "activities    0\n",
      "nursery       0\n",
      "higher        0\n",
      "internet      0\n",
      "romantic      0\n",
      "famrel        0\n",
      "freetime      0\n",
      "goout         0\n",
      "Dalc          0\n",
      "Walc          0\n",
      "health        0\n",
      "absences      0\n",
      "G1            0\n",
      "G2            0\n",
      "G3            0\n",
      "dtype: int64\n"
     ]
    }
   ],
   "source": [
    "print(data.isnull().sum())"
   ]
  },
  {
   "cell_type": "code",
   "execution_count": 9,
   "id": "12df886d-e05e-43b9-bf13-6452d0102582",
   "metadata": {},
   "outputs": [
    {
     "name": "stdout",
     "output_type": "stream",
     "text": [
      "['school', 'sex', 'age', 'address', 'famsize', 'Pstatus', 'Medu', 'Fedu', 'Mjob', 'Fjob', 'reason', 'guardian', 'traveltime', 'studytime', 'failures', 'schoolsup', 'famsup', 'paid', 'activities', 'nursery', 'higher', 'internet', 'romantic', 'famrel', 'freetime', 'goout', 'Dalc', 'Walc', 'health', 'absences', 'G1', 'G2', 'G3']\n"
     ]
    }
   ],
   "source": [
    "print(data.columns.tolist())"
   ]
  },
  {
   "cell_type": "code",
   "execution_count": 10,
   "id": "e1ad1d51-69e2-4c13-bd8b-eb833bc6e26a",
   "metadata": {},
   "outputs": [
    {
     "name": "stdout",
     "output_type": "stream",
     "text": [
      "    school sex  age  G1  G2  G3\n",
      "0       GP   F   18   5   6   6\n",
      "1       GP   F   17   5   5   6\n",
      "2       GP   F   15   7   8  10\n",
      "3       GP   F   15  15  14  15\n",
      "4       GP   F   16   6  10  10\n",
      "..     ...  ..  ...  ..  ..  ..\n",
      "390     MS   M   20   9   9   9\n",
      "391     MS   M   17  14  16  16\n",
      "392     MS   M   21  10   8   7\n",
      "393     MS   M   18  11  12  10\n",
      "394     MS   M   19   8   9   9\n",
      "\n",
      "[395 rows x 6 columns]\n"
     ]
    }
   ],
   "source": [
    "# Création de sub_data avec les colonnes appropriées\n",
    "sub_data = data[['school', 'sex', 'age', 'G1', 'G2', 'G3']]\n",
    "\n",
    "# Afficher le nouveau DataFrame\n",
    "print(sub_data)"
   ]
  },
  {
   "cell_type": "markdown",
   "id": "a8c461e5-012b-4b6a-90a3-1ba93771e7cf",
   "metadata": {},
   "source": [
    "# IV. PRE-TRAITEMENT DES DONNEES"
   ]
  },
  {
   "cell_type": "code",
   "execution_count": 11,
   "id": "8f4fa59e-7ac3-4c98-9df7-a0348b0bbfd4",
   "metadata": {},
   "outputs": [],
   "source": [
    "import pandas as pd\n",
    "from sklearn.preprocessing import StandardScaler\n",
    "\n",
    "\n",
    "# Supprimez les lignes avec des valeurs manquantes\n",
    "data.dropna(subset=['school', 'sex'], inplace=True)\n",
    "\n",
    "# Créez sub_data\n",
    "sub_data = data[['school', 'sex', 'age', 'G1', 'G2', 'G3']]\n"
   ]
  },
  {
   "cell_type": "code",
   "execution_count": 12,
   "id": "4841d45e-a9fa-4809-8f41-013cadd4afe6",
   "metadata": {},
   "outputs": [
    {
     "name": "stdout",
     "output_type": "stream",
     "text": [
      "['school', 'sex', 'age', 'G1', 'G2', 'G3']\n"
     ]
    }
   ],
   "source": [
    "# Vérifiez les colonnes\n",
    "print(sub_data.columns.tolist())\n",
    "\n",
    "\n"
   ]
  },
  {
   "cell_type": "code",
   "execution_count": 13,
   "id": "b48110c7-afbc-4d0f-a4fb-5bdaca08eac3",
   "metadata": {},
   "outputs": [
    {
     "name": "stdout",
     "output_type": "stream",
     "text": [
      "  school sex\n",
      "0     GP   F\n",
      "1     GP   F\n",
      "2     GP   F\n",
      "3     GP   F\n",
      "4     GP   F\n"
     ]
    }
   ],
   "source": [
    "print(sub_data[['school', 'sex']].head())"
   ]
  },
  {
   "cell_type": "code",
   "execution_count": 14,
   "id": "7e2b14ad-9f61-44fd-8539-34c06a151684",
   "metadata": {},
   "outputs": [
    {
     "name": "stdout",
     "output_type": "stream",
     "text": [
      "school    object\n",
      "sex       object\n",
      "age        int64\n",
      "G1         int64\n",
      "G2         int64\n",
      "G3         int64\n",
      "dtype: object\n"
     ]
    }
   ],
   "source": [
    "# Vérifiez les types de colonnes\n",
    "print(sub_data.dtypes)\n",
    "\n"
   ]
  },
  {
   "cell_type": "code",
   "execution_count": 15,
   "id": "ec145c50-e56d-4237-bd78-28672226a311",
   "metadata": {},
   "outputs": [
    {
     "name": "stdout",
     "output_type": "stream",
     "text": [
      "   school  sex  age  G1  G2  G3\n",
      "0       0    0   18   5   6   6\n",
      "1       0    0   17   5   5   6\n",
      "2       0    0   15   7   8  10\n",
      "3       0    0   15  15  14  15\n",
      "4       0    0   16   6  10  10\n"
     ]
    }
   ],
   "source": [
    "\n",
    "# Encodage des variables\n",
    "sub_data['school'] = sub_data['school'].map({'GP': 0, 'MS': 1})\n",
    "sub_data['sex'] = sub_data['sex'].map({'F': 0, 'M': 1})\n",
    "\n",
    "# Afficher le DataFrame final\n",
    "print(sub_data.head())"
   ]
  },
  {
   "cell_type": "markdown",
   "id": "4582f989-3458-4668-a821-e93489bb5238",
   "metadata": {},
   "source": [
    "# V. DIVISION DES DONNEES: Train et Test"
   ]
  },
  {
   "cell_type": "code",
   "execution_count": 16,
   "id": "0249503a-5216-4612-9c07-72f49e412917",
   "metadata": {},
   "outputs": [],
   "source": [
    "from sklearn.model_selection import train_test_split\n",
    "\n",
    "x = data[['school', 'sex', 'age', 'G1', 'G2']]\n",
    "y = data['G3']\n",
    "\n",
    "x_train, x_test, y_train, y_test = train_test_split(x, y, test_size=0.2, random_state=42)\n",
    "\n",
    "\n",
    "\n",
    "x = data.iloc[:,:-1]\n",
    "y = data.iloc[:,-1]"
   ]
  },
  {
   "cell_type": "code",
   "execution_count": 17,
   "id": "c84c8cd3-1bd1-43c0-a1ab-8f458a43c44b",
   "metadata": {},
   "outputs": [
    {
     "data": {
      "text/plain": [
       "<bound method Series.unique of 0       6\n",
       "1       6\n",
       "2      10\n",
       "3      15\n",
       "4      10\n",
       "       ..\n",
       "390     9\n",
       "391    16\n",
       "392     7\n",
       "393    10\n",
       "394     9\n",
       "Name: G3, Length: 395, dtype: int64>"
      ]
     },
     "execution_count": 17,
     "metadata": {},
     "output_type": "execute_result"
    }
   ],
   "source": [
    "y.unique"
   ]
  },
  {
   "cell_type": "code",
   "execution_count": 18,
   "id": "1ed1e1d8-24b3-4e2d-b91c-1b294f4c3e4e",
   "metadata": {},
   "outputs": [
    {
     "name": "stdout",
     "output_type": "stream",
     "text": [
      "X_train: (276, 32)\n",
      "X_test: (119, 32)\n",
      "Y_train: (276,)\n",
      "Y_test: (119,)\n"
     ]
    }
   ],
   "source": [
    "x_train,x_test, y_train, y_test= train_test_split(x, y, test_size=0.3, random_state=1)\n",
    "print(\"X_train:\", x_train.shape )\n",
    "print(\"X_test:\", x_test.shape )\n",
    "print(\"Y_train:\", y_train.shape )\n",
    "print(\"Y_test:\", y_test.shape )"
   ]
  },
  {
   "cell_type": "markdown",
   "id": "2aa09e05-3c51-47da-9493-2bed46914fb9",
   "metadata": {},
   "source": [
    "# VI. CONSTRUCTION DE Shallow Neural Network (Avec 4 Algo de ML)"
   ]
  },
  {
   "cell_type": "code",
   "execution_count": 19,
   "id": "48957d74-7c86-4183-a163-bfc63121d40c",
   "metadata": {},
   "outputs": [
    {
     "name": "stdout",
     "output_type": "stream",
     "text": [
      "                         MSE        R²\n",
      "Linear Regression  19.206193  0.063343\n",
      "Decision Tree      21.597091 -0.053257\n",
      "SVR                19.946343  0.027247\n",
      "Random Forest      19.906858  0.029173\n"
     ]
    }
   ],
   "source": [
    "import pandas as pd\n",
    "from sklearn.model_selection import train_test_split\n",
    "from sklearn.linear_model import LinearRegression\n",
    "from sklearn.tree import DecisionTreeRegressor\n",
    "from sklearn.svm import SVR\n",
    "from sklearn.ensemble import RandomForestRegressor\n",
    "from sklearn.metrics import mean_squared_error, r2_score\n",
    "\n",
    "# Supposons que vous avez déjà préparé votre DataFrame sub_data\n",
    "# Exemple : sub_data = ...\n",
    "\n",
    "# Définir les features et la target\n",
    "X = sub_data.drop(['G1', 'G2', 'G3'], axis=1)  # Remplacez par la colonne cible souhaitée\n",
    "y = sub_data['G3']  # Exemple avec G3 comme cible\n",
    "\n",
    "# Séparer les données en ensembles d'entraînement et de test\n",
    "X_train, X_test, y_train, y_test = train_test_split(X, y, test_size=0.2, random_state=42)\n",
    "\n",
    "# Modèles à utiliser\n",
    "models = {\n",
    "    'Linear Regression': LinearRegression(),\n",
    "    'Decision Tree': DecisionTreeRegressor(),\n",
    "    'SVR': SVR(),\n",
    "    'Random Forest': RandomForestRegressor()\n",
    "}\n",
    "\n",
    "# Dictionnaire pour stocker les résultats\n",
    "results = {}\n",
    "\n",
    "# Entraînement et évaluation des modèles\n",
    "for name, model in models.items():\n",
    "    model.fit(X_train, y_train)  # Entraînement\n",
    "    y_pred = model.predict(X_test)  # Prédiction\n",
    "    mse = mean_squared_error(y_test, y_pred)  # Calculer l'erreur quadratique moyenne\n",
    "    r2 = r2_score(y_test, y_pred)  # Calculer le R²-score\n",
    "    results[name] = {'MSE': mse, 'R²': r2}  # Stocker les résultats\n",
    "\n",
    "# Créer un DataFrame pour afficher les résultats\n",
    "results_df = pd.DataFrame(results).T  # Transposer pour avoir les modèles en lignes\n",
    "\n",
    "# Afficher le DataFrame\n",
    "print(results_df)"
   ]
  },
  {
   "cell_type": "code",
   "execution_count": 20,
   "id": "7e3ebc77-3693-41dd-8180-4bfb267c1ba0",
   "metadata": {},
   "outputs": [
    {
     "name": "stdout",
     "output_type": "stream",
     "text": [
      "               Model                                                MSE\n",
      "0  Linear Regression  {'MSE': 19.206193409695704, 'R²': 0.0633431292...\n",
      "1      Decision Tree  {'MSE': 21.597091249972028, 'R²': -0.053257325...\n",
      "2                SVR  {'MSE': 19.946343458530254, 'R²': 0.0272471358...\n",
      "3      Random Forest  {'MSE': 19.906858238521718, 'R²': 0.0291727700...\n"
     ]
    }
   ],
   "source": [
    "# Créer un DataFrame pour afficher les résultats\n",
    "results_df = pd.DataFrame(list(results.items()), columns=['Model', 'MSE'])\n",
    "\n",
    "# Afficher le DataFrame\n",
    "print(results_df)"
   ]
  },
  {
   "cell_type": "markdown",
   "id": "6a35a755-4520-4459-936b-f1c774a39f8a",
   "metadata": {},
   "source": [
    "### Shallow Neural Network"
   ]
  },
  {
   "cell_type": "code",
   "execution_count": 21,
   "id": "f624d7ac-af5e-42c2-bd55-ceec06987853",
   "metadata": {},
   "outputs": [
    {
     "name": "stdout",
     "output_type": "stream",
     "text": [
      "(316, 3)\n"
     ]
    }
   ],
   "source": [
    "print(X_train.shape)"
   ]
  },
  {
   "cell_type": "code",
   "execution_count": 22,
   "id": "1671c4f2-1edd-476c-abd8-680a18c4ff74",
   "metadata": {},
   "outputs": [
    {
     "data": {
      "text/html": [
       "<pre style=\"white-space:pre;overflow-x:auto;line-height:normal;font-family:Menlo,'DejaVu Sans Mono',consolas,'Courier New',monospace\"><span style=\"font-weight: bold\">Model: \"sequential\"</span>\n",
       "</pre>\n"
      ],
      "text/plain": [
       "\u001b[1mModel: \"sequential\"\u001b[0m\n"
      ]
     },
     "metadata": {},
     "output_type": "display_data"
    },
    {
     "data": {
      "text/html": [
       "<pre style=\"white-space:pre;overflow-x:auto;line-height:normal;font-family:Menlo,'DejaVu Sans Mono',consolas,'Courier New',monospace\">┏━━━━━━━━━━━━━━━━━━━━━━━━━━━━━━━━━┳━━━━━━━━━━━━━━━━━━━━━━━━┳━━━━━━━━━━━━━━━┓\n",
       "┃<span style=\"font-weight: bold\"> Layer (type)                    </span>┃<span style=\"font-weight: bold\"> Output Shape           </span>┃<span style=\"font-weight: bold\">       Param # </span>┃\n",
       "┡━━━━━━━━━━━━━━━━━━━━━━━━━━━━━━━━━╇━━━━━━━━━━━━━━━━━━━━━━━━╇━━━━━━━━━━━━━━━┩\n",
       "│ dense (<span style=\"color: #0087ff; text-decoration-color: #0087ff\">Dense</span>)                   │ (<span style=\"color: #00d7ff; text-decoration-color: #00d7ff\">None</span>, <span style=\"color: #00af00; text-decoration-color: #00af00\">64</span>)             │           <span style=\"color: #00af00; text-decoration-color: #00af00\">256</span> │\n",
       "├─────────────────────────────────┼────────────────────────┼───────────────┤\n",
       "│ dense_1 (<span style=\"color: #0087ff; text-decoration-color: #0087ff\">Dense</span>)                 │ (<span style=\"color: #00d7ff; text-decoration-color: #00d7ff\">None</span>, <span style=\"color: #00af00; text-decoration-color: #00af00\">128</span>)            │         <span style=\"color: #00af00; text-decoration-color: #00af00\">8,320</span> │\n",
       "├─────────────────────────────────┼────────────────────────┼───────────────┤\n",
       "│ dropout (<span style=\"color: #0087ff; text-decoration-color: #0087ff\">Dropout</span>)               │ (<span style=\"color: #00d7ff; text-decoration-color: #00d7ff\">None</span>, <span style=\"color: #00af00; text-decoration-color: #00af00\">128</span>)            │             <span style=\"color: #00af00; text-decoration-color: #00af00\">0</span> │\n",
       "├─────────────────────────────────┼────────────────────────┼───────────────┤\n",
       "│ dense_2 (<span style=\"color: #0087ff; text-decoration-color: #0087ff\">Dense</span>)                 │ (<span style=\"color: #00d7ff; text-decoration-color: #00d7ff\">None</span>, <span style=\"color: #00af00; text-decoration-color: #00af00\">64</span>)             │         <span style=\"color: #00af00; text-decoration-color: #00af00\">8,256</span> │\n",
       "├─────────────────────────────────┼────────────────────────┼───────────────┤\n",
       "│ dropout_1 (<span style=\"color: #0087ff; text-decoration-color: #0087ff\">Dropout</span>)             │ (<span style=\"color: #00d7ff; text-decoration-color: #00d7ff\">None</span>, <span style=\"color: #00af00; text-decoration-color: #00af00\">64</span>)             │             <span style=\"color: #00af00; text-decoration-color: #00af00\">0</span> │\n",
       "├─────────────────────────────────┼────────────────────────┼───────────────┤\n",
       "│ dense_3 (<span style=\"color: #0087ff; text-decoration-color: #0087ff\">Dense</span>)                 │ (<span style=\"color: #00d7ff; text-decoration-color: #00d7ff\">None</span>, <span style=\"color: #00af00; text-decoration-color: #00af00\">1</span>)              │            <span style=\"color: #00af00; text-decoration-color: #00af00\">65</span> │\n",
       "└─────────────────────────────────┴────────────────────────┴───────────────┘\n",
       "</pre>\n"
      ],
      "text/plain": [
       "┏━━━━━━━━━━━━━━━━━━━━━━━━━━━━━━━━━┳━━━━━━━━━━━━━━━━━━━━━━━━┳━━━━━━━━━━━━━━━┓\n",
       "┃\u001b[1m \u001b[0m\u001b[1mLayer (type)                   \u001b[0m\u001b[1m \u001b[0m┃\u001b[1m \u001b[0m\u001b[1mOutput Shape          \u001b[0m\u001b[1m \u001b[0m┃\u001b[1m \u001b[0m\u001b[1m      Param #\u001b[0m\u001b[1m \u001b[0m┃\n",
       "┡━━━━━━━━━━━━━━━━━━━━━━━━━━━━━━━━━╇━━━━━━━━━━━━━━━━━━━━━━━━╇━━━━━━━━━━━━━━━┩\n",
       "│ dense (\u001b[38;5;33mDense\u001b[0m)                   │ (\u001b[38;5;45mNone\u001b[0m, \u001b[38;5;34m64\u001b[0m)             │           \u001b[38;5;34m256\u001b[0m │\n",
       "├─────────────────────────────────┼────────────────────────┼───────────────┤\n",
       "│ dense_1 (\u001b[38;5;33mDense\u001b[0m)                 │ (\u001b[38;5;45mNone\u001b[0m, \u001b[38;5;34m128\u001b[0m)            │         \u001b[38;5;34m8,320\u001b[0m │\n",
       "├─────────────────────────────────┼────────────────────────┼───────────────┤\n",
       "│ dropout (\u001b[38;5;33mDropout\u001b[0m)               │ (\u001b[38;5;45mNone\u001b[0m, \u001b[38;5;34m128\u001b[0m)            │             \u001b[38;5;34m0\u001b[0m │\n",
       "├─────────────────────────────────┼────────────────────────┼───────────────┤\n",
       "│ dense_2 (\u001b[38;5;33mDense\u001b[0m)                 │ (\u001b[38;5;45mNone\u001b[0m, \u001b[38;5;34m64\u001b[0m)             │         \u001b[38;5;34m8,256\u001b[0m │\n",
       "├─────────────────────────────────┼────────────────────────┼───────────────┤\n",
       "│ dropout_1 (\u001b[38;5;33mDropout\u001b[0m)             │ (\u001b[38;5;45mNone\u001b[0m, \u001b[38;5;34m64\u001b[0m)             │             \u001b[38;5;34m0\u001b[0m │\n",
       "├─────────────────────────────────┼────────────────────────┼───────────────┤\n",
       "│ dense_3 (\u001b[38;5;33mDense\u001b[0m)                 │ (\u001b[38;5;45mNone\u001b[0m, \u001b[38;5;34m1\u001b[0m)              │            \u001b[38;5;34m65\u001b[0m │\n",
       "└─────────────────────────────────┴────────────────────────┴───────────────┘\n"
      ]
     },
     "metadata": {},
     "output_type": "display_data"
    },
    {
     "data": {
      "text/html": [
       "<pre style=\"white-space:pre;overflow-x:auto;line-height:normal;font-family:Menlo,'DejaVu Sans Mono',consolas,'Courier New',monospace\"><span style=\"font-weight: bold\"> Total params: </span><span style=\"color: #00af00; text-decoration-color: #00af00\">16,897</span> (66.00 KB)\n",
       "</pre>\n"
      ],
      "text/plain": [
       "\u001b[1m Total params: \u001b[0m\u001b[38;5;34m16,897\u001b[0m (66.00 KB)\n"
      ]
     },
     "metadata": {},
     "output_type": "display_data"
    },
    {
     "data": {
      "text/html": [
       "<pre style=\"white-space:pre;overflow-x:auto;line-height:normal;font-family:Menlo,'DejaVu Sans Mono',consolas,'Courier New',monospace\"><span style=\"font-weight: bold\"> Trainable params: </span><span style=\"color: #00af00; text-decoration-color: #00af00\">16,897</span> (66.00 KB)\n",
       "</pre>\n"
      ],
      "text/plain": [
       "\u001b[1m Trainable params: \u001b[0m\u001b[38;5;34m16,897\u001b[0m (66.00 KB)\n"
      ]
     },
     "metadata": {},
     "output_type": "display_data"
    },
    {
     "data": {
      "text/html": [
       "<pre style=\"white-space:pre;overflow-x:auto;line-height:normal;font-family:Menlo,'DejaVu Sans Mono',consolas,'Courier New',monospace\"><span style=\"font-weight: bold\"> Non-trainable params: </span><span style=\"color: #00af00; text-decoration-color: #00af00\">0</span> (0.00 B)\n",
       "</pre>\n"
      ],
      "text/plain": [
       "\u001b[1m Non-trainable params: \u001b[0m\u001b[38;5;34m0\u001b[0m (0.00 B)\n"
      ]
     },
     "metadata": {},
     "output_type": "display_data"
    },
    {
     "name": "stdout",
     "output_type": "stream",
     "text": [
      "Epoch 1/50\n",
      "\u001b[1m10/10\u001b[0m \u001b[32m━━━━━━━━━━━━━━━━━━━━\u001b[0m\u001b[37m\u001b[0m \u001b[1m1s\u001b[0m 19ms/step - loss: 72.9615 - mae: 7.5553 - val_loss: 23.0272 - val_mae: 3.8903\n",
      "Epoch 2/50\n",
      "\u001b[1m10/10\u001b[0m \u001b[32m━━━━━━━━━━━━━━━━━━━━\u001b[0m\u001b[37m\u001b[0m \u001b[1m0s\u001b[0m 6ms/step - loss: 32.3989 - mae: 4.2792 - val_loss: 23.2210 - val_mae: 3.9105\n",
      "Epoch 3/50\n",
      "\u001b[1m10/10\u001b[0m \u001b[32m━━━━━━━━━━━━━━━━━━━━\u001b[0m\u001b[37m\u001b[0m \u001b[1m0s\u001b[0m 6ms/step - loss: 30.4342 - mae: 4.2206 - val_loss: 29.7504 - val_mae: 4.5098\n",
      "Epoch 4/50\n",
      "\u001b[1m10/10\u001b[0m \u001b[32m━━━━━━━━━━━━━━━━━━━━\u001b[0m\u001b[37m\u001b[0m \u001b[1m0s\u001b[0m 6ms/step - loss: 26.7809 - mae: 4.2619 - val_loss: 25.1327 - val_mae: 4.0827\n",
      "Epoch 5/50\n",
      "\u001b[1m10/10\u001b[0m \u001b[32m━━━━━━━━━━━━━━━━━━━━\u001b[0m\u001b[37m\u001b[0m \u001b[1m0s\u001b[0m 6ms/step - loss: 31.0146 - mae: 4.3026 - val_loss: 24.0645 - val_mae: 3.9883\n",
      "Epoch 6/50\n",
      "\u001b[1m10/10\u001b[0m \u001b[32m━━━━━━━━━━━━━━━━━━━━\u001b[0m\u001b[37m\u001b[0m \u001b[1m0s\u001b[0m 6ms/step - loss: 32.2612 - mae: 4.4119 - val_loss: 27.1733 - val_mae: 4.2855\n",
      "Epoch 7/50\n",
      "\u001b[1m10/10\u001b[0m \u001b[32m━━━━━━━━━━━━━━━━━━━━\u001b[0m\u001b[37m\u001b[0m \u001b[1m0s\u001b[0m 6ms/step - loss: 30.5021 - mae: 4.3806 - val_loss: 26.5281 - val_mae: 4.2274\n",
      "Epoch 8/50\n",
      "\u001b[1m10/10\u001b[0m \u001b[32m━━━━━━━━━━━━━━━━━━━━\u001b[0m\u001b[37m\u001b[0m \u001b[1m0s\u001b[0m 6ms/step - loss: 25.3345 - mae: 3.9933 - val_loss: 23.7507 - val_mae: 3.9594\n",
      "Epoch 9/50\n",
      "\u001b[1m10/10\u001b[0m \u001b[32m━━━━━━━━━━━━━━━━━━━━\u001b[0m\u001b[37m\u001b[0m \u001b[1m0s\u001b[0m 6ms/step - loss: 28.1990 - mae: 3.9922 - val_loss: 26.7703 - val_mae: 4.2512\n",
      "Epoch 10/50\n",
      "\u001b[1m10/10\u001b[0m \u001b[32m━━━━━━━━━━━━━━━━━━━━\u001b[0m\u001b[37m\u001b[0m \u001b[1m0s\u001b[0m 6ms/step - loss: 25.6823 - mae: 4.0051 - val_loss: 25.3033 - val_mae: 4.1130\n",
      "Epoch 11/50\n",
      "\u001b[1m10/10\u001b[0m \u001b[32m━━━━━━━━━━━━━━━━━━━━\u001b[0m\u001b[37m\u001b[0m \u001b[1m0s\u001b[0m 6ms/step - loss: 25.5456 - mae: 3.8781 - val_loss: 25.3520 - val_mae: 4.1162\n",
      "Epoch 12/50\n",
      "\u001b[1m10/10\u001b[0m \u001b[32m━━━━━━━━━━━━━━━━━━━━\u001b[0m\u001b[37m\u001b[0m \u001b[1m0s\u001b[0m 6ms/step - loss: 26.0935 - mae: 3.9277 - val_loss: 26.7410 - val_mae: 4.2499\n",
      "Epoch 13/50\n",
      "\u001b[1m10/10\u001b[0m \u001b[32m━━━━━━━━━━━━━━━━━━━━\u001b[0m\u001b[37m\u001b[0m \u001b[1m0s\u001b[0m 6ms/step - loss: 28.5544 - mae: 4.1238 - val_loss: 25.5116 - val_mae: 4.1341\n",
      "Epoch 14/50\n",
      "\u001b[1m10/10\u001b[0m \u001b[32m━━━━━━━━━━━━━━━━━━━━\u001b[0m\u001b[37m\u001b[0m \u001b[1m0s\u001b[0m 6ms/step - loss: 26.6207 - mae: 3.9042 - val_loss: 26.0633 - val_mae: 4.1879\n",
      "Epoch 15/50\n",
      "\u001b[1m10/10\u001b[0m \u001b[32m━━━━━━━━━━━━━━━━━━━━\u001b[0m\u001b[37m\u001b[0m \u001b[1m0s\u001b[0m 6ms/step - loss: 27.8468 - mae: 4.1262 - val_loss: 27.1631 - val_mae: 4.2878\n",
      "Epoch 16/50\n",
      "\u001b[1m10/10\u001b[0m \u001b[32m━━━━━━━━━━━━━━━━━━━━\u001b[0m\u001b[37m\u001b[0m \u001b[1m0s\u001b[0m 6ms/step - loss: 26.3520 - mae: 3.9559 - val_loss: 26.0870 - val_mae: 4.1911\n",
      "Epoch 17/50\n",
      "\u001b[1m10/10\u001b[0m \u001b[32m━━━━━━━━━━━━━━━━━━━━\u001b[0m\u001b[37m\u001b[0m \u001b[1m0s\u001b[0m 6ms/step - loss: 28.6035 - mae: 4.1682 - val_loss: 26.7430 - val_mae: 4.2513\n",
      "Epoch 18/50\n",
      "\u001b[1m10/10\u001b[0m \u001b[32m━━━━━━━━━━━━━━━━━━━━\u001b[0m\u001b[37m\u001b[0m \u001b[1m0s\u001b[0m 6ms/step - loss: 22.4505 - mae: 3.6381 - val_loss: 25.5705 - val_mae: 4.1448\n",
      "Epoch 19/50\n",
      "\u001b[1m10/10\u001b[0m \u001b[32m━━━━━━━━━━━━━━━━━━━━\u001b[0m\u001b[37m\u001b[0m \u001b[1m0s\u001b[0m 6ms/step - loss: 23.9099 - mae: 3.7855 - val_loss: 26.0362 - val_mae: 4.1896\n",
      "Epoch 20/50\n",
      "\u001b[1m10/10\u001b[0m \u001b[32m━━━━━━━━━━━━━━━━━━━━\u001b[0m\u001b[37m\u001b[0m \u001b[1m0s\u001b[0m 6ms/step - loss: 25.1388 - mae: 3.8451 - val_loss: 28.5659 - val_mae: 4.4139\n",
      "Epoch 21/50\n",
      "\u001b[1m10/10\u001b[0m \u001b[32m━━━━━━━━━━━━━━━━━━━━\u001b[0m\u001b[37m\u001b[0m \u001b[1m0s\u001b[0m 6ms/step - loss: 27.1032 - mae: 4.0948 - val_loss: 24.2342 - val_mae: 4.0012\n",
      "Epoch 22/50\n",
      "\u001b[1m10/10\u001b[0m \u001b[32m━━━━━━━━━━━━━━━━━━━━\u001b[0m\u001b[37m\u001b[0m \u001b[1m0s\u001b[0m 6ms/step - loss: 23.8223 - mae: 3.7625 - val_loss: 27.9000 - val_mae: 4.3511\n",
      "Epoch 23/50\n",
      "\u001b[1m10/10\u001b[0m \u001b[32m━━━━━━━━━━━━━━━━━━━━\u001b[0m\u001b[37m\u001b[0m \u001b[1m0s\u001b[0m 8ms/step - loss: 25.7058 - mae: 3.9751 - val_loss: 25.7272 - val_mae: 4.1612\n",
      "Epoch 24/50\n",
      "\u001b[1m10/10\u001b[0m \u001b[32m━━━━━━━━━━━━━━━━━━━━\u001b[0m\u001b[37m\u001b[0m \u001b[1m0s\u001b[0m 6ms/step - loss: 24.5188 - mae: 3.7460 - val_loss: 24.7201 - val_mae: 4.0586\n",
      "Epoch 25/50\n",
      "\u001b[1m10/10\u001b[0m \u001b[32m━━━━━━━━━━━━━━━━━━━━\u001b[0m\u001b[37m\u001b[0m \u001b[1m0s\u001b[0m 6ms/step - loss: 31.9250 - mae: 4.3781 - val_loss: 28.1902 - val_mae: 4.3833\n",
      "Epoch 26/50\n",
      "\u001b[1m10/10\u001b[0m \u001b[32m━━━━━━━━━━━━━━━━━━━━\u001b[0m\u001b[37m\u001b[0m \u001b[1m0s\u001b[0m 6ms/step - loss: 26.2663 - mae: 3.9806 - val_loss: 24.5520 - val_mae: 4.0465\n",
      "Epoch 27/50\n",
      "\u001b[1m10/10\u001b[0m \u001b[32m━━━━━━━━━━━━━━━━━━━━\u001b[0m\u001b[37m\u001b[0m \u001b[1m0s\u001b[0m 6ms/step - loss: 23.3106 - mae: 3.6076 - val_loss: 27.3071 - val_mae: 4.3023\n",
      "Epoch 28/50\n",
      "\u001b[1m10/10\u001b[0m \u001b[32m━━━━━━━━━━━━━━━━━━━━\u001b[0m\u001b[37m\u001b[0m \u001b[1m0s\u001b[0m 6ms/step - loss: 24.8338 - mae: 3.8829 - val_loss: 27.3684 - val_mae: 4.3081\n",
      "Epoch 29/50\n",
      "\u001b[1m10/10\u001b[0m \u001b[32m━━━━━━━━━━━━━━━━━━━━\u001b[0m\u001b[37m\u001b[0m \u001b[1m0s\u001b[0m 6ms/step - loss: 24.0910 - mae: 3.7738 - val_loss: 25.3453 - val_mae: 4.1304\n",
      "Epoch 30/50\n",
      "\u001b[1m10/10\u001b[0m \u001b[32m━━━━━━━━━━━━━━━━━━━━\u001b[0m\u001b[37m\u001b[0m \u001b[1m0s\u001b[0m 6ms/step - loss: 25.1584 - mae: 3.8957 - val_loss: 26.5945 - val_mae: 4.2429\n",
      "Epoch 31/50\n",
      "\u001b[1m10/10\u001b[0m \u001b[32m━━━━━━━━━━━━━━━━━━━━\u001b[0m\u001b[37m\u001b[0m \u001b[1m0s\u001b[0m 6ms/step - loss: 27.2368 - mae: 4.0576 - val_loss: 24.3507 - val_mae: 4.0294\n",
      "Epoch 32/50\n",
      "\u001b[1m10/10\u001b[0m \u001b[32m━━━━━━━━━━━━━━━━━━━━\u001b[0m\u001b[37m\u001b[0m \u001b[1m0s\u001b[0m 6ms/step - loss: 24.1318 - mae: 3.7984 - val_loss: 25.7907 - val_mae: 4.1744\n",
      "Epoch 33/50\n",
      "\u001b[1m10/10\u001b[0m \u001b[32m━━━━━━━━━━━━━━━━━━━━\u001b[0m\u001b[37m\u001b[0m \u001b[1m0s\u001b[0m 6ms/step - loss: 23.7505 - mae: 3.7864 - val_loss: 26.4918 - val_mae: 4.2355\n",
      "Epoch 34/50\n",
      "\u001b[1m10/10\u001b[0m \u001b[32m━━━━━━━━━━━━━━━━━━━━\u001b[0m\u001b[37m\u001b[0m \u001b[1m0s\u001b[0m 6ms/step - loss: 25.7661 - mae: 3.9750 - val_loss: 24.8467 - val_mae: 4.0836\n",
      "Epoch 35/50\n",
      "\u001b[1m10/10\u001b[0m \u001b[32m━━━━━━━━━━━━━━━━━━━━\u001b[0m\u001b[37m\u001b[0m \u001b[1m0s\u001b[0m 6ms/step - loss: 23.5656 - mae: 3.5357 - val_loss: 24.7155 - val_mae: 4.0704\n",
      "Epoch 36/50\n",
      "\u001b[1m10/10\u001b[0m \u001b[32m━━━━━━━━━━━━━━━━━━━━\u001b[0m\u001b[37m\u001b[0m \u001b[1m0s\u001b[0m 6ms/step - loss: 24.2725 - mae: 3.7992 - val_loss: 27.0223 - val_mae: 4.2800\n",
      "Epoch 37/50\n",
      "\u001b[1m10/10\u001b[0m \u001b[32m━━━━━━━━━━━━━━━━━━━━\u001b[0m\u001b[37m\u001b[0m \u001b[1m0s\u001b[0m 6ms/step - loss: 25.2663 - mae: 3.9748 - val_loss: 25.8878 - val_mae: 4.1844\n",
      "Epoch 38/50\n",
      "\u001b[1m10/10\u001b[0m \u001b[32m━━━━━━━━━━━━━━━━━━━━\u001b[0m\u001b[37m\u001b[0m \u001b[1m0s\u001b[0m 6ms/step - loss: 23.1841 - mae: 3.7304 - val_loss: 25.0669 - val_mae: 4.1084\n",
      "Epoch 39/50\n",
      "\u001b[1m10/10\u001b[0m \u001b[32m━━━━━━━━━━━━━━━━━━━━\u001b[0m\u001b[37m\u001b[0m \u001b[1m0s\u001b[0m 6ms/step - loss: 21.5928 - mae: 3.6244 - val_loss: 26.2749 - val_mae: 4.2185\n",
      "Epoch 40/50\n",
      "\u001b[1m10/10\u001b[0m \u001b[32m━━━━━━━━━━━━━━━━━━━━\u001b[0m\u001b[37m\u001b[0m \u001b[1m0s\u001b[0m 6ms/step - loss: 23.8133 - mae: 3.7929 - val_loss: 24.9579 - val_mae: 4.0992\n",
      "Epoch 41/50\n",
      "\u001b[1m10/10\u001b[0m \u001b[32m━━━━━━━━━━━━━━━━━━━━\u001b[0m\u001b[37m\u001b[0m \u001b[1m0s\u001b[0m 6ms/step - loss: 23.3582 - mae: 3.7161 - val_loss: 25.2511 - val_mae: 4.1283\n",
      "Epoch 42/50\n",
      "\u001b[1m10/10\u001b[0m \u001b[32m━━━━━━━━━━━━━━━━━━━━\u001b[0m\u001b[37m\u001b[0m \u001b[1m0s\u001b[0m 6ms/step - loss: 24.9401 - mae: 3.7109 - val_loss: 25.5887 - val_mae: 4.1599\n",
      "Epoch 43/50\n",
      "\u001b[1m10/10\u001b[0m \u001b[32m━━━━━━━━━━━━━━━━━━━━\u001b[0m\u001b[37m\u001b[0m \u001b[1m0s\u001b[0m 6ms/step - loss: 24.6752 - mae: 3.8203 - val_loss: 25.0465 - val_mae: 4.1095\n",
      "Epoch 44/50\n",
      "\u001b[1m10/10\u001b[0m \u001b[32m━━━━━━━━━━━━━━━━━━━━\u001b[0m\u001b[37m\u001b[0m \u001b[1m0s\u001b[0m 6ms/step - loss: 26.4152 - mae: 3.9123 - val_loss: 25.8522 - val_mae: 4.1840\n",
      "Epoch 45/50\n",
      "\u001b[1m10/10\u001b[0m \u001b[32m━━━━━━━━━━━━━━━━━━━━\u001b[0m\u001b[37m\u001b[0m \u001b[1m0s\u001b[0m 6ms/step - loss: 22.3232 - mae: 3.6729 - val_loss: 25.5730 - val_mae: 4.1589\n",
      "Epoch 46/50\n",
      "\u001b[1m10/10\u001b[0m \u001b[32m━━━━━━━━━━━━━━━━━━━━\u001b[0m\u001b[37m\u001b[0m \u001b[1m0s\u001b[0m 6ms/step - loss: 25.5831 - mae: 3.9590 - val_loss: 27.5278 - val_mae: 4.3433\n",
      "Epoch 47/50\n",
      "\u001b[1m10/10\u001b[0m \u001b[32m━━━━━━━━━━━━━━━━━━━━\u001b[0m\u001b[37m\u001b[0m \u001b[1m0s\u001b[0m 6ms/step - loss: 27.7424 - mae: 4.0983 - val_loss: 24.2728 - val_mae: 4.0358\n",
      "Epoch 48/50\n",
      "\u001b[1m10/10\u001b[0m \u001b[32m━━━━━━━━━━━━━━━━━━━━\u001b[0m\u001b[37m\u001b[0m \u001b[1m0s\u001b[0m 6ms/step - loss: 24.9470 - mae: 3.9049 - val_loss: 25.7395 - val_mae: 4.1747\n",
      "Epoch 49/50\n",
      "\u001b[1m10/10\u001b[0m \u001b[32m━━━━━━━━━━━━━━━━━━━━\u001b[0m\u001b[37m\u001b[0m \u001b[1m0s\u001b[0m 6ms/step - loss: 25.7696 - mae: 3.9178 - val_loss: 24.8745 - val_mae: 4.0954\n",
      "Epoch 50/50\n",
      "\u001b[1m10/10\u001b[0m \u001b[32m━━━━━━━━━━━━━━━━━━━━\u001b[0m\u001b[37m\u001b[0m \u001b[1m0s\u001b[0m 6ms/step - loss: 25.9451 - mae: 3.8730 - val_loss: 24.7614 - val_mae: 4.0854\n"
     ]
    }
   ],
   "source": [
    "\n",
    "from keras.models import Sequential\n",
    "from keras.layers import Dense, Dropout\n",
    "from keras.optimizers import Adam\n",
    "\n",
    "# Définition du modèle DNN pour la régression\n",
    "model_dnn = Sequential()\n",
    "model_dnn.add(Dense(64, input_dim=3, activation='relu'))  # Couche d'entrée\n",
    "\n",
    "# Couche intermédiaire 1\n",
    "model_dnn.add(Dense(128, activation='relu'))\n",
    "model_dnn.add(Dropout(0.5))  # Dropout pour éviter le surapprentissage\n",
    "\n",
    "# Couche intermédiaire 2\n",
    "model_dnn.add(Dense(64, activation='relu'))\n",
    "model_dnn.add(Dropout(0.2))  # Dropout pour éviter le surapprentissage\n",
    "\n",
    "# Couche de sortie pour la régression\n",
    "model_dnn.add(Dense(1))  # Pas d'activation pour la régression linéaire\n",
    "\n",
    "# Compilation du modèle\n",
    "model_dnn.compile(optimizer=Adam(), loss='mean_squared_error', metrics=['mae'])\n",
    "# AFFICHAGE DE L'AQRCHITECTURE DU Rx DE NEURONE\n",
    "model_dnn.summary()\n",
    "\n",
    "\n",
    "\n",
    "\n",
    "\n",
    "\n",
    "\n",
    "# Entraînement du modèle\n",
    "history = model_dnn.fit(X_train, y_train, epochs=50, verbose=1, validation_data=(X_test, y_test))\n",
    "\n",
    "\n",
    "\n",
    "\n",
    "\n",
    "\n"
   ]
  },
  {
   "cell_type": "markdown",
   "id": "379f51e5-a286-4c29-b651-8c6f2e445a98",
   "metadata": {},
   "source": [
    "# VII. VISUALISATION DE L'EVOLUTION DE L'ENTRAINEMENT DU Rx DE NEURONE"
   ]
  },
  {
   "cell_type": "code",
   "execution_count": 23,
   "id": "35cf34cb-7fc5-4977-a2ec-4565ec75e8b1",
   "metadata": {},
   "outputs": [
    {
     "data": {
      "image/png": "[encoded data removed]",
      "text/plain": [
       "<Figure size 640x480 with 1 Axes>"
      ]
     },
     "metadata": {},
     "output_type": "display_data"
    }
   ],
   "source": [
    "import matplotlib.pyplot as plt\n",
    "\n",
    "plt.plot(history.history['loss'], label='Training Loss')\n",
    "plt.plot(history.history['val_loss'], label='Validation Loss')\n",
    "plt.title('Loss au-dèlà de Epochs')\n",
    "plt.xlabel('Epochs')\n",
    "plt.ylabel('Loss')\n",
    "plt.legend()\n",
    "plt.show()"
   ]
  },
  {
   "cell_type": "markdown",
   "id": "24451358-bb3b-4814-8928-915da43dfa2a",
   "metadata": {},
   "source": [
    "# VIII. EVALUATION DU MODELE"
   ]
  },
  {
   "cell_type": "code",
   "execution_count": 24,
   "id": "b8f2a859-9aab-48b3-bef4-ff5ebe3ec3ba",
   "metadata": {},
   "outputs": [
    {
     "name": "stdout",
     "output_type": "stream",
     "text": [
      "\u001b[1m3/3\u001b[0m \u001b[32m━━━━━━━━━━━━━━━━━━━━\u001b[0m\u001b[37m\u001b[0m \u001b[1m0s\u001b[0m 26ms/step\n",
      "Mean Squared Error (MSE): 24.761364288388098\n",
      "Mean Absolute Error (MAE): 4.08538295649275\n",
      "R² Score: -0.20757389068603516\n"
     ]
    },
    {
     "data": {
      "image/png": "[encoded data removed]",
      "text/plain": [
       "<Figure size 1000x500 with 1 Axes>"
      ]
     },
     "metadata": {},
     "output_type": "display_data"
    }
   ],
   "source": [
    "import matplotlib.pyplot as plt\n",
    "from sklearn.metrics import mean_squared_error, mean_absolute_error, r2_score\n",
    "\n",
    "# Évaluation sur l'ensemble de test\n",
    "y_pred = model_dnn.predict(X_test)\n",
    "\n",
    "# Calcul des métriques\n",
    "mse = mean_squared_error(y_test, y_pred)\n",
    "mae = mean_absolute_error(y_test, y_pred)\n",
    "r2 = r2_score(y_test, y_pred)\n",
    "\n",
    "# Affichage des résultats\n",
    "print(\"Mean Squared Error (MSE):\", mse)\n",
    "print(\"Mean Absolute Error (MAE):\", mae)\n",
    "print(\"R² Score:\", r2)\n",
    "\n",
    "# Graphique des prédictions\n",
    "plt.figure(figsize=(10, 5))\n",
    "plt.scatter(y_test, y_pred, alpha=0.7)\n",
    "plt.plot([y_test.min(), y_test.max()], [y_test.min(), y_test.max()], 'r--', lw=2)\n",
    "plt.xlabel('Valeurs Réelles')\n",
    "plt.ylabel('Valeurs Prédites')\n",
    "plt.title('Comparaison des Valeurs Réelles et Prédites')\n",
    "plt.show()"
   ]
  },
  {
   "cell_type": "markdown",
   "id": "11401833-6412-437a-9523-a8336c1be1b4",
   "metadata": {},
   "source": [
    "# PARTIE 2: CLASSIFICATION"
   ]
  },
  {
   "cell_type": "code",
   "execution_count": 44,
   "id": "ad2b1006-daa7-4b69-b590-0abd23ce09c0",
   "metadata": {},
   "outputs": [],
   "source": [
    "import pandas as pd\n",
    "import numpy as np\n",
    "from sklearn.model_selection import train_test_split\n",
    "from sklearn.preprocessing import StandardScaler\n",
    "from sklearn.neighbors import KNeighborsClassifier\n",
    "from sklearn.tree import DecisionTreeClassifier\n",
    "from sklearn.svm import SVC\n",
    "from sklearn.linear_model import LogisticRegression\n",
    "from sklearn.neural_network import MLPClassifier\n",
    "from sklearn.metrics import accuracy_score, precision_score, recall_score, f1_score, classification_report, confusion_matrix, mean_squared_error # Ajout de mean_squared_error\n"
   ]
  },
  {
   "cell_type": "code",
   "execution_count": 45,
   "id": "90f2a64c-0f52-4e47-a470-320799172e9c",
   "metadata": {},
   "outputs": [],
   "source": [
    "# --- 1. Simulation de sub_data (À REMPLACER PAR VOTRE VRAI DATAFRAME sub_data) ---\n",
    "np.random.seed(42)\n",
    "num_samples = 200\n",
    "data = {\n",
    "    'feature_1': np.random.rand(num_samples) * 100,\n",
    "    'feature_2': np.random.rand(num_samples) * 50,\n",
    "    'G1': np.random.randint(0, 21, num_samples),\n",
    "    'G2': np.random.randint(0, 21, num_samples),\n",
    "    'G3': np.random.randint(0, 21, num_samples) # Simule une note G3 continue de 0 à 20\n",
    "}\n",
    "sub_data = pd.DataFrame(data)"
   ]
  },
  {
   "cell_type": "code",
   "execution_count": 46,
   "id": "195e1831-e181-4363-9ad8-30b6acdcc94f",
   "metadata": {},
   "outputs": [
    {
     "name": "stdout",
     "output_type": "stream",
     "text": [
      "Distribution des classes dans la variable cible (y):\n",
      "G3_category\n",
      "0    103\n",
      "2     51\n",
      "1     46\n",
      "Name: count, dtype: int64\n"
     ]
    }
   ],
   "source": [
    "# --- 2. Transformation de la variable cible 'G3' en catégories ---\n",
    "bins = [-1, 9.99, 14.99, 21]\n",
    "labels = [0, 1, 2]\n",
    "sub_data['G3_category'] = pd.cut(sub_data['G3'], bins=bins, labels=labels, right=False, include_lowest=True).astype(int)\n",
    "\n",
    "# Définir les features (X) et la target (y)\n",
    "X = sub_data.drop(['G1', 'G2', 'G3', 'G3_category'], axis=1)\n",
    "y = sub_data['G3_category']\n",
    "\n",
    "print(f\"Distribution des classes dans la variable cible (y):\\n{y.value_counts()}\")"
   ]
  },
  {
   "cell_type": "code",
   "execution_count": 47,
   "id": "71afd39d-3e3c-4af0-9232-a6b11e052f7a",
   "metadata": {},
   "outputs": [],
   "source": [
    "# --- 3. Séparer les données en ensembles d'entraînement et de test ---\n",
    "X_train, X_test, y_train, y_test = train_test_split(X, y, test_size=0.2, random_state=42, stratify=y)\n"
   ]
  },
  {
   "cell_type": "code",
   "execution_count": 48,
   "id": "a3e4e5ed-8193-4768-8af6-8f433b6064a4",
   "metadata": {},
   "outputs": [],
   "source": [
    "# --- 4. Prétraitement des données : Standardisation ---\n",
    "scaler = StandardScaler()\n",
    "X_train_scaled = scaler.fit_transform(X_train)\n",
    "X_test_scaled = scaler.transform(X_test)"
   ]
  },
  {
   "cell_type": "code",
   "execution_count": 49,
   "id": "a4c9be7a-ede9-47bc-9da6-f9f459fbffc5",
   "metadata": {},
   "outputs": [],
   "source": [
    "# --- 5. Modèles de Classification à utiliser ---\n",
    "models = {\n",
    "    'K-Nearest Neighbors': KNeighborsClassifier(n_neighbors=5),\n",
    "    'Decision Tree': DecisionTreeClassifier(random_state=42, max_depth=5),\n",
    "    'SVM': SVC(kernel='rbf', C=1.0, random_state=42),\n",
    "    'Logistic Regression': LogisticRegression(solver='liblinear', random_state=42, multi_class='auto'),\n",
    "    'Shallow Neural Network': MLPClassifier(hidden_layer_sizes=(100,), activation='relu', solver='adam', max_iter=500, random_state=42)\n",
    "}\n",
    "\n",
    "# Dictionnaire pour stocker les résultats\n",
    "results = {}"
   ]
  },
  {
   "cell_type": "code",
   "execution_count": 50,
   "id": "7505cbea-acd0-4452-a769-fda5db608037",
   "metadata": {},
   "outputs": [
    {
     "name": "stdout",
     "output_type": "stream",
     "text": [
      "\n",
      "--- Résultats de la Classification ---\n",
      "\n",
      "Entraînement et évaluation du modèle : K-Nearest Neighbors\n",
      "Précision (Accuracy): 0.5000\n",
      "MSE: 0.8750\n",
      "Rapport de Classification :\n",
      "              precision    recall  f1-score   support\n",
      "\n",
      "           0       0.62      0.76      0.68        21\n",
      "           1       0.12      0.11      0.12         9\n",
      "           2       0.50      0.30      0.38        10\n",
      "\n",
      "    accuracy                           0.50        40\n",
      "   macro avg       0.41      0.39      0.39        40\n",
      "weighted avg       0.48      0.50      0.48        40\n",
      "\n",
      "Matrice de Confusion :\n",
      "[[16  3  2]\n",
      " [ 7  1  1]\n",
      " [ 3  4  3]]\n",
      "\n",
      "Entraînement et évaluation du modèle : Decision Tree\n",
      "Précision (Accuracy): 0.5750\n",
      "MSE: 0.5750\n",
      "Rapport de Classification :\n",
      "              precision    recall  f1-score   support\n",
      "\n",
      "           0       0.68      0.81      0.74        21\n",
      "           1       0.20      0.22      0.21         9\n",
      "           2       0.80      0.40      0.53        10\n",
      "\n",
      "    accuracy                           0.57        40\n",
      "   macro avg       0.56      0.48      0.49        40\n",
      "weighted avg       0.60      0.57      0.57        40\n",
      "\n",
      "Matrice de Confusion :\n",
      "[[17  4  0]\n",
      " [ 6  2  1]\n",
      " [ 2  4  4]]\n",
      "\n",
      "Entraînement et évaluation du modèle : SVM\n",
      "Précision (Accuracy): 0.5250\n",
      "MSE: 1.2250\n",
      "Rapport de Classification :\n",
      "              precision    recall  f1-score   support\n",
      "\n",
      "           0       0.53      1.00      0.69        21\n",
      "           1       0.00      0.00      0.00         9\n",
      "           2       0.00      0.00      0.00        10\n",
      "\n",
      "    accuracy                           0.53        40\n",
      "   macro avg       0.18      0.33      0.23        40\n",
      "weighted avg       0.28      0.53      0.36        40\n",
      "\n",
      "Matrice de Confusion :\n",
      "[[21  0  0]\n",
      " [ 9  0  0]\n",
      " [10  0  0]]\n",
      "\n",
      "Entraînement et évaluation du modèle : Logistic Regression\n",
      "Précision (Accuracy): 0.4500\n",
      "MSE: 1.5250\n",
      "Rapport de Classification :\n",
      "              precision    recall  f1-score   support\n",
      "\n",
      "           0       0.49      0.81      0.61        21\n",
      "           1       0.00      0.00      0.00         9\n",
      "           2       0.20      0.10      0.13        10\n",
      "\n",
      "    accuracy                           0.45        40\n",
      "   macro avg       0.23      0.30      0.25        40\n",
      "weighted avg       0.30      0.45      0.35        40\n",
      "\n",
      "Matrice de Confusion :\n",
      "[[17  0  4]\n",
      " [ 9  0  0]\n",
      " [ 9  0  1]]\n",
      "\n",
      "Entraînement et évaluation du modèle : Shallow Neural Network\n",
      "Précision (Accuracy): 0.5500\n",
      "MSE: 0.9750\n",
      "Rapport de Classification :\n",
      "              precision    recall  f1-score   support\n",
      "\n",
      "           0       0.57      0.95      0.71        21\n",
      "           1       0.00      0.00      0.00         9\n",
      "           2       0.67      0.20      0.31        10\n",
      "\n",
      "    accuracy                           0.55        40\n",
      "   macro avg       0.41      0.38      0.34        40\n",
      "weighted avg       0.47      0.55      0.45        40\n",
      "\n",
      "Matrice de Confusion :\n",
      "[[20  1  0]\n",
      " [ 8  0  1]\n",
      " [ 7  1  2]]\n"
     ]
    }
   ],
   "source": [
    "# --- 6. Entraînement et Évaluation des Modèles de Classification ---\n",
    "print(\"\\n--- Résultats de la Classification ---\")\n",
    "for name, model in models.items():\n",
    "    print(f\"\\nEntraînement et évaluation du modèle : {name}\")\n",
    "\n",
    "    if name == 'Decision Tree':\n",
    "        model.fit(X_train, y_train)\n",
    "        y_pred = model.predict(X_test)\n",
    "    else:\n",
    "        model.fit(X_train_scaled, y_train)\n",
    "        y_pred = model.predict(X_test_scaled)\n",
    "\n",
    "    # Calculer les métriques d'évaluation de la classification\n",
    "    accuracy = accuracy_score(y_test, y_pred)\n",
    "    precision = precision_score(y_test, y_pred, average='weighted', zero_division=0)\n",
    "    recall = recall_score(y_test, y_pred, average='weighted', zero_division=0)\n",
    "    f1 = f1_score(y_test, y_pred, average='weighted', zero_division=0)\n",
    "    \n",
    "    # Calcul du Mean Squared Error (MSE)\n",
    "    mse = mean_squared_error(y_test, y_pred) # Calculé sur les étiquettes numériques (0, 1, 2)\n",
    "\n",
    "    # AJOUT DU MSE AU DICTIONNAIRE results POUR LE TABLEAU FINAL\n",
    "    results[name] = {\n",
    "        'Accuracy': accuracy,\n",
    "        'Precision': precision,\n",
    "        'Recall': recall,\n",
    "        'F1-Score': f1,\n",
    "        'MSE': mse # <-- C'est l'ajout manquant pour le tableau récapitulatif\n",
    "    }\n",
    "\n",
    "    # Afficher les métriques pour chaque modèle individuellement\n",
    "    print(f\"Précision (Accuracy): {accuracy:.4f}\")\n",
    "    print(f\"MSE: {mse:.4f}\")\n",
    "    print(f\"Rapport de Classification :\\n{classification_report(y_test, y_pred, zero_division=0)}\")\n",
    "    print(f\"Matrice de Confusion :\\n{confusion_matrix(y_test, y_pred)}\")\n"
   ]
  },
  {
   "cell_type": "code",
   "execution_count": 52,
   "id": "2ba9a30b-bf16-4f1b-bb2b-2289184626a1",
   "metadata": {},
   "outputs": [
    {
     "name": "stdout",
     "output_type": "stream",
     "text": [
      "\n",
      "--- Tableau Récapitulatif des Métriques de Classification ---\n",
      "                        Accuracy  Precision  Recall  F1-Score    MSE\n",
      "K-Nearest Neighbors        0.500   0.476202   0.500  0.477667  0.875\n",
      "Decision Tree              0.575   0.602000   0.575  0.568745  0.575\n",
      "SVM                        0.525   0.275625   0.525  0.361475  1.225\n",
      "Logistic Regression        0.450   0.305000   0.450  0.352083  1.525\n",
      "Shallow Neural Network     0.550   0.466667   0.550  0.451923  0.975\n"
     ]
    }
   ],
   "source": [
    "# --- 7. Créer un DataFrame pour afficher les résultats synthétiques ---\n",
    "results_df = pd.DataFrame(results).T\n",
    "\n",
    "print(\"\\n--- Tableau Récapitulatif des Métriques de Classification ---\")\n",
    "print(results_df)"
   ]
  },
  {
   "cell_type": "code",
   "execution_count": null,
   "id": "ca5b2812-2fc0-419e-9405-14368ec19648",
   "metadata": {},
   "outputs": [],
   "source": []
  }
 ],
 "metadata": {
  "kernelspec": {
   "display_name": "Python 3 (ipykernel)",
   "language": "python",
   "name": "python3"
  },
  "language_info": {
   "codemirror_mode": {
    "name": "ipython",
    "version": 3
   },
   "file_extension": ".py",
   "mimetype": "text/x-python",
   "name": "python",
   "nbconvert_exporter": "python",
   "pygments_lexer": "ipython3",
   "version": "3.10.13"
  }
 },
 "nbformat": 4,
 "nbformat_minor": 5
}
