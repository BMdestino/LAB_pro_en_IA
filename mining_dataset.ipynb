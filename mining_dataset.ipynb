{
 "cells": [
  {
   "cell_type": "markdown",
   "id": "0c367884-3c69-4a5b-969b-c62678ca78fd",
   "metadata": {},
   "source": [
    "# Etape1: IMPORTATION DES PACKAGES"
   ]
  },
  {
   "cell_type": "code",
   "execution_count": 1,
   "id": "223968e4-20c3-4ab4-8ace-df72dec013c0",
   "metadata": {},
   "outputs": [],
   "source": [
    "import numpy as np\n",
    "import pandas as pd\n",
    "import matplotlib.pyplot as plt\n",
    "import seaborn as sns\n",
    "import joblib\n",
    "#import plotly.express as px\n",
    "from sklearn.preprocessing import LabelEncoder\n",
    "from sklearn.preprocessing import StandardScaler\n",
    "from sklearn.model_selection import train_test_split\n",
    "\n",
    "from tensorflow.keras import Sequential\n",
    "from tensorflow.keras.layers import Dense, Dropout\n",
    "from tensorflow.keras.optimizers import Adam\n",
    "from tensorflow.keras.utils import to_categorical\n",
    "\n",
    "\n",
    "# importation de WARNING\n",
    "import warnings\n",
    "warnings.filterwarnings(\"ignore\")\n",
    "import tensorflow as tf\n"
   ]
  },
  {
   "cell_type": "code",
   "execution_count": 2,
   "id": "0846dfda-397d-4a5a-9552-bbe65a63d08e",
   "metadata": {},
   "outputs": [],
   "source": [
    "# Charger le fichier Excel\n",
    "excel_file = 'C:/Users/User/PRO_EN_IA/MINING_DATASET/Mining_Dataset.xlsx'\n",
    "data = pd.read_excel(excel_file)\n",
    "\n",
    "# Enregistrer en format CSV\n",
    "csv_file = 'Mining_Dataset.csv'\n",
    "data.to_csv(csv_file, index=False)"
   ]
  },
  {
   "cell_type": "markdown",
   "id": "9bbb4480-92db-403e-b583-b216843e65e2",
   "metadata": {},
   "source": [
    "# Etape2: CHARGEMENT DES DONNEES"
   ]
  },
  {
   "cell_type": "code",
   "execution_count": 3,
   "id": "658fdfac-6db6-47e3-b4df-f05a88727149",
   "metadata": {},
   "outputs": [
    {
     "data": {
      "text/plain": [
       "(5247, 7)"
      ]
     },
     "execution_count": 3,
     "metadata": {},
     "output_type": "execute_result"
    }
   ],
   "source": [
    "data.shape # LE DATASET DISPOSE 5 247 LIGNES ET 7 COLONNES"
   ]
  },
  {
   "cell_type": "code",
   "execution_count": 4,
   "id": "60ada48f-6946-437a-828a-f11d1f6bdd07",
   "metadata": {},
   "outputs": [
    {
     "data": {
      "text/html": [
       "<div>\n",
       "<style scoped>\n",
       "    .dataframe tbody tr th:only-of-type {\n",
       "        vertical-align: middle;\n",
       "    }\n",
       "\n",
       "    .dataframe tbody tr th {\n",
       "        vertical-align: top;\n",
       "    }\n",
       "\n",
       "    .dataframe thead th {\n",
       "        text-align: right;\n",
       "    }\n",
       "</style>\n",
       "<table border=\"1\" class=\"dataframe\">\n",
       "  <thead>\n",
       "    <tr style=\"text-align: right;\">\n",
       "      <th></th>\n",
       "      <th>N°</th>\n",
       "      <th>Site</th>\n",
       "      <th>Longitude</th>\n",
       "      <th>Latitude</th>\n",
       "      <th>Altitude</th>\n",
       "      <th>Ic</th>\n",
       "      <th>Classe_Ic</th>\n",
       "    </tr>\n",
       "  </thead>\n",
       "  <tbody>\n",
       "    <tr>\n",
       "      <th>0</th>\n",
       "      <td>1</td>\n",
       "      <td>Tumbwe</td>\n",
       "      <td>27.398758</td>\n",
       "      <td>-11.479370</td>\n",
       "      <td>1356.0</td>\n",
       "      <td>1.032063</td>\n",
       "      <td>Dur</td>\n",
       "    </tr>\n",
       "    <tr>\n",
       "      <th>1</th>\n",
       "      <td>2</td>\n",
       "      <td>Tumbwe</td>\n",
       "      <td>27.398610</td>\n",
       "      <td>-11.478151</td>\n",
       "      <td>1354.0</td>\n",
       "      <td>27.390744</td>\n",
       "      <td>Dur</td>\n",
       "    </tr>\n",
       "    <tr>\n",
       "      <th>2</th>\n",
       "      <td>3</td>\n",
       "      <td>Tumbwe</td>\n",
       "      <td>27.399395</td>\n",
       "      <td>-11.476759</td>\n",
       "      <td>1354.0</td>\n",
       "      <td>1.541371</td>\n",
       "      <td>Dur</td>\n",
       "    </tr>\n",
       "    <tr>\n",
       "      <th>3</th>\n",
       "      <td>4</td>\n",
       "      <td>Tumbwe</td>\n",
       "      <td>27.399987</td>\n",
       "      <td>-11.475205</td>\n",
       "      <td>1354.0</td>\n",
       "      <td>1.081573</td>\n",
       "      <td>Dur</td>\n",
       "    </tr>\n",
       "    <tr>\n",
       "      <th>4</th>\n",
       "      <td>5</td>\n",
       "      <td>Tumbwe</td>\n",
       "      <td>27.400558</td>\n",
       "      <td>-11.474226</td>\n",
       "      <td>1353.0</td>\n",
       "      <td>1.364352</td>\n",
       "      <td>Dur</td>\n",
       "    </tr>\n",
       "    <tr>\n",
       "      <th>...</th>\n",
       "      <td>...</td>\n",
       "      <td>...</td>\n",
       "      <td>...</td>\n",
       "      <td>...</td>\n",
       "      <td>...</td>\n",
       "      <td>...</td>\n",
       "      <td>...</td>\n",
       "    </tr>\n",
       "    <tr>\n",
       "      <th>5242</th>\n",
       "      <td>5243</td>\n",
       "      <td>Gambela</td>\n",
       "      <td>27.480643</td>\n",
       "      <td>-11.614738</td>\n",
       "      <td>1285.0</td>\n",
       "      <td>1.695698</td>\n",
       "      <td>Dur</td>\n",
       "    </tr>\n",
       "    <tr>\n",
       "      <th>5243</th>\n",
       "      <td>5244</td>\n",
       "      <td>Gambela</td>\n",
       "      <td>27.480092</td>\n",
       "      <td>-11.614721</td>\n",
       "      <td>1284.0</td>\n",
       "      <td>3.926087</td>\n",
       "      <td>Dur</td>\n",
       "    </tr>\n",
       "    <tr>\n",
       "      <th>5244</th>\n",
       "      <td>5245</td>\n",
       "      <td>Gambela</td>\n",
       "      <td>27.477062</td>\n",
       "      <td>-11.612963</td>\n",
       "      <td>1287.0</td>\n",
       "      <td>1.738089</td>\n",
       "      <td>Dur</td>\n",
       "    </tr>\n",
       "    <tr>\n",
       "      <th>5245</th>\n",
       "      <td>5246</td>\n",
       "      <td>Gambela</td>\n",
       "      <td>27.476266</td>\n",
       "      <td>-11.613941</td>\n",
       "      <td>1279.0</td>\n",
       "      <td>11.160760</td>\n",
       "      <td>Dur</td>\n",
       "    </tr>\n",
       "    <tr>\n",
       "      <th>5246</th>\n",
       "      <td>5247</td>\n",
       "      <td>Gambela</td>\n",
       "      <td>27.477834</td>\n",
       "      <td>-11.614092</td>\n",
       "      <td>1284.0</td>\n",
       "      <td>5.506705</td>\n",
       "      <td>Dur</td>\n",
       "    </tr>\n",
       "  </tbody>\n",
       "</table>\n",
       "<p>5247 rows × 7 columns</p>\n",
       "</div>"
      ],
      "text/plain": [
       "        N°     Site  Longitude   Latitude  Altitude         Ic Classe_Ic\n",
       "0        1   Tumbwe  27.398758 -11.479370    1356.0   1.032063       Dur\n",
       "1        2   Tumbwe  27.398610 -11.478151    1354.0  27.390744       Dur\n",
       "2        3   Tumbwe  27.399395 -11.476759    1354.0   1.541371       Dur\n",
       "3        4   Tumbwe  27.399987 -11.475205    1354.0   1.081573       Dur\n",
       "4        5   Tumbwe  27.400558 -11.474226    1353.0   1.364352       Dur\n",
       "...    ...      ...        ...        ...       ...        ...       ...\n",
       "5242  5243  Gambela  27.480643 -11.614738    1285.0   1.695698       Dur\n",
       "5243  5244  Gambela  27.480092 -11.614721    1284.0   3.926087       Dur\n",
       "5244  5245  Gambela  27.477062 -11.612963    1287.0   1.738089       Dur\n",
       "5245  5246  Gambela  27.476266 -11.613941    1279.0  11.160760       Dur\n",
       "5246  5247  Gambela  27.477834 -11.614092    1284.0   5.506705       Dur\n",
       "\n",
       "[5247 rows x 7 columns]"
      ]
     },
     "execution_count": 4,
     "metadata": {},
     "output_type": "execute_result"
    }
   ],
   "source": [
    "data"
   ]
  },
  {
   "cell_type": "code",
   "execution_count": 5,
   "id": "e6e476c6-6dde-490a-8fe1-9a3acd5118e4",
   "metadata": {},
   "outputs": [],
   "source": [
    "#data.head()"
   ]
  },
  {
   "cell_type": "markdown",
   "id": "f3546f4e-13c7-4e6e-b3f3-4fcd7707bfb9",
   "metadata": {},
   "source": [
    "# Etape3: ANALYSE DES DONEES"
   ]
  },
  {
   "cell_type": "code",
   "execution_count": 6,
   "id": "f0569c27-14b7-4138-ab32-24c9bdee23bf",
   "metadata": {},
   "outputs": [
    {
     "name": "stdout",
     "output_type": "stream",
     "text": [
      "Shape of the Data: (5247, 7)\n"
     ]
    }
   ],
   "source": [
    "print('Shape of the Data:', data.shape)"
   ]
  },
  {
   "cell_type": "code",
   "execution_count": 7,
   "id": "84bf2614-2455-4027-b729-aa9d73c6ab6f",
   "metadata": {},
   "outputs": [
    {
     "name": "stdout",
     "output_type": "stream",
     "text": [
      "<class 'pandas.core.frame.DataFrame'>\n",
      "RangeIndex: 5247 entries, 0 to 5246\n",
      "Data columns (total 7 columns):\n",
      " #   Column     Non-Null Count  Dtype  \n",
      "---  ------     --------------  -----  \n",
      " 0   N°         5247 non-null   int64  \n",
      " 1   Site       5247 non-null   object \n",
      " 2   Longitude  5247 non-null   float64\n",
      " 3   Latitude   5247 non-null   float64\n",
      " 4   Altitude   5247 non-null   float64\n",
      " 5   Ic         5247 non-null   float64\n",
      " 6   Classe_Ic  5247 non-null   object \n",
      "dtypes: float64(4), int64(1), object(2)\n",
      "memory usage: 287.1+ KB\n"
     ]
    }
   ],
   "source": [
    "data.info()"
   ]
  },
  {
   "cell_type": "code",
   "execution_count": 8,
   "id": "d286f013-5095-4927-9493-b5d0d1dd7f44",
   "metadata": {},
   "outputs": [
    {
     "data": {
      "text/plain": [
       "Index(['N°', 'Site', 'Longitude', 'Latitude', 'Altitude', 'Ic', 'Classe_Ic'], dtype='object')"
      ]
     },
     "execution_count": 8,
     "metadata": {},
     "output_type": "execute_result"
    }
   ],
   "source": [
    "data.columns"
   ]
  },
  {
   "cell_type": "code",
   "execution_count": 9,
   "id": "fbf5073b-16d4-4951-aa90-fe48258577cc",
   "metadata": {},
   "outputs": [
    {
     "data": {
      "text/plain": [
       "N°           0\n",
       "Site         0\n",
       "Longitude    0\n",
       "Latitude     0\n",
       "Altitude     0\n",
       "Ic           0\n",
       "Classe_Ic    0\n",
       "dtype: int64"
      ]
     },
     "execution_count": 9,
     "metadata": {},
     "output_type": "execute_result"
    }
   ],
   "source": [
    "# Vérification des Données manquantes\n",
    "data.isnull().sum()  # PAS DES COLONNES/LIGNES VIDES(pas des données manquantes)"
   ]
  },
  {
   "cell_type": "code",
   "execution_count": 10,
   "id": "eef61f22-1125-485b-a921-ab850dd93521",
   "metadata": {},
   "outputs": [],
   "source": [
    "# Dropping des certaines colonnes non utiles\n",
    "data.drop(columns='N°', axis=1, inplace=True)"
   ]
  },
  {
   "cell_type": "code",
   "execution_count": 11,
   "id": "d54b9827-fe28-4c42-95d5-7c4d57dc6d6e",
   "metadata": {},
   "outputs": [
    {
     "data": {
      "text/html": [
       "<div>\n",
       "<style scoped>\n",
       "    .dataframe tbody tr th:only-of-type {\n",
       "        vertical-align: middle;\n",
       "    }\n",
       "\n",
       "    .dataframe tbody tr th {\n",
       "        vertical-align: top;\n",
       "    }\n",
       "\n",
       "    .dataframe thead th {\n",
       "        text-align: right;\n",
       "    }\n",
       "</style>\n",
       "<table border=\"1\" class=\"dataframe\">\n",
       "  <thead>\n",
       "    <tr style=\"text-align: right;\">\n",
       "      <th></th>\n",
       "      <th>Site</th>\n",
       "      <th>Longitude</th>\n",
       "      <th>Latitude</th>\n",
       "      <th>Altitude</th>\n",
       "      <th>Ic</th>\n",
       "      <th>Classe_Ic</th>\n",
       "    </tr>\n",
       "  </thead>\n",
       "  <tbody>\n",
       "    <tr>\n",
       "      <th>0</th>\n",
       "      <td>Tumbwe</td>\n",
       "      <td>27.398758</td>\n",
       "      <td>-11.479370</td>\n",
       "      <td>1356.0</td>\n",
       "      <td>1.032063</td>\n",
       "      <td>Dur</td>\n",
       "    </tr>\n",
       "    <tr>\n",
       "      <th>1</th>\n",
       "      <td>Tumbwe</td>\n",
       "      <td>27.398610</td>\n",
       "      <td>-11.478151</td>\n",
       "      <td>1354.0</td>\n",
       "      <td>27.390744</td>\n",
       "      <td>Dur</td>\n",
       "    </tr>\n",
       "    <tr>\n",
       "      <th>2</th>\n",
       "      <td>Tumbwe</td>\n",
       "      <td>27.399395</td>\n",
       "      <td>-11.476759</td>\n",
       "      <td>1354.0</td>\n",
       "      <td>1.541371</td>\n",
       "      <td>Dur</td>\n",
       "    </tr>\n",
       "    <tr>\n",
       "      <th>3</th>\n",
       "      <td>Tumbwe</td>\n",
       "      <td>27.399987</td>\n",
       "      <td>-11.475205</td>\n",
       "      <td>1354.0</td>\n",
       "      <td>1.081573</td>\n",
       "      <td>Dur</td>\n",
       "    </tr>\n",
       "    <tr>\n",
       "      <th>4</th>\n",
       "      <td>Tumbwe</td>\n",
       "      <td>27.400558</td>\n",
       "      <td>-11.474226</td>\n",
       "      <td>1353.0</td>\n",
       "      <td>1.364352</td>\n",
       "      <td>Dur</td>\n",
       "    </tr>\n",
       "    <tr>\n",
       "      <th>...</th>\n",
       "      <td>...</td>\n",
       "      <td>...</td>\n",
       "      <td>...</td>\n",
       "      <td>...</td>\n",
       "      <td>...</td>\n",
       "      <td>...</td>\n",
       "    </tr>\n",
       "    <tr>\n",
       "      <th>5242</th>\n",
       "      <td>Gambela</td>\n",
       "      <td>27.480643</td>\n",
       "      <td>-11.614738</td>\n",
       "      <td>1285.0</td>\n",
       "      <td>1.695698</td>\n",
       "      <td>Dur</td>\n",
       "    </tr>\n",
       "    <tr>\n",
       "      <th>5243</th>\n",
       "      <td>Gambela</td>\n",
       "      <td>27.480092</td>\n",
       "      <td>-11.614721</td>\n",
       "      <td>1284.0</td>\n",
       "      <td>3.926087</td>\n",
       "      <td>Dur</td>\n",
       "    </tr>\n",
       "    <tr>\n",
       "      <th>5244</th>\n",
       "      <td>Gambela</td>\n",
       "      <td>27.477062</td>\n",
       "      <td>-11.612963</td>\n",
       "      <td>1287.0</td>\n",
       "      <td>1.738089</td>\n",
       "      <td>Dur</td>\n",
       "    </tr>\n",
       "    <tr>\n",
       "      <th>5245</th>\n",
       "      <td>Gambela</td>\n",
       "      <td>27.476266</td>\n",
       "      <td>-11.613941</td>\n",
       "      <td>1279.0</td>\n",
       "      <td>11.160760</td>\n",
       "      <td>Dur</td>\n",
       "    </tr>\n",
       "    <tr>\n",
       "      <th>5246</th>\n",
       "      <td>Gambela</td>\n",
       "      <td>27.477834</td>\n",
       "      <td>-11.614092</td>\n",
       "      <td>1284.0</td>\n",
       "      <td>5.506705</td>\n",
       "      <td>Dur</td>\n",
       "    </tr>\n",
       "  </tbody>\n",
       "</table>\n",
       "<p>5247 rows × 6 columns</p>\n",
       "</div>"
      ],
      "text/plain": [
       "         Site  Longitude   Latitude  Altitude         Ic Classe_Ic\n",
       "0      Tumbwe  27.398758 -11.479370    1356.0   1.032063       Dur\n",
       "1      Tumbwe  27.398610 -11.478151    1354.0  27.390744       Dur\n",
       "2      Tumbwe  27.399395 -11.476759    1354.0   1.541371       Dur\n",
       "3      Tumbwe  27.399987 -11.475205    1354.0   1.081573       Dur\n",
       "4      Tumbwe  27.400558 -11.474226    1353.0   1.364352       Dur\n",
       "...       ...        ...        ...       ...        ...       ...\n",
       "5242  Gambela  27.480643 -11.614738    1285.0   1.695698       Dur\n",
       "5243  Gambela  27.480092 -11.614721    1284.0   3.926087       Dur\n",
       "5244  Gambela  27.477062 -11.612963    1287.0   1.738089       Dur\n",
       "5245  Gambela  27.476266 -11.613941    1279.0  11.160760       Dur\n",
       "5246  Gambela  27.477834 -11.614092    1284.0   5.506705       Dur\n",
       "\n",
       "[5247 rows x 6 columns]"
      ]
     },
     "execution_count": 11,
     "metadata": {},
     "output_type": "execute_result"
    }
   ],
   "source": [
    "data"
   ]
  },
  {
   "cell_type": "code",
   "execution_count": 12,
   "id": "7c0f3abb-e802-4224-a465-e7cb37116393",
   "metadata": {},
   "outputs": [
    {
     "name": "stdout",
     "output_type": "stream",
     "text": [
      "11\n"
     ]
    }
   ],
   "source": [
    "# Compter le nombre de sites\n",
    "nombre_sites = data['Site'].nunique()\n",
    "\n",
    "# Afficher le résultat\n",
    "print(nombre_sites) # DONC DANS NOTRE DATASET NOUS AVONS 11 SITES"
   ]
  },
  {
   "cell_type": "code",
   "execution_count": 13,
   "id": "d42fbd92-665f-4b8a-a540-91f712a6d19b",
   "metadata": {},
   "outputs": [
    {
     "data": {
      "text/plain": [
       "array(['Tumbwe', 'LUMATA', 'MUTSHATSHA', 'CITE DE LUALABA',\n",
       "       'QUARTIER MUSUMBA ', 'BUNKEYA', 'BUNGU BUNGU', 'Kasangiri',\n",
       "       ' DCP Kasangiri', 'KINSEVERE', 'Gambela'], dtype=object)"
      ]
     },
     "execution_count": 13,
     "metadata": {},
     "output_type": "execute_result"
    }
   ],
   "source": [
    "data['Site'].unique() # LES NOM DE CES 11 SITES"
   ]
  },
  {
   "cell_type": "code",
   "execution_count": 14,
   "id": "1e0514e2-45d0-4655-ab73-fdbd07115510",
   "metadata": {},
   "outputs": [
    {
     "data": {
      "text/plain": [
       "Site\n",
       "Tumbwe               4649\n",
       "KINSEVERE             431\n",
       "Kasangiri              27\n",
       "MUTSHATSHA             20\n",
       "CITE DE LUALABA        20\n",
       "BUNGU BUNGU            20\n",
       "QUARTIER MUSUMBA       19\n",
       "LUMATA                 18\n",
       "BUNKEYA                17\n",
       " DCP Kasangiri         15\n",
       "Gambela                11\n",
       "Name: count, dtype: int64"
      ]
     },
     "execution_count": 14,
     "metadata": {},
     "output_type": "execute_result"
    }
   ],
   "source": [
    "# Detail des données de la colonne \"Site\"\n",
    "data['Site'].value_counts()"
   ]
  },
  {
   "cell_type": "code",
   "execution_count": 15,
   "id": "bb4b8653-4032-4a07-9a90-4de1d82837aa",
   "metadata": {},
   "outputs": [
    {
     "data": {
      "text/plain": [
       "array([27.39875802, 27.39861045, 27.39939522, ..., 27.47706199,\n",
       "       27.4762656 , 27.47783445])"
      ]
     },
     "execution_count": 15,
     "metadata": {},
     "output_type": "execute_result"
    }
   ],
   "source": [
    "data['Longitude'].unique()"
   ]
  },
  {
   "cell_type": "code",
   "execution_count": 16,
   "id": "b4343339-bae5-4caa-a9ef-db800be6c005",
   "metadata": {},
   "outputs": [
    {
     "data": {
      "text/plain": [
       "Longitude\n",
       "27.392147    3\n",
       "27.397897    3\n",
       "27.398579    3\n",
       "27.399987    3\n",
       "27.390149    3\n",
       "            ..\n",
       "27.385399    1\n",
       "27.385422    1\n",
       "27.385446    1\n",
       "27.385464    1\n",
       "27.477834    1\n",
       "Name: count, Length: 4762, dtype: int64"
      ]
     },
     "execution_count": 16,
     "metadata": {},
     "output_type": "execute_result"
    }
   ],
   "source": [
    "data['Longitude'].value_counts()"
   ]
  },
  {
   "cell_type": "code",
   "execution_count": 17,
   "id": "7af47c31-d113-4e8d-9ee8-47c8bda338f6",
   "metadata": {},
   "outputs": [
    {
     "data": {
      "text/plain": [
       "array(['Dur', 'Terne', 'Mi-dur', 'Liquide', 'Mou', 'Pateux'], dtype=object)"
      ]
     },
     "execution_count": 17,
     "metadata": {},
     "output_type": "execute_result"
    }
   ],
   "source": [
    "data['Classe_Ic'].unique()"
   ]
  },
  {
   "cell_type": "code",
   "execution_count": 18,
   "id": "6c525535-d6a4-4d98-ad92-61a7e1b7e607",
   "metadata": {},
   "outputs": [
    {
     "data": {
      "text/plain": [
       "array([-11.4793703 , -11.47815133, -11.47675851, ..., -11.6129629 ,\n",
       "       -11.6139409 , -11.61409204])"
      ]
     },
     "execution_count": 18,
     "metadata": {},
     "output_type": "execute_result"
    }
   ],
   "source": [
    "data['Latitude'].unique()"
   ]
  },
  {
   "cell_type": "code",
   "execution_count": 19,
   "id": "b839b4e5-e061-44e2-a72a-e56c2211f70d",
   "metadata": {},
   "outputs": [
    {
     "data": {
      "text/plain": [
       "Latitude\n",
       "-11.475205    4\n",
       "-11.479370    3\n",
       "-11.474226    3\n",
       "-11.474095    3\n",
       "-11.470882    3\n",
       "             ..\n",
       "-11.470586    1\n",
       "-11.470548    1\n",
       "-11.470511    1\n",
       "-11.470488    1\n",
       "-11.614092    1\n",
       "Name: count, Length: 4765, dtype: int64"
      ]
     },
     "execution_count": 19,
     "metadata": {},
     "output_type": "execute_result"
    }
   ],
   "source": [
    "data['Latitude'].value_counts()"
   ]
  },
  {
   "cell_type": "code",
   "execution_count": 20,
   "id": "8d65e87a-cb03-467c-851e-7f63deacb0c5",
   "metadata": {},
   "outputs": [
    {
     "data": {
      "text/plain": [
       "array([1356.    , 1354.    , 1353.    , ..., 1182.5138, 1283.    ,\n",
       "       1285.    ])"
      ]
     },
     "execution_count": 20,
     "metadata": {},
     "output_type": "execute_result"
    }
   ],
   "source": [
    "data['Altitude'].unique()"
   ]
  },
  {
   "cell_type": "code",
   "execution_count": 21,
   "id": "fba74110-6217-46a4-b8b5-e1c0e2a0bebc",
   "metadata": {},
   "outputs": [
    {
     "data": {
      "text/plain": [
       "Altitude\n",
       "1352.334    16\n",
       "1240.000    16\n",
       "1353.252     6\n",
       "1334.000     6\n",
       "1279.000     5\n",
       "            ..\n",
       "1337.070     1\n",
       "1337.828     1\n",
       "1336.995     1\n",
       "1336.957     1\n",
       "1285.000     1\n",
       "Name: count, Length: 4265, dtype: int64"
      ]
     },
     "execution_count": 21,
     "metadata": {},
     "output_type": "execute_result"
    }
   ],
   "source": [
    "data['Altitude'].value_counts()"
   ]
  },
  {
   "cell_type": "code",
   "execution_count": 22,
   "id": "620d118e-ceee-4330-84e2-8ca575bfa1a4",
   "metadata": {},
   "outputs": [
    {
     "data": {
      "text/plain": [
       "Ic\n",
       "1.032063    155\n",
       "0.757955    155\n",
       "1.048759    155\n",
       "0.771537    155\n",
       "2.026590    155\n",
       "           ... \n",
       "1.840000      1\n",
       "1.510000      1\n",
       "0.830000      1\n",
       "0.410000      1\n",
       "5.506705      1\n",
       "Name: count, Length: 197, dtype: int64"
      ]
     },
     "execution_count": 22,
     "metadata": {},
     "output_type": "execute_result"
    }
   ],
   "source": [
    "data['Ic'].value_counts()"
   ]
  },
  {
   "cell_type": "code",
   "execution_count": 23,
   "id": "8efd0424-9abd-422f-9a1b-04fbcfba1c88",
   "metadata": {},
   "outputs": [
    {
     "data": {
      "text/plain": [
       "array(['Dur', 'Terne', 'Mi-dur', 'Liquide', 'Mou', 'Pateux'], dtype=object)"
      ]
     },
     "execution_count": 23,
     "metadata": {},
     "output_type": "execute_result"
    }
   ],
   "source": [
    "data['Classe_Ic'].unique()"
   ]
  },
  {
   "cell_type": "code",
   "execution_count": 24,
   "id": "b2a0e2c1-ecd4-41e9-9137-db5ea32a1ea9",
   "metadata": {},
   "outputs": [
    {
     "data": {
      "text/plain": [
       "Classe_Ic\n",
       "Dur        4080\n",
       "Terne       628\n",
       "Mi-dur      325\n",
       "Liquide     201\n",
       "Mou          10\n",
       "Pateux        3\n",
       "Name: count, dtype: int64"
      ]
     },
     "execution_count": 24,
     "metadata": {},
     "output_type": "execute_result"
    }
   ],
   "source": [
    "data['Classe_Ic'].value_counts()"
   ]
  },
  {
   "cell_type": "markdown",
   "id": "4a1b548c-cfe8-4dc1-bbfd-baee635a7ba8",
   "metadata": {},
   "source": [
    "# Etape4: PRE-TRAITEMENT DES DONNEES"
   ]
  },
  {
   "cell_type": "code",
   "execution_count": 25,
   "id": "7eb0ddb0-d7d9-464b-b58e-48725f07163c",
   "metadata": {},
   "outputs": [
    {
     "data": {
      "text/html": [
       "<div>\n",
       "<style scoped>\n",
       "    .dataframe tbody tr th:only-of-type {\n",
       "        vertical-align: middle;\n",
       "    }\n",
       "\n",
       "    .dataframe tbody tr th {\n",
       "        vertical-align: top;\n",
       "    }\n",
       "\n",
       "    .dataframe thead th {\n",
       "        text-align: right;\n",
       "    }\n",
       "</style>\n",
       "<table border=\"1\" class=\"dataframe\">\n",
       "  <thead>\n",
       "    <tr style=\"text-align: right;\">\n",
       "      <th></th>\n",
       "      <th>Site</th>\n",
       "      <th>Longitude</th>\n",
       "      <th>Latitude</th>\n",
       "      <th>Altitude</th>\n",
       "      <th>Ic</th>\n",
       "      <th>Classe_Ic</th>\n",
       "    </tr>\n",
       "  </thead>\n",
       "  <tbody>\n",
       "    <tr>\n",
       "      <th>0</th>\n",
       "      <td>Tumbwe</td>\n",
       "      <td>27.398758</td>\n",
       "      <td>-11.479370</td>\n",
       "      <td>1356.000</td>\n",
       "      <td>1.032063</td>\n",
       "      <td>Dur</td>\n",
       "    </tr>\n",
       "    <tr>\n",
       "      <th>1</th>\n",
       "      <td>Tumbwe</td>\n",
       "      <td>27.398610</td>\n",
       "      <td>-11.478151</td>\n",
       "      <td>1354.000</td>\n",
       "      <td>27.390744</td>\n",
       "      <td>Dur</td>\n",
       "    </tr>\n",
       "    <tr>\n",
       "      <th>2</th>\n",
       "      <td>Tumbwe</td>\n",
       "      <td>27.399395</td>\n",
       "      <td>-11.476759</td>\n",
       "      <td>1354.000</td>\n",
       "      <td>1.541371</td>\n",
       "      <td>Dur</td>\n",
       "    </tr>\n",
       "    <tr>\n",
       "      <th>3</th>\n",
       "      <td>Tumbwe</td>\n",
       "      <td>27.399987</td>\n",
       "      <td>-11.475205</td>\n",
       "      <td>1354.000</td>\n",
       "      <td>1.081573</td>\n",
       "      <td>Dur</td>\n",
       "    </tr>\n",
       "    <tr>\n",
       "      <th>4</th>\n",
       "      <td>Tumbwe</td>\n",
       "      <td>27.400558</td>\n",
       "      <td>-11.474226</td>\n",
       "      <td>1353.000</td>\n",
       "      <td>1.364352</td>\n",
       "      <td>Dur</td>\n",
       "    </tr>\n",
       "    <tr>\n",
       "      <th>...</th>\n",
       "      <td>...</td>\n",
       "      <td>...</td>\n",
       "      <td>...</td>\n",
       "      <td>...</td>\n",
       "      <td>...</td>\n",
       "      <td>...</td>\n",
       "    </tr>\n",
       "    <tr>\n",
       "      <th>808</th>\n",
       "      <td>Tumbwe</td>\n",
       "      <td>27.394227</td>\n",
       "      <td>-11.474065</td>\n",
       "      <td>1348.248</td>\n",
       "      <td>1.048759</td>\n",
       "      <td>Dur</td>\n",
       "    </tr>\n",
       "    <tr>\n",
       "      <th>810</th>\n",
       "      <td>Tumbwe</td>\n",
       "      <td>27.394278</td>\n",
       "      <td>-11.474105</td>\n",
       "      <td>1348.453</td>\n",
       "      <td>1.032063</td>\n",
       "      <td>Dur</td>\n",
       "    </tr>\n",
       "    <tr>\n",
       "      <th>811</th>\n",
       "      <td>Tumbwe</td>\n",
       "      <td>27.394311</td>\n",
       "      <td>-11.474129</td>\n",
       "      <td>1348.360</td>\n",
       "      <td>27.390744</td>\n",
       "      <td>Dur</td>\n",
       "    </tr>\n",
       "    <tr>\n",
       "      <th>812</th>\n",
       "      <td>Tumbwe</td>\n",
       "      <td>27.394341</td>\n",
       "      <td>-11.474153</td>\n",
       "      <td>1348.697</td>\n",
       "      <td>1.541371</td>\n",
       "      <td>Dur</td>\n",
       "    </tr>\n",
       "    <tr>\n",
       "      <th>813</th>\n",
       "      <td>Tumbwe</td>\n",
       "      <td>27.394366</td>\n",
       "      <td>-11.474175</td>\n",
       "      <td>1348.692</td>\n",
       "      <td>1.081573</td>\n",
       "      <td>Dur</td>\n",
       "    </tr>\n",
       "  </tbody>\n",
       "</table>\n",
       "<p>625 rows × 6 columns</p>\n",
       "</div>"
      ],
      "text/plain": [
       "       Site  Longitude   Latitude  Altitude         Ic Classe_Ic\n",
       "0    Tumbwe  27.398758 -11.479370  1356.000   1.032063       Dur\n",
       "1    Tumbwe  27.398610 -11.478151  1354.000  27.390744       Dur\n",
       "2    Tumbwe  27.399395 -11.476759  1354.000   1.541371       Dur\n",
       "3    Tumbwe  27.399987 -11.475205  1354.000   1.081573       Dur\n",
       "4    Tumbwe  27.400558 -11.474226  1353.000   1.364352       Dur\n",
       "..      ...        ...        ...       ...        ...       ...\n",
       "808  Tumbwe  27.394227 -11.474065  1348.248   1.048759       Dur\n",
       "810  Tumbwe  27.394278 -11.474105  1348.453   1.032063       Dur\n",
       "811  Tumbwe  27.394311 -11.474129  1348.360  27.390744       Dur\n",
       "812  Tumbwe  27.394341 -11.474153  1348.697   1.541371       Dur\n",
       "813  Tumbwe  27.394366 -11.474175  1348.692   1.081573       Dur\n",
       "\n",
       "[625 rows x 6 columns]"
      ]
     },
     "execution_count": 25,
     "metadata": {},
     "output_type": "execute_result"
    }
   ],
   "source": [
    "# Dropping passed values\n",
    "Classe_Dur = data[data['Classe_Ic'] == 'Dur'].iloc[ :625 , :]\n",
    "Classe_Dur"
   ]
  },
  {
   "cell_type": "code",
   "execution_count": 26,
   "id": "6cb49ef1-7947-4474-a342-9af926dfcf97",
   "metadata": {},
   "outputs": [
    {
     "data": {
      "text/html": [
       "<div>\n",
       "<style scoped>\n",
       "    .dataframe tbody tr th:only-of-type {\n",
       "        vertical-align: middle;\n",
       "    }\n",
       "\n",
       "    .dataframe tbody tr th {\n",
       "        vertical-align: top;\n",
       "    }\n",
       "\n",
       "    .dataframe thead th {\n",
       "        text-align: right;\n",
       "    }\n",
       "</style>\n",
       "<table border=\"1\" class=\"dataframe\">\n",
       "  <thead>\n",
       "    <tr style=\"text-align: right;\">\n",
       "      <th></th>\n",
       "      <th>Site</th>\n",
       "      <th>Longitude</th>\n",
       "      <th>Latitude</th>\n",
       "      <th>Altitude</th>\n",
       "      <th>Ic</th>\n",
       "      <th>Classe_Ic</th>\n",
       "    </tr>\n",
       "  </thead>\n",
       "  <tbody>\n",
       "    <tr>\n",
       "      <th>8</th>\n",
       "      <td>Tumbwe</td>\n",
       "      <td>27.395137</td>\n",
       "      <td>-11.473340</td>\n",
       "      <td>1352.000</td>\n",
       "      <td>0.715264</td>\n",
       "      <td>Terne</td>\n",
       "    </tr>\n",
       "    <tr>\n",
       "      <th>9</th>\n",
       "      <td>Tumbwe</td>\n",
       "      <td>27.394444</td>\n",
       "      <td>-11.474650</td>\n",
       "      <td>1350.000</td>\n",
       "      <td>0.653490</td>\n",
       "      <td>Terne</td>\n",
       "    </tr>\n",
       "    <tr>\n",
       "      <th>11</th>\n",
       "      <td>Tumbwe</td>\n",
       "      <td>27.393726</td>\n",
       "      <td>-11.475818</td>\n",
       "      <td>1344.000</td>\n",
       "      <td>0.559695</td>\n",
       "      <td>Terne</td>\n",
       "    </tr>\n",
       "    <tr>\n",
       "      <th>29</th>\n",
       "      <td>Tumbwe</td>\n",
       "      <td>27.388280</td>\n",
       "      <td>-11.471170</td>\n",
       "      <td>1342.000</td>\n",
       "      <td>0.669784</td>\n",
       "      <td>Terne</td>\n",
       "    </tr>\n",
       "    <tr>\n",
       "      <th>38</th>\n",
       "      <td>Tumbwe</td>\n",
       "      <td>27.390620</td>\n",
       "      <td>-11.474792</td>\n",
       "      <td>1338.417</td>\n",
       "      <td>0.715264</td>\n",
       "      <td>Terne</td>\n",
       "    </tr>\n",
       "    <tr>\n",
       "      <th>...</th>\n",
       "      <td>...</td>\n",
       "      <td>...</td>\n",
       "      <td>...</td>\n",
       "      <td>...</td>\n",
       "      <td>...</td>\n",
       "      <td>...</td>\n",
       "    </tr>\n",
       "    <tr>\n",
       "      <th>4685</th>\n",
       "      <td>MUTSHATSHA</td>\n",
       "      <td>24.458400</td>\n",
       "      <td>-10.638600</td>\n",
       "      <td>1240.000</td>\n",
       "      <td>0.663000</td>\n",
       "      <td>Terne</td>\n",
       "    </tr>\n",
       "    <tr>\n",
       "      <th>4710</th>\n",
       "      <td>QUARTIER MUSUMBA</td>\n",
       "      <td>27.446298</td>\n",
       "      <td>-11.695117</td>\n",
       "      <td>1204.000</td>\n",
       "      <td>0.720000</td>\n",
       "      <td>Terne</td>\n",
       "    </tr>\n",
       "    <tr>\n",
       "      <th>4713</th>\n",
       "      <td>QUARTIER MUSUMBA</td>\n",
       "      <td>27.449804</td>\n",
       "      <td>-11.701423</td>\n",
       "      <td>1214.000</td>\n",
       "      <td>0.510000</td>\n",
       "      <td>Terne</td>\n",
       "    </tr>\n",
       "    <tr>\n",
       "      <th>4717</th>\n",
       "      <td>QUARTIER MUSUMBA</td>\n",
       "      <td>27.462209</td>\n",
       "      <td>-11.706052</td>\n",
       "      <td>1205.000</td>\n",
       "      <td>0.710000</td>\n",
       "      <td>Terne</td>\n",
       "    </tr>\n",
       "    <tr>\n",
       "      <th>4741</th>\n",
       "      <td>BUNKEYA</td>\n",
       "      <td>26.958259</td>\n",
       "      <td>-10.393147</td>\n",
       "      <td>985.000</td>\n",
       "      <td>0.560966</td>\n",
       "      <td>Terne</td>\n",
       "    </tr>\n",
       "  </tbody>\n",
       "</table>\n",
       "<p>628 rows × 6 columns</p>\n",
       "</div>"
      ],
      "text/plain": [
       "                   Site  Longitude   Latitude  Altitude        Ic Classe_Ic\n",
       "8                Tumbwe  27.395137 -11.473340  1352.000  0.715264     Terne\n",
       "9                Tumbwe  27.394444 -11.474650  1350.000  0.653490     Terne\n",
       "11               Tumbwe  27.393726 -11.475818  1344.000  0.559695     Terne\n",
       "29               Tumbwe  27.388280 -11.471170  1342.000  0.669784     Terne\n",
       "38               Tumbwe  27.390620 -11.474792  1338.417  0.715264     Terne\n",
       "...                 ...        ...        ...       ...       ...       ...\n",
       "4685         MUTSHATSHA  24.458400 -10.638600  1240.000  0.663000     Terne\n",
       "4710  QUARTIER MUSUMBA   27.446298 -11.695117  1204.000  0.720000     Terne\n",
       "4713  QUARTIER MUSUMBA   27.449804 -11.701423  1214.000  0.510000     Terne\n",
       "4717  QUARTIER MUSUMBA   27.462209 -11.706052  1205.000  0.710000     Terne\n",
       "4741            BUNKEYA  26.958259 -10.393147   985.000  0.560966     Terne\n",
       "\n",
       "[628 rows x 6 columns]"
      ]
     },
     "execution_count": 26,
     "metadata": {},
     "output_type": "execute_result"
    }
   ],
   "source": [
    "Classe_Terne = data[data['Classe_Ic'] == 'Terne']\n",
    "Classe_Terne"
   ]
  },
  {
   "cell_type": "code",
   "execution_count": 27,
   "id": "0f6adb49-2816-42d0-8e3a-3d95248393b2",
   "metadata": {},
   "outputs": [
    {
     "data": {
      "text/html": [
       "<div>\n",
       "<style scoped>\n",
       "    .dataframe tbody tr th:only-of-type {\n",
       "        vertical-align: middle;\n",
       "    }\n",
       "\n",
       "    .dataframe tbody tr th {\n",
       "        vertical-align: top;\n",
       "    }\n",
       "\n",
       "    .dataframe thead th {\n",
       "        text-align: right;\n",
       "    }\n",
       "</style>\n",
       "<table border=\"1\" class=\"dataframe\">\n",
       "  <thead>\n",
       "    <tr style=\"text-align: right;\">\n",
       "      <th></th>\n",
       "      <th>Site</th>\n",
       "      <th>Longitude</th>\n",
       "      <th>Latitude</th>\n",
       "      <th>Altitude</th>\n",
       "      <th>Ic</th>\n",
       "      <th>Classe_Ic</th>\n",
       "    </tr>\n",
       "  </thead>\n",
       "  <tbody>\n",
       "    <tr>\n",
       "      <th>15</th>\n",
       "      <td>Tumbwe</td>\n",
       "      <td>27.390718</td>\n",
       "      <td>-11.474095</td>\n",
       "      <td>1341.000</td>\n",
       "      <td>0.757955</td>\n",
       "      <td>Mi-dur</td>\n",
       "    </tr>\n",
       "    <tr>\n",
       "      <th>27</th>\n",
       "      <td>Tumbwe</td>\n",
       "      <td>27.385035</td>\n",
       "      <td>-11.469725</td>\n",
       "      <td>1334.000</td>\n",
       "      <td>0.771537</td>\n",
       "      <td>Mi-dur</td>\n",
       "    </tr>\n",
       "    <tr>\n",
       "      <th>45</th>\n",
       "      <td>Tumbwe</td>\n",
       "      <td>27.390788</td>\n",
       "      <td>-11.474910</td>\n",
       "      <td>1338.771</td>\n",
       "      <td>0.757955</td>\n",
       "      <td>Mi-dur</td>\n",
       "    </tr>\n",
       "    <tr>\n",
       "      <th>57</th>\n",
       "      <td>Tumbwe</td>\n",
       "      <td>27.391128</td>\n",
       "      <td>-11.475153</td>\n",
       "      <td>1338.915</td>\n",
       "      <td>0.771537</td>\n",
       "      <td>Mi-dur</td>\n",
       "    </tr>\n",
       "    <tr>\n",
       "      <th>75</th>\n",
       "      <td>Tumbwe</td>\n",
       "      <td>27.391638</td>\n",
       "      <td>-11.475514</td>\n",
       "      <td>1338.924</td>\n",
       "      <td>0.757955</td>\n",
       "      <td>Mi-dur</td>\n",
       "    </tr>\n",
       "    <tr>\n",
       "      <th>...</th>\n",
       "      <td>...</td>\n",
       "      <td>...</td>\n",
       "      <td>...</td>\n",
       "      <td>...</td>\n",
       "      <td>...</td>\n",
       "      <td>...</td>\n",
       "    </tr>\n",
       "    <tr>\n",
       "      <th>4712</th>\n",
       "      <td>QUARTIER MUSUMBA</td>\n",
       "      <td>27.444450</td>\n",
       "      <td>-11.698303</td>\n",
       "      <td>1222.000</td>\n",
       "      <td>0.960000</td>\n",
       "      <td>Mi-dur</td>\n",
       "    </tr>\n",
       "    <tr>\n",
       "      <th>4718</th>\n",
       "      <td>QUARTIER MUSUMBA</td>\n",
       "      <td>27.467567</td>\n",
       "      <td>-11.711234</td>\n",
       "      <td>1202.000</td>\n",
       "      <td>0.770000</td>\n",
       "      <td>Mi-dur</td>\n",
       "    </tr>\n",
       "    <tr>\n",
       "      <th>4719</th>\n",
       "      <td>QUARTIER MUSUMBA</td>\n",
       "      <td>27.461638</td>\n",
       "      <td>-11.710222</td>\n",
       "      <td>1206.000</td>\n",
       "      <td>0.950000</td>\n",
       "      <td>Mi-dur</td>\n",
       "    </tr>\n",
       "    <tr>\n",
       "      <th>4723</th>\n",
       "      <td>QUARTIER MUSUMBA</td>\n",
       "      <td>27.453713</td>\n",
       "      <td>-11.706925</td>\n",
       "      <td>1196.000</td>\n",
       "      <td>0.950000</td>\n",
       "      <td>Mi-dur</td>\n",
       "    </tr>\n",
       "    <tr>\n",
       "      <th>4735</th>\n",
       "      <td>BUNKEYA</td>\n",
       "      <td>26.954998</td>\n",
       "      <td>-10.393779</td>\n",
       "      <td>988.000</td>\n",
       "      <td>0.908484</td>\n",
       "      <td>Mi-dur</td>\n",
       "    </tr>\n",
       "  </tbody>\n",
       "</table>\n",
       "<p>325 rows × 6 columns</p>\n",
       "</div>"
      ],
      "text/plain": [
       "                   Site  Longitude   Latitude  Altitude        Ic Classe_Ic\n",
       "15               Tumbwe  27.390718 -11.474095  1341.000  0.757955    Mi-dur\n",
       "27               Tumbwe  27.385035 -11.469725  1334.000  0.771537    Mi-dur\n",
       "45               Tumbwe  27.390788 -11.474910  1338.771  0.757955    Mi-dur\n",
       "57               Tumbwe  27.391128 -11.475153  1338.915  0.771537    Mi-dur\n",
       "75               Tumbwe  27.391638 -11.475514  1338.924  0.757955    Mi-dur\n",
       "...                 ...        ...        ...       ...       ...       ...\n",
       "4712  QUARTIER MUSUMBA   27.444450 -11.698303  1222.000  0.960000    Mi-dur\n",
       "4718  QUARTIER MUSUMBA   27.467567 -11.711234  1202.000  0.770000    Mi-dur\n",
       "4719  QUARTIER MUSUMBA   27.461638 -11.710222  1206.000  0.950000    Mi-dur\n",
       "4723  QUARTIER MUSUMBA   27.453713 -11.706925  1196.000  0.950000    Mi-dur\n",
       "4735            BUNKEYA  26.954998 -10.393779   988.000  0.908484    Mi-dur\n",
       "\n",
       "[325 rows x 6 columns]"
      ]
     },
     "execution_count": 27,
     "metadata": {},
     "output_type": "execute_result"
    }
   ],
   "source": [
    "Classe_Mi_Dur = data[data['Classe_Ic'] == 'Mi-dur']\n",
    "Classe_Mi_Dur"
   ]
  },
  {
   "cell_type": "code",
   "execution_count": 28,
   "id": "3792149d-e150-4c24-8f34-78de541783b1",
   "metadata": {},
   "outputs": [
    {
     "data": {
      "text/html": [
       "<div>\n",
       "<style scoped>\n",
       "    .dataframe tbody tr th:only-of-type {\n",
       "        vertical-align: middle;\n",
       "    }\n",
       "\n",
       "    .dataframe tbody tr th {\n",
       "        vertical-align: top;\n",
       "    }\n",
       "\n",
       "    .dataframe thead th {\n",
       "        text-align: right;\n",
       "    }\n",
       "</style>\n",
       "<table border=\"1\" class=\"dataframe\">\n",
       "  <thead>\n",
       "    <tr style=\"text-align: right;\">\n",
       "      <th></th>\n",
       "      <th>Site</th>\n",
       "      <th>Longitude</th>\n",
       "      <th>Latitude</th>\n",
       "      <th>Altitude</th>\n",
       "      <th>Ic</th>\n",
       "      <th>Classe_Ic</th>\n",
       "    </tr>\n",
       "  </thead>\n",
       "  <tbody>\n",
       "    <tr>\n",
       "      <th>20</th>\n",
       "      <td>Tumbwe</td>\n",
       "      <td>27.389360</td>\n",
       "      <td>-11.471787</td>\n",
       "      <td>1341.0000</td>\n",
       "      <td>-0.794529</td>\n",
       "      <td>Liquide</td>\n",
       "    </tr>\n",
       "    <tr>\n",
       "      <th>50</th>\n",
       "      <td>Tumbwe</td>\n",
       "      <td>27.390919</td>\n",
       "      <td>-11.475003</td>\n",
       "      <td>1338.5070</td>\n",
       "      <td>-0.794529</td>\n",
       "      <td>Liquide</td>\n",
       "    </tr>\n",
       "    <tr>\n",
       "      <th>80</th>\n",
       "      <td>Tumbwe</td>\n",
       "      <td>27.391808</td>\n",
       "      <td>-11.475637</td>\n",
       "      <td>1339.0120</td>\n",
       "      <td>-0.794529</td>\n",
       "      <td>Liquide</td>\n",
       "    </tr>\n",
       "    <tr>\n",
       "      <th>110</th>\n",
       "      <td>Tumbwe</td>\n",
       "      <td>27.392803</td>\n",
       "      <td>-11.476314</td>\n",
       "      <td>1340.4610</td>\n",
       "      <td>-0.794529</td>\n",
       "      <td>Liquide</td>\n",
       "    </tr>\n",
       "    <tr>\n",
       "      <th>140</th>\n",
       "      <td>Tumbwe</td>\n",
       "      <td>27.393934</td>\n",
       "      <td>-11.476886</td>\n",
       "      <td>1343.5050</td>\n",
       "      <td>-0.794529</td>\n",
       "      <td>Liquide</td>\n",
       "    </tr>\n",
       "    <tr>\n",
       "      <th>...</th>\n",
       "      <td>...</td>\n",
       "      <td>...</td>\n",
       "      <td>...</td>\n",
       "      <td>...</td>\n",
       "      <td>...</td>\n",
       "      <td>...</td>\n",
       "    </tr>\n",
       "    <tr>\n",
       "      <th>5193</th>\n",
       "      <td>KINSEVERE</td>\n",
       "      <td>27.500284</td>\n",
       "      <td>-11.583934</td>\n",
       "      <td>1188.6369</td>\n",
       "      <td>-35.219849</td>\n",
       "      <td>Liquide</td>\n",
       "    </tr>\n",
       "    <tr>\n",
       "      <th>5203</th>\n",
       "      <td>KINSEVERE</td>\n",
       "      <td>27.499655</td>\n",
       "      <td>-11.583269</td>\n",
       "      <td>1187.8608</td>\n",
       "      <td>-35.219849</td>\n",
       "      <td>Liquide</td>\n",
       "    </tr>\n",
       "    <tr>\n",
       "      <th>5213</th>\n",
       "      <td>KINSEVERE</td>\n",
       "      <td>27.500588</td>\n",
       "      <td>-11.582730</td>\n",
       "      <td>1186.8692</td>\n",
       "      <td>-35.219849</td>\n",
       "      <td>Liquide</td>\n",
       "    </tr>\n",
       "    <tr>\n",
       "      <th>5223</th>\n",
       "      <td>KINSEVERE</td>\n",
       "      <td>27.501601</td>\n",
       "      <td>-11.581927</td>\n",
       "      <td>1185.9133</td>\n",
       "      <td>-35.219849</td>\n",
       "      <td>Liquide</td>\n",
       "    </tr>\n",
       "    <tr>\n",
       "      <th>5233</th>\n",
       "      <td>KINSEVERE</td>\n",
       "      <td>27.502679</td>\n",
       "      <td>-11.581215</td>\n",
       "      <td>1183.3166</td>\n",
       "      <td>-35.219849</td>\n",
       "      <td>Liquide</td>\n",
       "    </tr>\n",
       "  </tbody>\n",
       "</table>\n",
       "<p>201 rows × 6 columns</p>\n",
       "</div>"
      ],
      "text/plain": [
       "           Site  Longitude   Latitude   Altitude         Ic Classe_Ic\n",
       "20       Tumbwe  27.389360 -11.471787  1341.0000  -0.794529   Liquide\n",
       "50       Tumbwe  27.390919 -11.475003  1338.5070  -0.794529   Liquide\n",
       "80       Tumbwe  27.391808 -11.475637  1339.0120  -0.794529   Liquide\n",
       "110      Tumbwe  27.392803 -11.476314  1340.4610  -0.794529   Liquide\n",
       "140      Tumbwe  27.393934 -11.476886  1343.5050  -0.794529   Liquide\n",
       "...         ...        ...        ...        ...        ...       ...\n",
       "5193  KINSEVERE  27.500284 -11.583934  1188.6369 -35.219849   Liquide\n",
       "5203  KINSEVERE  27.499655 -11.583269  1187.8608 -35.219849   Liquide\n",
       "5213  KINSEVERE  27.500588 -11.582730  1186.8692 -35.219849   Liquide\n",
       "5223  KINSEVERE  27.501601 -11.581927  1185.9133 -35.219849   Liquide\n",
       "5233  KINSEVERE  27.502679 -11.581215  1183.3166 -35.219849   Liquide\n",
       "\n",
       "[201 rows x 6 columns]"
      ]
     },
     "execution_count": 28,
     "metadata": {},
     "output_type": "execute_result"
    }
   ],
   "source": [
    "Classe_Liquide = data[data['Classe_Ic'] == 'Liquide']\n",
    "Classe_Liquide"
   ]
  },
  {
   "cell_type": "code",
   "execution_count": 29,
   "id": "39d90ca3-587e-47a7-8a25-bc2533e41f00",
   "metadata": {},
   "outputs": [
    {
     "data": {
      "text/html": [
       "<div>\n",
       "<style scoped>\n",
       "    .dataframe tbody tr th:only-of-type {\n",
       "        vertical-align: middle;\n",
       "    }\n",
       "\n",
       "    .dataframe tbody tr th {\n",
       "        vertical-align: top;\n",
       "    }\n",
       "\n",
       "    .dataframe thead th {\n",
       "        text-align: right;\n",
       "    }\n",
       "</style>\n",
       "<table border=\"1\" class=\"dataframe\">\n",
       "  <thead>\n",
       "    <tr style=\"text-align: right;\">\n",
       "      <th></th>\n",
       "      <th>Site</th>\n",
       "      <th>Longitude</th>\n",
       "      <th>Latitude</th>\n",
       "      <th>Altitude</th>\n",
       "      <th>Ic</th>\n",
       "      <th>Classe_Ic</th>\n",
       "    </tr>\n",
       "  </thead>\n",
       "  <tbody>\n",
       "    <tr>\n",
       "      <th>0</th>\n",
       "      <td>Tumbwe</td>\n",
       "      <td>27.398758</td>\n",
       "      <td>-11.479370</td>\n",
       "      <td>1356.0000</td>\n",
       "      <td>1.032063</td>\n",
       "      <td>Dur</td>\n",
       "    </tr>\n",
       "    <tr>\n",
       "      <th>1</th>\n",
       "      <td>Tumbwe</td>\n",
       "      <td>27.398610</td>\n",
       "      <td>-11.478151</td>\n",
       "      <td>1354.0000</td>\n",
       "      <td>27.390744</td>\n",
       "      <td>Dur</td>\n",
       "    </tr>\n",
       "    <tr>\n",
       "      <th>2</th>\n",
       "      <td>Tumbwe</td>\n",
       "      <td>27.399395</td>\n",
       "      <td>-11.476759</td>\n",
       "      <td>1354.0000</td>\n",
       "      <td>1.541371</td>\n",
       "      <td>Dur</td>\n",
       "    </tr>\n",
       "    <tr>\n",
       "      <th>3</th>\n",
       "      <td>Tumbwe</td>\n",
       "      <td>27.399987</td>\n",
       "      <td>-11.475205</td>\n",
       "      <td>1354.0000</td>\n",
       "      <td>1.081573</td>\n",
       "      <td>Dur</td>\n",
       "    </tr>\n",
       "    <tr>\n",
       "      <th>4</th>\n",
       "      <td>Tumbwe</td>\n",
       "      <td>27.400558</td>\n",
       "      <td>-11.474226</td>\n",
       "      <td>1353.0000</td>\n",
       "      <td>1.364352</td>\n",
       "      <td>Dur</td>\n",
       "    </tr>\n",
       "    <tr>\n",
       "      <th>...</th>\n",
       "      <td>...</td>\n",
       "      <td>...</td>\n",
       "      <td>...</td>\n",
       "      <td>...</td>\n",
       "      <td>...</td>\n",
       "      <td>...</td>\n",
       "    </tr>\n",
       "    <tr>\n",
       "      <th>5193</th>\n",
       "      <td>KINSEVERE</td>\n",
       "      <td>27.500284</td>\n",
       "      <td>-11.583934</td>\n",
       "      <td>1188.6369</td>\n",
       "      <td>-35.219849</td>\n",
       "      <td>Liquide</td>\n",
       "    </tr>\n",
       "    <tr>\n",
       "      <th>5203</th>\n",
       "      <td>KINSEVERE</td>\n",
       "      <td>27.499655</td>\n",
       "      <td>-11.583269</td>\n",
       "      <td>1187.8608</td>\n",
       "      <td>-35.219849</td>\n",
       "      <td>Liquide</td>\n",
       "    </tr>\n",
       "    <tr>\n",
       "      <th>5213</th>\n",
       "      <td>KINSEVERE</td>\n",
       "      <td>27.500588</td>\n",
       "      <td>-11.582730</td>\n",
       "      <td>1186.8692</td>\n",
       "      <td>-35.219849</td>\n",
       "      <td>Liquide</td>\n",
       "    </tr>\n",
       "    <tr>\n",
       "      <th>5223</th>\n",
       "      <td>KINSEVERE</td>\n",
       "      <td>27.501601</td>\n",
       "      <td>-11.581927</td>\n",
       "      <td>1185.9133</td>\n",
       "      <td>-35.219849</td>\n",
       "      <td>Liquide</td>\n",
       "    </tr>\n",
       "    <tr>\n",
       "      <th>5233</th>\n",
       "      <td>KINSEVERE</td>\n",
       "      <td>27.502679</td>\n",
       "      <td>-11.581215</td>\n",
       "      <td>1183.3166</td>\n",
       "      <td>-35.219849</td>\n",
       "      <td>Liquide</td>\n",
       "    </tr>\n",
       "  </tbody>\n",
       "</table>\n",
       "<p>1779 rows × 6 columns</p>\n",
       "</div>"
      ],
      "text/plain": [
       "           Site  Longitude   Latitude   Altitude         Ic Classe_Ic\n",
       "0        Tumbwe  27.398758 -11.479370  1356.0000   1.032063       Dur\n",
       "1        Tumbwe  27.398610 -11.478151  1354.0000  27.390744       Dur\n",
       "2        Tumbwe  27.399395 -11.476759  1354.0000   1.541371       Dur\n",
       "3        Tumbwe  27.399987 -11.475205  1354.0000   1.081573       Dur\n",
       "4        Tumbwe  27.400558 -11.474226  1353.0000   1.364352       Dur\n",
       "...         ...        ...        ...        ...        ...       ...\n",
       "5193  KINSEVERE  27.500284 -11.583934  1188.6369 -35.219849   Liquide\n",
       "5203  KINSEVERE  27.499655 -11.583269  1187.8608 -35.219849   Liquide\n",
       "5213  KINSEVERE  27.500588 -11.582730  1186.8692 -35.219849   Liquide\n",
       "5223  KINSEVERE  27.501601 -11.581927  1185.9133 -35.219849   Liquide\n",
       "5233  KINSEVERE  27.502679 -11.581215  1183.3166 -35.219849   Liquide\n",
       "\n",
       "[1779 rows x 6 columns]"
      ]
     },
     "execution_count": 29,
     "metadata": {},
     "output_type": "execute_result"
    }
   ],
   "source": [
    "# POUR CONCATEBER CES DONNEES\n",
    "data_concat = pd.concat([Classe_Dur, Classe_Terne, Classe_Mi_Dur, Classe_Liquide])\n",
    "data_concat"
   ]
  },
  {
   "cell_type": "code",
   "execution_count": 30,
   "id": "0e7ff719-6a66-4cf6-8879-84d4248a0ae1",
   "metadata": {},
   "outputs": [
    {
     "data": {
      "text/plain": [
       "array(['Dur', 'Terne', 'Mi-dur', 'Liquide'], dtype=object)"
      ]
     },
     "execution_count": 30,
     "metadata": {},
     "output_type": "execute_result"
    }
   ],
   "source": [
    "data_concat['Classe_Ic'].unique()"
   ]
  },
  {
   "cell_type": "code",
   "execution_count": 31,
   "id": "d5bf22bd-fe7b-405a-948b-7f9ef7591532",
   "metadata": {},
   "outputs": [
    {
     "data": {
      "text/plain": [
       "Classe_Ic\n",
       "Terne      628\n",
       "Dur        625\n",
       "Mi-dur     325\n",
       "Liquide    201\n",
       "Name: count, dtype: int64"
      ]
     },
     "execution_count": 31,
     "metadata": {},
     "output_type": "execute_result"
    }
   ],
   "source": [
    "data_concat['Classe_Ic'].value_counts()"
   ]
  },
  {
   "cell_type": "code",
   "execution_count": 32,
   "id": "18eddeea-7830-4459-87dd-8a8f2a2fce01",
   "metadata": {},
   "outputs": [],
   "source": [
    "Encoder = LabelEncoder()"
   ]
  },
  {
   "cell_type": "code",
   "execution_count": 33,
   "id": "5a402d5c-ccbe-4c8d-83b4-6a4de31251e8",
   "metadata": {},
   "outputs": [
    {
     "data": {
      "text/html": [
       "<div>\n",
       "<style scoped>\n",
       "    .dataframe tbody tr th:only-of-type {\n",
       "        vertical-align: middle;\n",
       "    }\n",
       "\n",
       "    .dataframe tbody tr th {\n",
       "        vertical-align: top;\n",
       "    }\n",
       "\n",
       "    .dataframe thead th {\n",
       "        text-align: right;\n",
       "    }\n",
       "</style>\n",
       "<table border=\"1\" class=\"dataframe\">\n",
       "  <thead>\n",
       "    <tr style=\"text-align: right;\">\n",
       "      <th></th>\n",
       "      <th>Site</th>\n",
       "      <th>Longitude</th>\n",
       "      <th>Latitude</th>\n",
       "      <th>Altitude</th>\n",
       "      <th>Ic</th>\n",
       "      <th>Classe_Ic</th>\n",
       "    </tr>\n",
       "  </thead>\n",
       "  <tbody>\n",
       "    <tr>\n",
       "      <th>0</th>\n",
       "      <td>6</td>\n",
       "      <td>27.398758</td>\n",
       "      <td>-11.479370</td>\n",
       "      <td>1356.0000</td>\n",
       "      <td>1.032063</td>\n",
       "      <td>0</td>\n",
       "    </tr>\n",
       "    <tr>\n",
       "      <th>1</th>\n",
       "      <td>6</td>\n",
       "      <td>27.398610</td>\n",
       "      <td>-11.478151</td>\n",
       "      <td>1354.0000</td>\n",
       "      <td>27.390744</td>\n",
       "      <td>0</td>\n",
       "    </tr>\n",
       "    <tr>\n",
       "      <th>2</th>\n",
       "      <td>6</td>\n",
       "      <td>27.399395</td>\n",
       "      <td>-11.476759</td>\n",
       "      <td>1354.0000</td>\n",
       "      <td>1.541371</td>\n",
       "      <td>0</td>\n",
       "    </tr>\n",
       "    <tr>\n",
       "      <th>3</th>\n",
       "      <td>6</td>\n",
       "      <td>27.399987</td>\n",
       "      <td>-11.475205</td>\n",
       "      <td>1354.0000</td>\n",
       "      <td>1.081573</td>\n",
       "      <td>0</td>\n",
       "    </tr>\n",
       "    <tr>\n",
       "      <th>4</th>\n",
       "      <td>6</td>\n",
       "      <td>27.400558</td>\n",
       "      <td>-11.474226</td>\n",
       "      <td>1353.0000</td>\n",
       "      <td>1.364352</td>\n",
       "      <td>0</td>\n",
       "    </tr>\n",
       "    <tr>\n",
       "      <th>...</th>\n",
       "      <td>...</td>\n",
       "      <td>...</td>\n",
       "      <td>...</td>\n",
       "      <td>...</td>\n",
       "      <td>...</td>\n",
       "      <td>...</td>\n",
       "    </tr>\n",
       "    <tr>\n",
       "      <th>5193</th>\n",
       "      <td>2</td>\n",
       "      <td>27.500284</td>\n",
       "      <td>-11.583934</td>\n",
       "      <td>1188.6369</td>\n",
       "      <td>-35.219849</td>\n",
       "      <td>1</td>\n",
       "    </tr>\n",
       "    <tr>\n",
       "      <th>5203</th>\n",
       "      <td>2</td>\n",
       "      <td>27.499655</td>\n",
       "      <td>-11.583269</td>\n",
       "      <td>1187.8608</td>\n",
       "      <td>-35.219849</td>\n",
       "      <td>1</td>\n",
       "    </tr>\n",
       "    <tr>\n",
       "      <th>5213</th>\n",
       "      <td>2</td>\n",
       "      <td>27.500588</td>\n",
       "      <td>-11.582730</td>\n",
       "      <td>1186.8692</td>\n",
       "      <td>-35.219849</td>\n",
       "      <td>1</td>\n",
       "    </tr>\n",
       "    <tr>\n",
       "      <th>5223</th>\n",
       "      <td>2</td>\n",
       "      <td>27.501601</td>\n",
       "      <td>-11.581927</td>\n",
       "      <td>1185.9133</td>\n",
       "      <td>-35.219849</td>\n",
       "      <td>1</td>\n",
       "    </tr>\n",
       "    <tr>\n",
       "      <th>5233</th>\n",
       "      <td>2</td>\n",
       "      <td>27.502679</td>\n",
       "      <td>-11.581215</td>\n",
       "      <td>1183.3166</td>\n",
       "      <td>-35.219849</td>\n",
       "      <td>1</td>\n",
       "    </tr>\n",
       "  </tbody>\n",
       "</table>\n",
       "<p>1779 rows × 6 columns</p>\n",
       "</div>"
      ],
      "text/plain": [
       "      Site  Longitude   Latitude   Altitude         Ic  Classe_Ic\n",
       "0        6  27.398758 -11.479370  1356.0000   1.032063          0\n",
       "1        6  27.398610 -11.478151  1354.0000  27.390744          0\n",
       "2        6  27.399395 -11.476759  1354.0000   1.541371          0\n",
       "3        6  27.399987 -11.475205  1354.0000   1.081573          0\n",
       "4        6  27.400558 -11.474226  1353.0000   1.364352          0\n",
       "...    ...        ...        ...        ...        ...        ...\n",
       "5193     2  27.500284 -11.583934  1188.6369 -35.219849          1\n",
       "5203     2  27.499655 -11.583269  1187.8608 -35.219849          1\n",
       "5213     2  27.500588 -11.582730  1186.8692 -35.219849          1\n",
       "5223     2  27.501601 -11.581927  1185.9133 -35.219849          1\n",
       "5233     2  27.502679 -11.581215  1183.3166 -35.219849          1\n",
       "\n",
       "[1779 rows x 6 columns]"
      ]
     },
     "execution_count": 33,
     "metadata": {},
     "output_type": "execute_result"
    }
   ],
   "source": [
    "data_concat['Site'] = Encoder.fit_transform(data_concat['Site'])\n",
    "data_concat['Classe_Ic'] = Encoder.fit_transform(data_concat['Classe_Ic'])\n",
    "data_concat"
   ]
  },
  {
   "cell_type": "code",
   "execution_count": 34,
   "id": "97bbfe7f-ef12-4358-837c-9749e091dee4",
   "metadata": {},
   "outputs": [
    {
     "data": {
      "text/plain": [
       "array([0, 3, 2, 1])"
      ]
     },
     "execution_count": 34,
     "metadata": {},
     "output_type": "execute_result"
    }
   ],
   "source": [
    "data_concat['Classe_Ic'].unique()"
   ]
  },
  {
   "cell_type": "code",
   "execution_count": 35,
   "id": "4605cd90-c96c-47ba-bd9e-a71d351fab23",
   "metadata": {},
   "outputs": [
    {
     "data": {
      "text/plain": [
       "Classe_Ic\n",
       "3    628\n",
       "0    625\n",
       "2    325\n",
       "1    201\n",
       "Name: count, dtype: int64"
      ]
     },
     "execution_count": 35,
     "metadata": {},
     "output_type": "execute_result"
    }
   ],
   "source": [
    "data_concat['Classe_Ic'].value_counts()"
   ]
  },
  {
   "cell_type": "code",
   "execution_count": 36,
   "id": "1a662d7d-d857-424f-a1d0-8b4a412ad011",
   "metadata": {},
   "outputs": [
    {
     "name": "stdout",
     "output_type": "stream",
     "text": [
      "<class 'pandas.core.frame.DataFrame'>\n",
      "Index: 1779 entries, 0 to 5233\n",
      "Data columns (total 6 columns):\n",
      " #   Column     Non-Null Count  Dtype  \n",
      "---  ------     --------------  -----  \n",
      " 0   Site       1779 non-null   int32  \n",
      " 1   Longitude  1779 non-null   float64\n",
      " 2   Latitude   1779 non-null   float64\n",
      " 3   Altitude   1779 non-null   float64\n",
      " 4   Ic         1779 non-null   float64\n",
      " 5   Classe_Ic  1779 non-null   int32  \n",
      "dtypes: float64(4), int32(2)\n",
      "memory usage: 83.4 KB\n"
     ]
    }
   ],
   "source": [
    "data_concat.info()"
   ]
  },
  {
   "cell_type": "code",
   "execution_count": 37,
   "id": "22896379-d2d2-46b0-937d-cb5a694106d3",
   "metadata": {},
   "outputs": [
    {
     "data": {
      "image/png": "[encoded data removed]",
      "text/plain": [
       "<Figure size 1200x800 with 2 Axes>"
      ]
     },
     "metadata": {},
     "output_type": "display_data"
    }
   ],
   "source": [
    "plt.figure(figsize=(12, 8))\n",
    "sns.heatmap(\n",
    "    data_concat.corr(),\n",
    "    annot=True,\n",
    "    fmt=\".2f\",\n",
    "    cmap='viridis',\n",
    "    square=True,\n",
    "    linewidths=0.5,\n",
    "    cbar_kws={\"shrink\": .8},  \n",
    ")\n",
    "plt.title('Correlation Heatmap of Mining Data', fontsize=16)\n",
    "plt.show()"
   ]
  },
  {
   "cell_type": "markdown",
   "id": "d28d8bbc-3c12-4409-b053-36c09533678b",
   "metadata": {},
   "source": [
    "# Etape5: DIVISION DES DONNEES---Test et Train"
   ]
  },
  {
   "cell_type": "code",
   "execution_count": 38,
   "id": "86207967-36d2-499a-b797-30880853e0b8",
   "metadata": {},
   "outputs": [],
   "source": [
    "X = data_concat.iloc[:,  :-1]\n",
    "y = data_concat.iloc[: , -1]\n",
    "y = to_categorical(y, num_classes=4)"
   ]
  },
  {
   "cell_type": "code",
   "execution_count": 39,
   "id": "28d747c1-f979-4c43-a228-71d1cb86585b",
   "metadata": {},
   "outputs": [],
   "source": [
    "#x"
   ]
  },
  {
   "cell_type": "code",
   "execution_count": 40,
   "id": "12569511-a93e-4eca-a3ee-4476d3e811eb",
   "metadata": {},
   "outputs": [],
   "source": [
    "#y"
   ]
  },
  {
   "cell_type": "code",
   "execution_count": 41,
   "id": "380a1ef1-dde1-471e-9787-2b2fb38e56c6",
   "metadata": {},
   "outputs": [],
   "source": [
    "scaler = StandardScaler()\n",
    "\n",
    "X_normal = scaler.fit_transform(X)\n",
    "# X_test = scaler.transform(X_test)"
   ]
  },
  {
   "cell_type": "code",
   "execution_count": 42,
   "id": "ba4aefa0-cd27-49bb-92c9-e3055345c2f9",
   "metadata": {},
   "outputs": [],
   "source": [
    "X_train, X_test, y_train, y_test = train_test_split(X_normal, y, test_size = 0.25, random_state=27)"
   ]
  },
  {
   "cell_type": "code",
   "execution_count": 43,
   "id": "e0e8d373-b66d-43c2-8c3f-1173f0800320",
   "metadata": {},
   "outputs": [
    {
     "data": {
      "text/plain": [
       "array([[ 1.88250429e-01,  1.72898448e-02, -2.45076377e-02,\n",
       "        -3.55838170e-01, -6.02282615e-02],\n",
       "       [-5.58584463e+00,  5.72945681e-01, -1.33249679e+00,\n",
       "        -4.95770413e+00, -4.25034459e+00],\n",
       "       [ 1.88250429e-01,  9.12963295e-02, -7.16160539e-02,\n",
       "         4.95516967e-01, -6.02282615e-02],\n",
       "       ...,\n",
       "       [ 1.88250429e-01,  7.57724702e-02,  3.37014916e-03,\n",
       "         3.83198603e-01,  8.18885863e-02],\n",
       "       [ 1.88250429e-01,  2.85026152e-02,  1.05113254e-02,\n",
       "        -2.65712521e-01, -2.18820498e-01],\n",
       "       [ 1.88250429e-01,  8.16857794e-02, -5.23739089e-02,\n",
       "         3.74553766e-01, -6.02282615e-02]])"
      ]
     },
     "execution_count": 43,
     "metadata": {},
     "output_type": "execute_result"
    }
   ],
   "source": [
    "X_train"
   ]
  },
  {
   "cell_type": "code",
   "execution_count": 44,
   "id": "e8b2a15b-4f8f-46e1-8a48-7bd06faea2b9",
   "metadata": {},
   "outputs": [
    {
     "data": {
      "text/plain": [
       "array([[0., 0., 0., 1.],\n",
       "       [0., 1., 0., 0.],\n",
       "       [0., 0., 0., 1.],\n",
       "       ...,\n",
       "       [1., 0., 0., 0.],\n",
       "       [0., 1., 0., 0.],\n",
       "       [0., 0., 0., 1.]])"
      ]
     },
     "execution_count": 44,
     "metadata": {},
     "output_type": "execute_result"
    }
   ],
   "source": [
    "y_train"
   ]
  },
  {
   "cell_type": "code",
   "execution_count": 45,
   "id": "455ca93e-aa5d-4d31-a99d-da9bfa86ab48",
   "metadata": {},
   "outputs": [
    {
     "name": "stdout",
     "output_type": "stream",
     "text": [
      "X_train shape: (1334, 5)\n",
      "y_train shape: (1334, 4)\n",
      "X_test shape: (445, 5)\n",
      "y_test shape: (445, 4)\n"
     ]
    }
   ],
   "source": [
    "print(\"X_train shape:\", X_train.shape)\n",
    "print(\"y_train shape:\", y_train.shape)\n",
    "print(\"X_test shape:\", X_test.shape)\n",
    "print(\"y_test shape:\", y_test.shape)"
   ]
  },
  {
   "cell_type": "markdown",
   "id": "42e434dd-6112-4d88-bf82-5fcc9c386790",
   "metadata": {},
   "source": [
    "# Etape6: CONSTRUCTION DE Shallow Neural Network avec 5 Algorithmes"
   ]
  },
  {
   "cell_type": "markdown",
   "id": "7fe4379f-e182-4151-8bfd-38c78c54d482",
   "metadata": {},
   "source": [
    "# Normalisation des données"
   ]
  },
  {
   "cell_type": "code",
   "execution_count": 46,
   "id": "724d6c40-6034-4d06-8525-b81edfec25fd",
   "metadata": {},
   "outputs": [],
   "source": [
    "# Créer une instance de la classe Sequential \n",
    "model_dnn = Sequential()\n",
    "\n",
    "#model_dnn = tf.keras.models.Sequential()"
   ]
  },
  {
   "cell_type": "code",
   "execution_count": 47,
   "id": "2c06bef8-01e7-483f-b2b0-ddb369fd98d1",
   "metadata": {},
   "outputs": [
    {
     "data": {
      "text/html": [
       "<pre style=\"white-space:pre;overflow-x:auto;line-height:normal;font-family:Menlo,'DejaVu Sans Mono',consolas,'Courier New',monospace\"><span style=\"font-weight: bold\">Model: \"sequential\"</span>\n",
       "</pre>\n"
      ],
      "text/plain": [
       "\u001b[1mModel: \"sequential\"\u001b[0m\n"
      ]
     },
     "metadata": {},
     "output_type": "display_data"
    },
    {
     "data": {
      "text/html": [
       "<pre style=\"white-space:pre;overflow-x:auto;line-height:normal;font-family:Menlo,'DejaVu Sans Mono',consolas,'Courier New',monospace\">┏━━━━━━━━━━━━━━━━━━━━━━━━━━━━━━━━━┳━━━━━━━━━━━━━━━━━━━━━━━━┳━━━━━━━━━━━━━━━┓\n",
       "┃<span style=\"font-weight: bold\"> Layer (type)                    </span>┃<span style=\"font-weight: bold\"> Output Shape           </span>┃<span style=\"font-weight: bold\">       Param # </span>┃\n",
       "┡━━━━━━━━━━━━━━━━━━━━━━━━━━━━━━━━━╇━━━━━━━━━━━━━━━━━━━━━━━━╇━━━━━━━━━━━━━━━┩\n",
       "│ dense (<span style=\"color: #0087ff; text-decoration-color: #0087ff\">Dense</span>)                   │ (<span style=\"color: #00d7ff; text-decoration-color: #00d7ff\">None</span>, <span style=\"color: #00af00; text-decoration-color: #00af00\">10</span>)             │            <span style=\"color: #00af00; text-decoration-color: #00af00\">60</span> │\n",
       "├─────────────────────────────────┼────────────────────────┼───────────────┤\n",
       "│ dense_1 (<span style=\"color: #0087ff; text-decoration-color: #0087ff\">Dense</span>)                 │ (<span style=\"color: #00d7ff; text-decoration-color: #00d7ff\">None</span>, <span style=\"color: #00af00; text-decoration-color: #00af00\">128</span>)            │         <span style=\"color: #00af00; text-decoration-color: #00af00\">1,408</span> │\n",
       "├─────────────────────────────────┼────────────────────────┼───────────────┤\n",
       "│ dropout (<span style=\"color: #0087ff; text-decoration-color: #0087ff\">Dropout</span>)               │ (<span style=\"color: #00d7ff; text-decoration-color: #00d7ff\">None</span>, <span style=\"color: #00af00; text-decoration-color: #00af00\">128</span>)            │             <span style=\"color: #00af00; text-decoration-color: #00af00\">0</span> │\n",
       "├─────────────────────────────────┼────────────────────────┼───────────────┤\n",
       "│ dense_2 (<span style=\"color: #0087ff; text-decoration-color: #0087ff\">Dense</span>)                 │ (<span style=\"color: #00d7ff; text-decoration-color: #00d7ff\">None</span>, <span style=\"color: #00af00; text-decoration-color: #00af00\">64</span>)             │         <span style=\"color: #00af00; text-decoration-color: #00af00\">8,256</span> │\n",
       "├─────────────────────────────────┼────────────────────────┼───────────────┤\n",
       "│ dropout_1 (<span style=\"color: #0087ff; text-decoration-color: #0087ff\">Dropout</span>)             │ (<span style=\"color: #00d7ff; text-decoration-color: #00d7ff\">None</span>, <span style=\"color: #00af00; text-decoration-color: #00af00\">64</span>)             │             <span style=\"color: #00af00; text-decoration-color: #00af00\">0</span> │\n",
       "├─────────────────────────────────┼────────────────────────┼───────────────┤\n",
       "│ dense_3 (<span style=\"color: #0087ff; text-decoration-color: #0087ff\">Dense</span>)                 │ (<span style=\"color: #00d7ff; text-decoration-color: #00d7ff\">None</span>, <span style=\"color: #00af00; text-decoration-color: #00af00\">32</span>)             │         <span style=\"color: #00af00; text-decoration-color: #00af00\">2,080</span> │\n",
       "├─────────────────────────────────┼────────────────────────┼───────────────┤\n",
       "│ dense_4 (<span style=\"color: #0087ff; text-decoration-color: #0087ff\">Dense</span>)                 │ (<span style=\"color: #00d7ff; text-decoration-color: #00d7ff\">None</span>, <span style=\"color: #00af00; text-decoration-color: #00af00\">4</span>)              │           <span style=\"color: #00af00; text-decoration-color: #00af00\">132</span> │\n",
       "└─────────────────────────────────┴────────────────────────┴───────────────┘\n",
       "</pre>\n"
      ],
      "text/plain": [
       "┏━━━━━━━━━━━━━━━━━━━━━━━━━━━━━━━━━┳━━━━━━━━━━━━━━━━━━━━━━━━┳━━━━━━━━━━━━━━━┓\n",
       "┃\u001b[1m \u001b[0m\u001b[1mLayer (type)                   \u001b[0m\u001b[1m \u001b[0m┃\u001b[1m \u001b[0m\u001b[1mOutput Shape          \u001b[0m\u001b[1m \u001b[0m┃\u001b[1m \u001b[0m\u001b[1m      Param #\u001b[0m\u001b[1m \u001b[0m┃\n",
       "┡━━━━━━━━━━━━━━━━━━━━━━━━━━━━━━━━━╇━━━━━━━━━━━━━━━━━━━━━━━━╇━━━━━━━━━━━━━━━┩\n",
       "│ dense (\u001b[38;5;33mDense\u001b[0m)                   │ (\u001b[38;5;45mNone\u001b[0m, \u001b[38;5;34m10\u001b[0m)             │            \u001b[38;5;34m60\u001b[0m │\n",
       "├─────────────────────────────────┼────────────────────────┼───────────────┤\n",
       "│ dense_1 (\u001b[38;5;33mDense\u001b[0m)                 │ (\u001b[38;5;45mNone\u001b[0m, \u001b[38;5;34m128\u001b[0m)            │         \u001b[38;5;34m1,408\u001b[0m │\n",
       "├─────────────────────────────────┼────────────────────────┼───────────────┤\n",
       "│ dropout (\u001b[38;5;33mDropout\u001b[0m)               │ (\u001b[38;5;45mNone\u001b[0m, \u001b[38;5;34m128\u001b[0m)            │             \u001b[38;5;34m0\u001b[0m │\n",
       "├─────────────────────────────────┼────────────────────────┼───────────────┤\n",
       "│ dense_2 (\u001b[38;5;33mDense\u001b[0m)                 │ (\u001b[38;5;45mNone\u001b[0m, \u001b[38;5;34m64\u001b[0m)             │         \u001b[38;5;34m8,256\u001b[0m │\n",
       "├─────────────────────────────────┼────────────────────────┼───────────────┤\n",
       "│ dropout_1 (\u001b[38;5;33mDropout\u001b[0m)             │ (\u001b[38;5;45mNone\u001b[0m, \u001b[38;5;34m64\u001b[0m)             │             \u001b[38;5;34m0\u001b[0m │\n",
       "├─────────────────────────────────┼────────────────────────┼───────────────┤\n",
       "│ dense_3 (\u001b[38;5;33mDense\u001b[0m)                 │ (\u001b[38;5;45mNone\u001b[0m, \u001b[38;5;34m32\u001b[0m)             │         \u001b[38;5;34m2,080\u001b[0m │\n",
       "├─────────────────────────────────┼────────────────────────┼───────────────┤\n",
       "│ dense_4 (\u001b[38;5;33mDense\u001b[0m)                 │ (\u001b[38;5;45mNone\u001b[0m, \u001b[38;5;34m4\u001b[0m)              │           \u001b[38;5;34m132\u001b[0m │\n",
       "└─────────────────────────────────┴────────────────────────┴───────────────┘\n"
      ]
     },
     "metadata": {},
     "output_type": "display_data"
    },
    {
     "data": {
      "text/html": [
       "<pre style=\"white-space:pre;overflow-x:auto;line-height:normal;font-family:Menlo,'DejaVu Sans Mono',consolas,'Courier New',monospace\"><span style=\"font-weight: bold\"> Total params: </span><span style=\"color: #00af00; text-decoration-color: #00af00\">11,936</span> (46.62 KB)\n",
       "</pre>\n"
      ],
      "text/plain": [
       "\u001b[1m Total params: \u001b[0m\u001b[38;5;34m11,936\u001b[0m (46.62 KB)\n"
      ]
     },
     "metadata": {},
     "output_type": "display_data"
    },
    {
     "data": {
      "text/html": [
       "<pre style=\"white-space:pre;overflow-x:auto;line-height:normal;font-family:Menlo,'DejaVu Sans Mono',consolas,'Courier New',monospace\"><span style=\"font-weight: bold\"> Trainable params: </span><span style=\"color: #00af00; text-decoration-color: #00af00\">11,936</span> (46.62 KB)\n",
       "</pre>\n"
      ],
      "text/plain": [
       "\u001b[1m Trainable params: \u001b[0m\u001b[38;5;34m11,936\u001b[0m (46.62 KB)\n"
      ]
     },
     "metadata": {},
     "output_type": "display_data"
    },
    {
     "data": {
      "text/html": [
       "<pre style=\"white-space:pre;overflow-x:auto;line-height:normal;font-family:Menlo,'DejaVu Sans Mono',consolas,'Courier New',monospace\"><span style=\"font-weight: bold\"> Non-trainable params: </span><span style=\"color: #00af00; text-decoration-color: #00af00\">0</span> (0.00 B)\n",
       "</pre>\n"
      ],
      "text/plain": [
       "\u001b[1m Non-trainable params: \u001b[0m\u001b[38;5;34m0\u001b[0m (0.00 B)\n"
      ]
     },
     "metadata": {},
     "output_type": "display_data"
    }
   ],
   "source": [
    "# AJOUT DE LA 1ère COUCHE\n",
    "model_dnn.add(Dense(10, input_shape=(5,), activation='relu'))\n",
    "\n",
    "# AJOUT DE INTERMEDIAIRE 1 (2èmè couche)\n",
    "model_dnn.add(Dense(128, activation='relu'))\n",
    "model_dnn.add(Dropout(0.5))\n",
    "\n",
    "# AJOUT DE LA  (3èm couche intermédiaire)\n",
    "model_dnn.add(Dense(64, activation='relu'))\n",
    "model_dnn.add(Dropout(0.2))\n",
    "\n",
    "# AJOUT DE LA  (4èm couche intermédiaire)\n",
    "model_dnn.add(Dense(32, activation='relu'))\n",
    "\n",
    "\n",
    "\n",
    "# COUCHE DE SORTIE\n",
    "model_dnn.add(Dense(4, activation='softmax'))\n",
    "\n",
    "# COMPILATION DE MODEL\n",
    "model_dnn.compile(optimizer=Adam(learning_rate=0.01), loss='categorical_crossentropy', metrics=['accuracy'])\n",
    "# AFFICHAGE DE L'AQRCHITECTURE DU Rx DE NEURONE\n",
    "model_dnn.summary()"
   ]
  },
  {
   "cell_type": "code",
   "execution_count": 48,
   "id": "045e28e5-85bc-4e86-838e-370d4eb94b60",
   "metadata": {},
   "outputs": [
    {
     "name": "stdout",
     "output_type": "stream",
     "text": [
      "Epoch 1/150\n",
      "\u001b[1m42/42\u001b[0m \u001b[32m━━━━━━━━━━━━━━━━━━━━\u001b[0m\u001b[37m\u001b[0m \u001b[1m3s\u001b[0m 19ms/step - accuracy: 0.4986 - loss: 1.2449 - val_accuracy: 0.7011 - val_loss: 0.7961\n",
      "Epoch 2/150\n",
      "\u001b[1m42/42\u001b[0m \u001b[32m━━━━━━━━━━━━━━━━━━━━\u001b[0m\u001b[37m\u001b[0m \u001b[1m1s\u001b[0m 11ms/step - accuracy: 0.7487 - loss: 0.6877 - val_accuracy: 0.8517 - val_loss: 0.3542\n",
      "Epoch 3/150\n",
      "\u001b[1m42/42\u001b[0m \u001b[32m━━━━━━━━━━━━━━━━━━━━\u001b[0m\u001b[37m\u001b[0m \u001b[1m1s\u001b[0m 10ms/step - accuracy: 0.8404 - loss: 0.3871 - val_accuracy: 0.9236 - val_loss: 0.3637\n",
      "Epoch 4/150\n",
      "\u001b[1m42/42\u001b[0m \u001b[32m━━━━━━━━━━━━━━━━━━━━\u001b[0m\u001b[37m\u001b[0m \u001b[1m0s\u001b[0m 6ms/step - accuracy: 0.8709 - loss: 0.2791 - val_accuracy: 0.8202 - val_loss: 0.4130\n",
      "Epoch 5/150\n",
      "\u001b[1m42/42\u001b[0m \u001b[32m━━━━━━━━━━━━━━━━━━━━\u001b[0m\u001b[37m\u001b[0m \u001b[1m0s\u001b[0m 7ms/step - accuracy: 0.8256 - loss: 0.3702 - val_accuracy: 0.9618 - val_loss: 0.2161\n",
      "Epoch 6/150\n",
      "\u001b[1m42/42\u001b[0m \u001b[32m━━━━━━━━━━━━━━━━━━━━\u001b[0m\u001b[37m\u001b[0m \u001b[1m1s\u001b[0m 7ms/step - accuracy: 0.8825 - loss: 0.2754 - val_accuracy: 0.9775 - val_loss: 0.1092\n",
      "Epoch 7/150\n",
      "\u001b[1m42/42\u001b[0m \u001b[32m━━━━━━━━━━━━━━━━━━━━\u001b[0m\u001b[37m\u001b[0m \u001b[1m0s\u001b[0m 9ms/step - accuracy: 0.9087 - loss: 0.2077 - val_accuracy: 0.9820 - val_loss: 0.1280\n",
      "Epoch 8/150\n",
      "\u001b[1m42/42\u001b[0m \u001b[32m━━━━━━━━━━━━━━━━━━━━\u001b[0m\u001b[37m\u001b[0m \u001b[1m0s\u001b[0m 7ms/step - accuracy: 0.9361 - loss: 0.1648 - val_accuracy: 0.9079 - val_loss: 0.2169\n",
      "Epoch 9/150\n",
      "\u001b[1m42/42\u001b[0m \u001b[32m━━━━━━━━━━━━━━━━━━━━\u001b[0m\u001b[37m\u001b[0m \u001b[1m0s\u001b[0m 7ms/step - accuracy: 0.9052 - loss: 0.2197 - val_accuracy: 0.9348 - val_loss: 0.1390\n",
      "Epoch 10/150\n",
      "\u001b[1m42/42\u001b[0m \u001b[32m━━━━━━━━━━━━━━━━━━━━\u001b[0m\u001b[37m\u001b[0m \u001b[1m0s\u001b[0m 9ms/step - accuracy: 0.9179 - loss: 0.1757 - val_accuracy: 0.9393 - val_loss: 0.1251\n",
      "Epoch 11/150\n",
      "\u001b[1m42/42\u001b[0m \u001b[32m━━━━━━━━━━━━━━━━━━━━\u001b[0m\u001b[37m\u001b[0m \u001b[1m1s\u001b[0m 7ms/step - accuracy: 0.9206 - loss: 0.1679 - val_accuracy: 0.9798 - val_loss: 0.1148\n",
      "Epoch 12/150\n",
      "\u001b[1m42/42\u001b[0m \u001b[32m━━━━━━━━━━━━━━━━━━━━\u001b[0m\u001b[37m\u001b[0m \u001b[1m1s\u001b[0m 7ms/step - accuracy: 0.9304 - loss: 0.1705 - val_accuracy: 0.9888 - val_loss: 0.0881\n",
      "Epoch 13/150\n",
      "\u001b[1m42/42\u001b[0m \u001b[32m━━━━━━━━━━━━━━━━━━━━\u001b[0m\u001b[37m\u001b[0m \u001b[1m0s\u001b[0m 9ms/step - accuracy: 0.9472 - loss: 0.1196 - val_accuracy: 0.9775 - val_loss: 0.0708\n",
      "Epoch 14/150\n",
      "\u001b[1m42/42\u001b[0m \u001b[32m━━━━━━━━━━━━━━━━━━━━\u001b[0m\u001b[37m\u001b[0m \u001b[1m0s\u001b[0m 7ms/step - accuracy: 0.9602 - loss: 0.1173 - val_accuracy: 0.9820 - val_loss: 0.0753\n",
      "Epoch 15/150\n",
      "\u001b[1m42/42\u001b[0m \u001b[32m━━━━━━━━━━━━━━━━━━━━\u001b[0m\u001b[37m\u001b[0m \u001b[1m0s\u001b[0m 7ms/step - accuracy: 0.9404 - loss: 0.1370 - val_accuracy: 0.9258 - val_loss: 0.1321\n",
      "Epoch 16/150\n",
      "\u001b[1m42/42\u001b[0m \u001b[32m━━━━━━━━━━━━━━━━━━━━\u001b[0m\u001b[37m\u001b[0m \u001b[1m0s\u001b[0m 8ms/step - accuracy: 0.9702 - loss: 0.0991 - val_accuracy: 0.9258 - val_loss: 0.1402\n",
      "Epoch 17/150\n",
      "\u001b[1m42/42\u001b[0m \u001b[32m━━━━━━━━━━━━━━━━━━━━\u001b[0m\u001b[37m\u001b[0m \u001b[1m0s\u001b[0m 7ms/step - accuracy: 0.9576 - loss: 0.0939 - val_accuracy: 0.9303 - val_loss: 0.1129\n",
      "Epoch 18/150\n",
      "\u001b[1m42/42\u001b[0m \u001b[32m━━━━━━━━━━━━━━━━━━━━\u001b[0m\u001b[37m\u001b[0m \u001b[1m1s\u001b[0m 10ms/step - accuracy: 0.9598 - loss: 0.1021 - val_accuracy: 0.9506 - val_loss: 0.0895\n",
      "Epoch 19/150\n",
      "\u001b[1m42/42\u001b[0m \u001b[32m━━━━━━━━━━━━━━━━━━━━\u001b[0m\u001b[37m\u001b[0m \u001b[1m1s\u001b[0m 9ms/step - accuracy: 0.9198 - loss: 0.1851 - val_accuracy: 0.9708 - val_loss: 0.0761\n",
      "Epoch 20/150\n",
      "\u001b[1m42/42\u001b[0m \u001b[32m━━━━━━━━━━━━━━━━━━━━\u001b[0m\u001b[37m\u001b[0m \u001b[1m0s\u001b[0m 7ms/step - accuracy: 0.9682 - loss: 0.0855 - val_accuracy: 0.9191 - val_loss: 0.1454\n",
      "Epoch 21/150\n",
      "\u001b[1m42/42\u001b[0m \u001b[32m━━━━━━━━━━━━━━━━━━━━\u001b[0m\u001b[37m\u001b[0m \u001b[1m1s\u001b[0m 6ms/step - accuracy: 0.9385 - loss: 0.1576 - val_accuracy: 0.9798 - val_loss: 0.0730\n",
      "Epoch 22/150\n",
      "\u001b[1m42/42\u001b[0m \u001b[32m━━━━━━━━━━━━━━━━━━━━\u001b[0m\u001b[37m\u001b[0m \u001b[1m0s\u001b[0m 7ms/step - accuracy: 0.9507 - loss: 0.1114 - val_accuracy: 0.9865 - val_loss: 0.0567\n",
      "Epoch 23/150\n",
      "\u001b[1m42/42\u001b[0m \u001b[32m━━━━━━━━━━━━━━━━━━━━\u001b[0m\u001b[37m\u001b[0m \u001b[1m1s\u001b[0m 7ms/step - accuracy: 0.9837 - loss: 0.0569 - val_accuracy: 0.9888 - val_loss: 0.0359\n",
      "Epoch 24/150\n",
      "\u001b[1m42/42\u001b[0m \u001b[32m━━━━━━━━━━━━━━━━━━━━\u001b[0m\u001b[37m\u001b[0m \u001b[1m1s\u001b[0m 7ms/step - accuracy: 0.9861 - loss: 0.0353 - val_accuracy: 0.9888 - val_loss: 0.0467\n",
      "Epoch 25/150\n",
      "\u001b[1m42/42\u001b[0m \u001b[32m━━━━━━━━━━━━━━━━━━━━\u001b[0m\u001b[37m\u001b[0m \u001b[1m0s\u001b[0m 8ms/step - accuracy: 0.9899 - loss: 0.0421 - val_accuracy: 0.9865 - val_loss: 0.0506\n",
      "Epoch 26/150\n",
      "\u001b[1m42/42\u001b[0m \u001b[32m━━━━━━━━━━━━━━━━━━━━\u001b[0m\u001b[37m\u001b[0m \u001b[1m1s\u001b[0m 7ms/step - accuracy: 0.9502 - loss: 0.1192 - val_accuracy: 0.9843 - val_loss: 0.0354\n",
      "Epoch 27/150\n",
      "\u001b[1m42/42\u001b[0m \u001b[32m━━━━━━━━━━━━━━━━━━━━\u001b[0m\u001b[37m\u001b[0m \u001b[1m0s\u001b[0m 7ms/step - accuracy: 0.9746 - loss: 0.0652 - val_accuracy: 0.9888 - val_loss: 0.0443\n",
      "Epoch 28/150\n",
      "\u001b[1m42/42\u001b[0m \u001b[32m━━━━━━━━━━━━━━━━━━━━\u001b[0m\u001b[37m\u001b[0m \u001b[1m0s\u001b[0m 7ms/step - accuracy: 0.9584 - loss: 0.1256 - val_accuracy: 0.9730 - val_loss: 0.0853\n",
      "Epoch 29/150\n",
      "\u001b[1m42/42\u001b[0m \u001b[32m━━━━━━━━━━━━━━━━━━━━\u001b[0m\u001b[37m\u001b[0m \u001b[1m0s\u001b[0m 7ms/step - accuracy: 0.9689 - loss: 0.0754 - val_accuracy: 0.9640 - val_loss: 0.0723\n",
      "Epoch 30/150\n",
      "\u001b[1m42/42\u001b[0m \u001b[32m━━━━━━━━━━━━━━━━━━━━\u001b[0m\u001b[37m\u001b[0m \u001b[1m1s\u001b[0m 7ms/step - accuracy: 0.9803 - loss: 0.0620 - val_accuracy: 0.9888 - val_loss: 0.0300\n",
      "Epoch 31/150\n",
      "\u001b[1m42/42\u001b[0m \u001b[32m━━━━━━━━━━━━━━━━━━━━\u001b[0m\u001b[37m\u001b[0m \u001b[1m0s\u001b[0m 7ms/step - accuracy: 0.9464 - loss: 0.1353 - val_accuracy: 0.8202 - val_loss: 0.2674\n",
      "Epoch 32/150\n",
      "\u001b[1m42/42\u001b[0m \u001b[32m━━━━━━━━━━━━━━━━━━━━\u001b[0m\u001b[37m\u001b[0m \u001b[1m1s\u001b[0m 7ms/step - accuracy: 0.8460 - loss: 0.2959 - val_accuracy: 0.9775 - val_loss: 0.2347\n",
      "Epoch 33/150\n",
      "\u001b[1m42/42\u001b[0m \u001b[32m━━━━━━━━━━━━━━━━━━━━\u001b[0m\u001b[37m\u001b[0m \u001b[1m0s\u001b[0m 7ms/step - accuracy: 0.9537 - loss: 0.1253 - val_accuracy: 0.9888 - val_loss: 0.0656\n",
      "Epoch 34/150\n",
      "\u001b[1m42/42\u001b[0m \u001b[32m━━━━━━━━━━━━━━━━━━━━\u001b[0m\u001b[37m\u001b[0m \u001b[1m0s\u001b[0m 7ms/step - accuracy: 0.9754 - loss: 0.0742 - val_accuracy: 0.9888 - val_loss: 0.0581\n",
      "Epoch 35/150\n",
      "\u001b[1m42/42\u001b[0m \u001b[32m━━━━━━━━━━━━━━━━━━━━\u001b[0m\u001b[37m\u001b[0m \u001b[1m1s\u001b[0m 7ms/step - accuracy: 0.9751 - loss: 0.0747 - val_accuracy: 0.9843 - val_loss: 0.0652\n",
      "Epoch 36/150\n",
      "\u001b[1m42/42\u001b[0m \u001b[32m━━━━━━━━━━━━━━━━━━━━\u001b[0m\u001b[37m\u001b[0m \u001b[1m0s\u001b[0m 7ms/step - accuracy: 0.9712 - loss: 0.0798 - val_accuracy: 0.9888 - val_loss: 0.0557\n",
      "Epoch 37/150\n",
      "\u001b[1m42/42\u001b[0m \u001b[32m━━━━━━━━━━━━━━━━━━━━\u001b[0m\u001b[37m\u001b[0m \u001b[1m1s\u001b[0m 10ms/step - accuracy: 0.9763 - loss: 0.0618 - val_accuracy: 0.9888 - val_loss: 0.0859\n",
      "Epoch 38/150\n",
      "\u001b[1m42/42\u001b[0m \u001b[32m━━━━━━━━━━━━━━━━━━━━\u001b[0m\u001b[37m\u001b[0m \u001b[1m0s\u001b[0m 7ms/step - accuracy: 0.9272 - loss: 0.1770 - val_accuracy: 0.9888 - val_loss: 0.0523\n",
      "Epoch 39/150\n",
      "\u001b[1m42/42\u001b[0m \u001b[32m━━━━━━━━━━━━━━━━━━━━\u001b[0m\u001b[37m\u001b[0m \u001b[1m0s\u001b[0m 8ms/step - accuracy: 0.9794 - loss: 0.0538 - val_accuracy: 0.9685 - val_loss: 0.0788\n",
      "Epoch 40/150\n",
      "\u001b[1m42/42\u001b[0m \u001b[32m━━━━━━━━━━━━━━━━━━━━\u001b[0m\u001b[37m\u001b[0m \u001b[1m1s\u001b[0m 7ms/step - accuracy: 0.9500 - loss: 0.1443 - val_accuracy: 0.8921 - val_loss: 0.2073\n",
      "Epoch 41/150\n",
      "\u001b[1m42/42\u001b[0m \u001b[32m━━━━━━━━━━━━━━━━━━━━\u001b[0m\u001b[37m\u001b[0m \u001b[1m1s\u001b[0m 7ms/step - accuracy: 0.8868 - loss: 0.2452 - val_accuracy: 0.9775 - val_loss: 0.0931\n",
      "Epoch 42/150\n",
      "\u001b[1m42/42\u001b[0m \u001b[32m━━━━━━━━━━━━━━━━━━━━\u001b[0m\u001b[37m\u001b[0m \u001b[1m0s\u001b[0m 7ms/step - accuracy: 0.9362 - loss: 0.2048 - val_accuracy: 0.9888 - val_loss: 0.0461\n",
      "Epoch 43/150\n",
      "\u001b[1m42/42\u001b[0m \u001b[32m━━━━━━━━━━━━━━━━━━━━\u001b[0m\u001b[37m\u001b[0m \u001b[1m1s\u001b[0m 8ms/step - accuracy: 0.9727 - loss: 0.0651 - val_accuracy: 0.9888 - val_loss: 0.0592\n",
      "Epoch 44/150\n",
      "\u001b[1m42/42\u001b[0m \u001b[32m━━━━━━━━━━━━━━━━━━━━\u001b[0m\u001b[37m\u001b[0m \u001b[1m1s\u001b[0m 7ms/step - accuracy: 0.9954 - loss: 0.0278 - val_accuracy: 0.9865 - val_loss: 0.0391\n",
      "Epoch 45/150\n",
      "\u001b[1m42/42\u001b[0m \u001b[32m━━━━━━━━━━━━━━━━━━━━\u001b[0m\u001b[37m\u001b[0m \u001b[1m0s\u001b[0m 9ms/step - accuracy: 0.9645 - loss: 0.0976 - val_accuracy: 0.9798 - val_loss: 0.0413\n",
      "Epoch 46/150\n",
      "\u001b[1m42/42\u001b[0m \u001b[32m━━━━━━━━━━━━━━━━━━━━\u001b[0m\u001b[37m\u001b[0m \u001b[1m1s\u001b[0m 7ms/step - accuracy: 0.9787 - loss: 0.0685 - val_accuracy: 0.9865 - val_loss: 0.0359\n",
      "Epoch 47/150\n",
      "\u001b[1m42/42\u001b[0m \u001b[32m━━━━━━━━━━━━━━━━━━━━\u001b[0m\u001b[37m\u001b[0m \u001b[1m1s\u001b[0m 10ms/step - accuracy: 0.9681 - loss: 0.0795 - val_accuracy: 0.9438 - val_loss: 0.1330\n",
      "Epoch 48/150\n",
      "\u001b[1m42/42\u001b[0m \u001b[32m━━━━━━━━━━━━━━━━━━━━\u001b[0m\u001b[37m\u001b[0m \u001b[1m0s\u001b[0m 7ms/step - accuracy: 0.9583 - loss: 0.1053 - val_accuracy: 0.9888 - val_loss: 0.0587\n",
      "Epoch 49/150\n",
      "\u001b[1m42/42\u001b[0m \u001b[32m━━━━━━━━━━━━━━━━━━━━\u001b[0m\u001b[37m\u001b[0m \u001b[1m1s\u001b[0m 7ms/step - accuracy: 0.9796 - loss: 0.0769 - val_accuracy: 0.9843 - val_loss: 0.0470\n",
      "Epoch 50/150\n",
      "\u001b[1m42/42\u001b[0m \u001b[32m━━━━━━━━━━━━━━━━━━━━\u001b[0m\u001b[37m\u001b[0m \u001b[1m0s\u001b[0m 7ms/step - accuracy: 0.9666 - loss: 0.0920 - val_accuracy: 0.8472 - val_loss: 0.3358\n",
      "Epoch 51/150\n",
      "\u001b[1m42/42\u001b[0m \u001b[32m━━━━━━━━━━━━━━━━━━━━\u001b[0m\u001b[37m\u001b[0m \u001b[1m0s\u001b[0m 8ms/step - accuracy: 0.9077 - loss: 0.2184 - val_accuracy: 0.9865 - val_loss: 0.0820\n",
      "Epoch 52/150\n",
      "\u001b[1m42/42\u001b[0m \u001b[32m━━━━━━━━━━━━━━━━━━━━\u001b[0m\u001b[37m\u001b[0m \u001b[1m1s\u001b[0m 7ms/step - accuracy: 0.9723 - loss: 0.1719 - val_accuracy: 0.9798 - val_loss: 0.0649\n",
      "Epoch 53/150\n",
      "\u001b[1m42/42\u001b[0m \u001b[32m━━━━━━━━━━━━━━━━━━━━\u001b[0m\u001b[37m\u001b[0m \u001b[1m0s\u001b[0m 7ms/step - accuracy: 0.9886 - loss: 0.0998 - val_accuracy: 0.9888 - val_loss: 0.0235\n",
      "Epoch 54/150\n",
      "\u001b[1m42/42\u001b[0m \u001b[32m━━━━━━━━━━━━━━━━━━━━\u001b[0m\u001b[37m\u001b[0m \u001b[1m0s\u001b[0m 7ms/step - accuracy: 0.9907 - loss: 0.0447 - val_accuracy: 0.9888 - val_loss: 0.0228\n",
      "Epoch 55/150\n",
      "\u001b[1m42/42\u001b[0m \u001b[32m━━━━━━━━━━━━━━━━━━━━\u001b[0m\u001b[37m\u001b[0m \u001b[1m0s\u001b[0m 9ms/step - accuracy: 0.9882 - loss: 0.0451 - val_accuracy: 0.9888 - val_loss: 0.0257\n",
      "Epoch 56/150\n",
      "\u001b[1m42/42\u001b[0m \u001b[32m━━━━━━━━━━━━━━━━━━━━\u001b[0m\u001b[37m\u001b[0m \u001b[1m1s\u001b[0m 7ms/step - accuracy: 0.9906 - loss: 0.0295 - val_accuracy: 0.9888 - val_loss: 0.0217\n",
      "Epoch 57/150\n",
      "\u001b[1m42/42\u001b[0m \u001b[32m━━━━━━━━━━━━━━━━━━━━\u001b[0m\u001b[37m\u001b[0m \u001b[1m1s\u001b[0m 9ms/step - accuracy: 0.9813 - loss: 0.0599 - val_accuracy: 0.9798 - val_loss: 0.0419\n",
      "Epoch 58/150\n",
      "\u001b[1m42/42\u001b[0m \u001b[32m━━━━━━━━━━━━━━━━━━━━\u001b[0m\u001b[37m\u001b[0m \u001b[1m1s\u001b[0m 7ms/step - accuracy: 0.9579 - loss: 0.1154 - val_accuracy: 0.9820 - val_loss: 0.0599\n",
      "Epoch 59/150\n",
      "\u001b[1m42/42\u001b[0m \u001b[32m━━━━━━━━━━━━━━━━━━━━\u001b[0m\u001b[37m\u001b[0m \u001b[1m0s\u001b[0m 7ms/step - accuracy: 0.9764 - loss: 0.0574 - val_accuracy: 0.9888 - val_loss: 0.0231\n",
      "Epoch 60/150\n",
      "\u001b[1m42/42\u001b[0m \u001b[32m━━━━━━━━━━━━━━━━━━━━\u001b[0m\u001b[37m\u001b[0m \u001b[1m1s\u001b[0m 7ms/step - accuracy: 0.9897 - loss: 0.0303 - val_accuracy: 0.9708 - val_loss: 0.0642\n",
      "Epoch 61/150\n",
      "\u001b[1m42/42\u001b[0m \u001b[32m━━━━━━━━━━━━━━━━━━━━\u001b[0m\u001b[37m\u001b[0m \u001b[1m0s\u001b[0m 7ms/step - accuracy: 0.9842 - loss: 0.0339 - val_accuracy: 0.9888 - val_loss: 0.0214\n",
      "Epoch 62/150\n",
      "\u001b[1m42/42\u001b[0m \u001b[32m━━━━━━━━━━━━━━━━━━━━\u001b[0m\u001b[37m\u001b[0m \u001b[1m1s\u001b[0m 7ms/step - accuracy: 0.9929 - loss: 0.0261 - val_accuracy: 0.9865 - val_loss: 0.0263\n",
      "Epoch 63/150\n",
      "\u001b[1m42/42\u001b[0m \u001b[32m━━━━━━━━━━━━━━━━━━━━\u001b[0m\u001b[37m\u001b[0m \u001b[1m0s\u001b[0m 9ms/step - accuracy: 0.9919 - loss: 0.0219 - val_accuracy: 0.9843 - val_loss: 0.0346\n",
      "Epoch 64/150\n",
      "\u001b[1m42/42\u001b[0m \u001b[32m━━━━━━━━━━━━━━━━━━━━\u001b[0m\u001b[37m\u001b[0m \u001b[1m1s\u001b[0m 8ms/step - accuracy: 0.9742 - loss: 0.0844 - val_accuracy: 0.9888 - val_loss: 0.0741\n",
      "Epoch 65/150\n",
      "\u001b[1m42/42\u001b[0m \u001b[32m━━━━━━━━━━━━━━━━━━━━\u001b[0m\u001b[37m\u001b[0m \u001b[1m1s\u001b[0m 10ms/step - accuracy: 0.9396 - loss: 0.1425 - val_accuracy: 0.9888 - val_loss: 0.0333\n",
      "Epoch 66/150\n",
      "\u001b[1m42/42\u001b[0m \u001b[32m━━━━━━━━━━━━━━━━━━━━\u001b[0m\u001b[37m\u001b[0m \u001b[1m1s\u001b[0m 7ms/step - accuracy: 0.9931 - loss: 0.0320 - val_accuracy: 0.9888 - val_loss: 0.0241\n",
      "Epoch 67/150\n",
      "\u001b[1m42/42\u001b[0m \u001b[32m━━━━━━━━━━━━━━━━━━━━\u001b[0m\u001b[37m\u001b[0m \u001b[1m1s\u001b[0m 8ms/step - accuracy: 0.9925 - loss: 0.0223 - val_accuracy: 0.9888 - val_loss: 0.0230\n",
      "Epoch 68/150\n",
      "\u001b[1m42/42\u001b[0m \u001b[32m━━━━━━━━━━━━━━━━━━━━\u001b[0m\u001b[37m\u001b[0m \u001b[1m1s\u001b[0m 10ms/step - accuracy: 0.9945 - loss: 0.0162 - val_accuracy: 0.9888 - val_loss: 0.0242\n",
      "Epoch 69/150\n",
      "\u001b[1m42/42\u001b[0m \u001b[32m━━━━━━━━━━━━━━━━━━━━\u001b[0m\u001b[37m\u001b[0m \u001b[1m1s\u001b[0m 7ms/step - accuracy: 0.9926 - loss: 0.0176 - val_accuracy: 0.9843 - val_loss: 0.0307\n",
      "Epoch 70/150\n",
      "\u001b[1m42/42\u001b[0m \u001b[32m━━━━━━━━━━━━━━━━━━━━\u001b[0m\u001b[37m\u001b[0m \u001b[1m1s\u001b[0m 7ms/step - accuracy: 0.9821 - loss: 0.0481 - val_accuracy: 0.9730 - val_loss: 0.0888\n",
      "Epoch 71/150\n",
      "\u001b[1m42/42\u001b[0m \u001b[32m━━━━━━━━━━━━━━━━━━━━\u001b[0m\u001b[37m\u001b[0m \u001b[1m1s\u001b[0m 7ms/step - accuracy: 0.9602 - loss: 0.0982 - val_accuracy: 0.9888 - val_loss: 0.0305\n",
      "Epoch 72/150\n",
      "\u001b[1m42/42\u001b[0m \u001b[32m━━━━━━━━━━━━━━━━━━━━\u001b[0m\u001b[37m\u001b[0m \u001b[1m0s\u001b[0m 7ms/step - accuracy: 0.9818 - loss: 0.0577 - val_accuracy: 0.9146 - val_loss: 0.1518\n",
      "Epoch 73/150\n",
      "\u001b[1m42/42\u001b[0m \u001b[32m━━━━━━━━━━━━━━━━━━━━\u001b[0m\u001b[37m\u001b[0m \u001b[1m0s\u001b[0m 10ms/step - accuracy: 0.9583 - loss: 0.1060 - val_accuracy: 0.9708 - val_loss: 0.0655\n",
      "Epoch 74/150\n",
      "\u001b[1m42/42\u001b[0m \u001b[32m━━━━━━━━━━━━━━━━━━━━\u001b[0m\u001b[37m\u001b[0m \u001b[1m1s\u001b[0m 8ms/step - accuracy: 0.9910 - loss: 0.0522 - val_accuracy: 0.9888 - val_loss: 0.0274\n",
      "Epoch 75/150\n",
      "\u001b[1m42/42\u001b[0m \u001b[32m━━━━━━━━━━━━━━━━━━━━\u001b[0m\u001b[37m\u001b[0m \u001b[1m0s\u001b[0m 8ms/step - accuracy: 0.9867 - loss: 0.0336 - val_accuracy: 0.9843 - val_loss: 0.0294\n",
      "Epoch 76/150\n",
      "\u001b[1m42/42\u001b[0m \u001b[32m━━━━━━━━━━━━━━━━━━━━\u001b[0m\u001b[37m\u001b[0m \u001b[1m1s\u001b[0m 7ms/step - accuracy: 0.9788 - loss: 0.0590 - val_accuracy: 0.9888 - val_loss: 0.0234\n",
      "Epoch 77/150\n",
      "\u001b[1m42/42\u001b[0m \u001b[32m━━━━━━━━━━━━━━━━━━━━\u001b[0m\u001b[37m\u001b[0m \u001b[1m0s\u001b[0m 9ms/step - accuracy: 0.9874 - loss: 0.0353 - val_accuracy: 0.9528 - val_loss: 0.1258\n",
      "Epoch 78/150\n",
      "\u001b[1m42/42\u001b[0m \u001b[32m━━━━━━━━━━━━━━━━━━━━\u001b[0m\u001b[37m\u001b[0m \u001b[1m1s\u001b[0m 8ms/step - accuracy: 0.9796 - loss: 0.0702 - val_accuracy: 0.9416 - val_loss: 0.1499\n",
      "Epoch 79/150\n",
      "\u001b[1m42/42\u001b[0m \u001b[32m━━━━━━━━━━━━━━━━━━━━\u001b[0m\u001b[37m\u001b[0m \u001b[1m1s\u001b[0m 7ms/step - accuracy: 0.9799 - loss: 0.0622 - val_accuracy: 0.9820 - val_loss: 0.0355\n",
      "Epoch 80/150\n",
      "\u001b[1m42/42\u001b[0m \u001b[32m━━━━━━━━━━━━━━━━━━━━\u001b[0m\u001b[37m\u001b[0m \u001b[1m1s\u001b[0m 7ms/step - accuracy: 0.9967 - loss: 0.0155 - val_accuracy: 0.9888 - val_loss: 0.0220\n",
      "Epoch 81/150\n",
      "\u001b[1m42/42\u001b[0m \u001b[32m━━━━━━━━━━━━━━━━━━━━\u001b[0m\u001b[37m\u001b[0m \u001b[1m0s\u001b[0m 7ms/step - accuracy: 0.9952 - loss: 0.0136 - val_accuracy: 0.9888 - val_loss: 0.0215\n",
      "Epoch 82/150\n",
      "\u001b[1m42/42\u001b[0m \u001b[32m━━━━━━━━━━━━━━━━━━━━\u001b[0m\u001b[37m\u001b[0m \u001b[1m1s\u001b[0m 8ms/step - accuracy: 0.9960 - loss: 0.0126 - val_accuracy: 0.9888 - val_loss: 0.0220\n",
      "Epoch 83/150\n",
      "\u001b[1m42/42\u001b[0m \u001b[32m━━━━━━━━━━━━━━━━━━━━\u001b[0m\u001b[37m\u001b[0m \u001b[1m1s\u001b[0m 7ms/step - accuracy: 0.9939 - loss: 0.0151 - val_accuracy: 0.9888 - val_loss: 0.0212\n",
      "Epoch 84/150\n",
      "\u001b[1m42/42\u001b[0m \u001b[32m━━━━━━━━━━━━━━━━━━━━\u001b[0m\u001b[37m\u001b[0m \u001b[1m0s\u001b[0m 9ms/step - accuracy: 0.9926 - loss: 0.0236 - val_accuracy: 0.9888 - val_loss: 0.0214\n",
      "Epoch 85/150\n",
      "\u001b[1m42/42\u001b[0m \u001b[32m━━━━━━━━━━━━━━━━━━━━\u001b[0m\u001b[37m\u001b[0m \u001b[1m1s\u001b[0m 8ms/step - accuracy: 0.9974 - loss: 0.0102 - val_accuracy: 0.9888 - val_loss: 0.0211\n",
      "Epoch 86/150\n",
      "\u001b[1m42/42\u001b[0m \u001b[32m━━━━━━━━━━━━━━━━━━━━\u001b[0m\u001b[37m\u001b[0m \u001b[1m1s\u001b[0m 7ms/step - accuracy: 0.9947 - loss: 0.0211 - val_accuracy: 0.9483 - val_loss: 0.1090\n",
      "Epoch 87/150\n",
      "\u001b[1m42/42\u001b[0m \u001b[32m━━━━━━━━━━━━━━━━━━━━\u001b[0m\u001b[37m\u001b[0m \u001b[1m0s\u001b[0m 7ms/step - accuracy: 0.9583 - loss: 0.1058 - val_accuracy: 0.9888 - val_loss: 0.0279\n",
      "Epoch 88/150\n",
      "\u001b[1m42/42\u001b[0m \u001b[32m━━━━━━━━━━━━━━━━━━━━\u001b[0m\u001b[37m\u001b[0m \u001b[1m0s\u001b[0m 8ms/step - accuracy: 0.9909 - loss: 0.0320 - val_accuracy: 0.9124 - val_loss: 0.2461\n",
      "Epoch 89/150\n",
      "\u001b[1m42/42\u001b[0m \u001b[32m━━━━━━━━━━━━━━━━━━━━\u001b[0m\u001b[37m\u001b[0m \u001b[1m1s\u001b[0m 8ms/step - accuracy: 0.9568 - loss: 0.1385 - val_accuracy: 0.9888 - val_loss: 0.0388\n",
      "Epoch 90/150\n",
      "\u001b[1m42/42\u001b[0m \u001b[32m━━━━━━━━━━━━━━━━━━━━\u001b[0m\u001b[37m\u001b[0m \u001b[1m0s\u001b[0m 8ms/step - accuracy: 0.9910 - loss: 0.0476 - val_accuracy: 0.9888 - val_loss: 0.0294\n",
      "Epoch 91/150\n",
      "\u001b[1m42/42\u001b[0m \u001b[32m━━━━━━━━━━━━━━━━━━━━\u001b[0m\u001b[37m\u001b[0m \u001b[1m1s\u001b[0m 8ms/step - accuracy: 0.9811 - loss: 0.0505 - val_accuracy: 0.9124 - val_loss: 0.2690\n",
      "Epoch 92/150\n",
      "\u001b[1m42/42\u001b[0m \u001b[32m━━━━━━━━━━━━━━━━━━━━\u001b[0m\u001b[37m\u001b[0m \u001b[1m1s\u001b[0m 7ms/step - accuracy: 0.9176 - loss: 0.2463 - val_accuracy: 0.9888 - val_loss: 0.0423\n",
      "Epoch 93/150\n",
      "\u001b[1m42/42\u001b[0m \u001b[32m━━━━━━━━━━━━━━━━━━━━\u001b[0m\u001b[37m\u001b[0m \u001b[1m1s\u001b[0m 8ms/step - accuracy: 0.9883 - loss: 0.0434 - val_accuracy: 0.9888 - val_loss: 0.0320\n",
      "Epoch 94/150\n",
      "\u001b[1m42/42\u001b[0m \u001b[32m━━━━━━━━━━━━━━━━━━━━\u001b[0m\u001b[37m\u001b[0m \u001b[1m1s\u001b[0m 8ms/step - accuracy: 0.9964 - loss: 0.0205 - val_accuracy: 0.9888 - val_loss: 0.0271\n",
      "Epoch 95/150\n",
      "\u001b[1m42/42\u001b[0m \u001b[32m━━━━━━━━━━━━━━━━━━━━\u001b[0m\u001b[37m\u001b[0m \u001b[1m0s\u001b[0m 8ms/step - accuracy: 0.9926 - loss: 0.0246 - val_accuracy: 0.9888 - val_loss: 0.0256\n",
      "Epoch 96/150\n",
      "\u001b[1m42/42\u001b[0m \u001b[32m━━━━━━━━━━━━━━━━━━━━\u001b[0m\u001b[37m\u001b[0m \u001b[1m1s\u001b[0m 8ms/step - accuracy: 0.9960 - loss: 0.0138 - val_accuracy: 0.9888 - val_loss: 0.0253\n",
      "Epoch 97/150\n",
      "\u001b[1m42/42\u001b[0m \u001b[32m━━━━━━━━━━━━━━━━━━━━\u001b[0m\u001b[37m\u001b[0m \u001b[1m0s\u001b[0m 10ms/step - accuracy: 0.9950 - loss: 0.0168 - val_accuracy: 0.9888 - val_loss: 0.0244\n",
      "Epoch 98/150\n",
      "\u001b[1m42/42\u001b[0m \u001b[32m━━━━━━━━━━━━━━━━━━━━\u001b[0m\u001b[37m\u001b[0m \u001b[1m0s\u001b[0m 10ms/step - accuracy: 0.9949 - loss: 0.0155 - val_accuracy: 0.9888 - val_loss: 0.0244\n",
      "Epoch 99/150\n",
      "\u001b[1m42/42\u001b[0m \u001b[32m━━━━━━━━━━━━━━━━━━━━\u001b[0m\u001b[37m\u001b[0m \u001b[1m1s\u001b[0m 8ms/step - accuracy: 0.9954 - loss: 0.0198 - val_accuracy: 0.9888 - val_loss: 0.0240\n",
      "Epoch 100/150\n",
      "\u001b[1m42/42\u001b[0m \u001b[32m━━━━━━━━━━━━━━━━━━━━\u001b[0m\u001b[37m\u001b[0m \u001b[1m1s\u001b[0m 10ms/step - accuracy: 0.9940 - loss: 0.0207 - val_accuracy: 0.9888 - val_loss: 0.0237\n",
      "Epoch 101/150\n",
      "\u001b[1m42/42\u001b[0m \u001b[32m━━━━━━━━━━━━━━━━━━━━\u001b[0m\u001b[37m\u001b[0m \u001b[1m1s\u001b[0m 10ms/step - accuracy: 0.9936 - loss: 0.0161 - val_accuracy: 0.9888 - val_loss: 0.0234\n",
      "Epoch 102/150\n",
      "\u001b[1m42/42\u001b[0m \u001b[32m━━━━━━━━━━━━━━━━━━━━\u001b[0m\u001b[37m\u001b[0m \u001b[1m0s\u001b[0m 9ms/step - accuracy: 0.9925 - loss: 0.0194 - val_accuracy: 0.9888 - val_loss: 0.0233\n",
      "Epoch 103/150\n",
      "\u001b[1m42/42\u001b[0m \u001b[32m━━━━━━━━━━━━━━━━━━━━\u001b[0m\u001b[37m\u001b[0m \u001b[1m0s\u001b[0m 10ms/step - accuracy: 0.9968 - loss: 0.0106 - val_accuracy: 0.9888 - val_loss: 0.0231\n",
      "Epoch 104/150\n",
      "\u001b[1m42/42\u001b[0m \u001b[32m━━━━━━━━━━━━━━━━━━━━\u001b[0m\u001b[37m\u001b[0m \u001b[1m0s\u001b[0m 8ms/step - accuracy: 0.9945 - loss: 0.0143 - val_accuracy: 0.9888 - val_loss: 0.0229\n",
      "Epoch 105/150\n",
      "\u001b[1m42/42\u001b[0m \u001b[32m━━━━━━━━━━━━━━━━━━━━\u001b[0m\u001b[37m\u001b[0m \u001b[1m1s\u001b[0m 10ms/step - accuracy: 0.9972 - loss: 0.0091 - val_accuracy: 0.9888 - val_loss: 0.0228\n",
      "Epoch 106/150\n",
      "\u001b[1m42/42\u001b[0m \u001b[32m━━━━━━━━━━━━━━━━━━━━\u001b[0m\u001b[37m\u001b[0m \u001b[1m1s\u001b[0m 9ms/step - accuracy: 0.9908 - loss: 0.0204 - val_accuracy: 0.9888 - val_loss: 0.0224\n",
      "Epoch 107/150\n",
      "\u001b[1m42/42\u001b[0m \u001b[32m━━━━━━━━━━━━━━━━━━━━\u001b[0m\u001b[37m\u001b[0m \u001b[1m0s\u001b[0m 8ms/step - accuracy: 0.9934 - loss: 0.0187 - val_accuracy: 0.9888 - val_loss: 0.0223\n",
      "Epoch 108/150\n",
      "\u001b[1m42/42\u001b[0m \u001b[32m━━━━━━━━━━━━━━━━━━━━\u001b[0m\u001b[37m\u001b[0m \u001b[1m0s\u001b[0m 7ms/step - accuracy: 0.9948 - loss: 0.0157 - val_accuracy: 0.9888 - val_loss: 0.0222\n",
      "Epoch 109/150\n",
      "\u001b[1m42/42\u001b[0m \u001b[32m━━━━━━━━━━━━━━━━━━━━\u001b[0m\u001b[37m\u001b[0m \u001b[1m0s\u001b[0m 8ms/step - accuracy: 0.9850 - loss: 0.0477 - val_accuracy: 0.9056 - val_loss: 0.1998\n",
      "Epoch 110/150\n",
      "\u001b[1m42/42\u001b[0m \u001b[32m━━━━━━━━━━━━━━━━━━━━\u001b[0m\u001b[37m\u001b[0m \u001b[1m1s\u001b[0m 9ms/step - accuracy: 0.9154 - loss: 0.1972 - val_accuracy: 0.9888 - val_loss: 0.0295\n",
      "Epoch 111/150\n",
      "\u001b[1m42/42\u001b[0m \u001b[32m━━━━━━━━━━━━━━━━━━━━\u001b[0m\u001b[37m\u001b[0m \u001b[1m1s\u001b[0m 7ms/step - accuracy: 0.9737 - loss: 0.0787 - val_accuracy: 0.9685 - val_loss: 0.0674\n",
      "Epoch 112/150\n",
      "\u001b[1m42/42\u001b[0m \u001b[32m━━━━━━━━━━━━━━━━━━━━\u001b[0m\u001b[37m\u001b[0m \u001b[1m0s\u001b[0m 7ms/step - accuracy: 0.9534 - loss: 0.1158 - val_accuracy: 0.9888 - val_loss: 0.0296\n",
      "Epoch 113/150\n",
      "\u001b[1m42/42\u001b[0m \u001b[32m━━━━━━━━━━━━━━━━━━━━\u001b[0m\u001b[37m\u001b[0m \u001b[1m0s\u001b[0m 8ms/step - accuracy: 0.9947 - loss: 0.0228 - val_accuracy: 0.9888 - val_loss: 0.0237\n",
      "Epoch 114/150\n",
      "\u001b[1m42/42\u001b[0m \u001b[32m━━━━━━━━━━━━━━━━━━━━\u001b[0m\u001b[37m\u001b[0m \u001b[1m1s\u001b[0m 10ms/step - accuracy: 0.9931 - loss: 0.0221 - val_accuracy: 0.9888 - val_loss: 0.0227\n",
      "Epoch 115/150\n",
      "\u001b[1m42/42\u001b[0m \u001b[32m━━━━━━━━━━━━━━━━━━━━\u001b[0m\u001b[37m\u001b[0m \u001b[1m1s\u001b[0m 8ms/step - accuracy: 0.9962 - loss: 0.0131 - val_accuracy: 0.9888 - val_loss: 0.0223\n",
      "Epoch 116/150\n",
      "\u001b[1m42/42\u001b[0m \u001b[32m━━━━━━━━━━━━━━━━━━━━\u001b[0m\u001b[37m\u001b[0m \u001b[1m0s\u001b[0m 8ms/step - accuracy: 0.9879 - loss: 0.0385 - val_accuracy: 0.9888 - val_loss: 0.0239\n",
      "Epoch 117/150\n",
      "\u001b[1m42/42\u001b[0m \u001b[32m━━━━━━━━━━━━━━━━━━━━\u001b[0m\u001b[37m\u001b[0m \u001b[1m1s\u001b[0m 8ms/step - accuracy: 0.9818 - loss: 0.0739 - val_accuracy: 0.9888 - val_loss: 0.0551\n",
      "Epoch 118/150\n",
      "\u001b[1m42/42\u001b[0m \u001b[32m━━━━━━━━━━━━━━━━━━━━\u001b[0m\u001b[37m\u001b[0m \u001b[1m1s\u001b[0m 7ms/step - accuracy: 0.9803 - loss: 0.0659 - val_accuracy: 0.9888 - val_loss: 0.0238\n",
      "Epoch 119/150\n",
      "\u001b[1m42/42\u001b[0m \u001b[32m━━━━━━━━━━━━━━━━━━━━\u001b[0m\u001b[37m\u001b[0m \u001b[1m0s\u001b[0m 8ms/step - accuracy: 0.9705 - loss: 0.0991 - val_accuracy: 0.9888 - val_loss: 0.0442\n",
      "Epoch 120/150\n",
      "\u001b[1m42/42\u001b[0m \u001b[32m━━━━━━━━━━━━━━━━━━━━\u001b[0m\u001b[37m\u001b[0m \u001b[1m1s\u001b[0m 9ms/step - accuracy: 0.9796 - loss: 0.0614 - val_accuracy: 0.9596 - val_loss: 0.0878\n",
      "Epoch 121/150\n",
      "\u001b[1m42/42\u001b[0m \u001b[32m━━━━━━━━━━━━━━━━━━━━\u001b[0m\u001b[37m\u001b[0m \u001b[1m1s\u001b[0m 8ms/step - accuracy: 0.9863 - loss: 0.0414 - val_accuracy: 0.9753 - val_loss: 0.0676\n",
      "Epoch 122/150\n",
      "\u001b[1m42/42\u001b[0m \u001b[32m━━━━━━━━━━━━━━━━━━━━\u001b[0m\u001b[37m\u001b[0m \u001b[1m0s\u001b[0m 7ms/step - accuracy: 0.9832 - loss: 0.0604 - val_accuracy: 0.9888 - val_loss: 0.0278\n",
      "Epoch 123/150\n",
      "\u001b[1m42/42\u001b[0m \u001b[32m━━━━━━━━━━━━━━━━━━━━\u001b[0m\u001b[37m\u001b[0m \u001b[1m0s\u001b[0m 7ms/step - accuracy: 0.9937 - loss: 0.0307 - val_accuracy: 0.9888 - val_loss: 0.0236\n",
      "Epoch 124/150\n",
      "\u001b[1m42/42\u001b[0m \u001b[32m━━━━━━━━━━━━━━━━━━━━\u001b[0m\u001b[37m\u001b[0m \u001b[1m0s\u001b[0m 7ms/step - accuracy: 0.9935 - loss: 0.0249 - val_accuracy: 0.9888 - val_loss: 0.0236\n",
      "Epoch 125/150\n",
      "\u001b[1m42/42\u001b[0m \u001b[32m━━━━━━━━━━━━━━━━━━━━\u001b[0m\u001b[37m\u001b[0m \u001b[1m0s\u001b[0m 9ms/step - accuracy: 0.9923 - loss: 0.0222 - val_accuracy: 0.9888 - val_loss: 0.0223\n",
      "Epoch 126/150\n",
      "\u001b[1m42/42\u001b[0m \u001b[32m━━━━━━━━━━━━━━━━━━━━\u001b[0m\u001b[37m\u001b[0m \u001b[1m1s\u001b[0m 8ms/step - accuracy: 0.9960 - loss: 0.0122 - val_accuracy: 0.9888 - val_loss: 0.0227\n",
      "Epoch 127/150\n",
      "\u001b[1m42/42\u001b[0m \u001b[32m━━━━━━━━━━━━━━━━━━━━\u001b[0m\u001b[37m\u001b[0m \u001b[1m1s\u001b[0m 8ms/step - accuracy: 0.9982 - loss: 0.0101 - val_accuracy: 0.9888 - val_loss: 0.0240\n",
      "Epoch 128/150\n",
      "\u001b[1m42/42\u001b[0m \u001b[32m━━━━━━━━━━━━━━━━━━━━\u001b[0m\u001b[37m\u001b[0m \u001b[1m1s\u001b[0m 8ms/step - accuracy: 0.9620 - loss: 0.1251 - val_accuracy: 0.9843 - val_loss: 0.0463\n",
      "Epoch 129/150\n",
      "\u001b[1m42/42\u001b[0m \u001b[32m━━━━━━━━━━━━━━━━━━━━\u001b[0m\u001b[37m\u001b[0m \u001b[1m1s\u001b[0m 8ms/step - accuracy: 0.9850 - loss: 0.0511 - val_accuracy: 0.9888 - val_loss: 0.0284\n",
      "Epoch 130/150\n",
      "\u001b[1m42/42\u001b[0m \u001b[32m━━━━━━━━━━━━━━━━━━━━\u001b[0m\u001b[37m\u001b[0m \u001b[1m1s\u001b[0m 7ms/step - accuracy: 0.9813 - loss: 0.0510 - val_accuracy: 0.9461 - val_loss: 0.0950\n",
      "Epoch 131/150\n",
      "\u001b[1m42/42\u001b[0m \u001b[32m━━━━━━━━━━━━━━━━━━━━\u001b[0m\u001b[37m\u001b[0m \u001b[1m0s\u001b[0m 7ms/step - accuracy: 0.9376 - loss: 0.1652 - val_accuracy: 0.9888 - val_loss: 0.0299\n",
      "Epoch 132/150\n",
      "\u001b[1m42/42\u001b[0m \u001b[32m━━━━━━━━━━━━━━━━━━━━\u001b[0m\u001b[37m\u001b[0m \u001b[1m0s\u001b[0m 9ms/step - accuracy: 0.9934 - loss: 0.0280 - val_accuracy: 0.9888 - val_loss: 0.0240\n",
      "Epoch 133/150\n",
      "\u001b[1m42/42\u001b[0m \u001b[32m━━━━━━━━━━━━━━━━━━━━\u001b[0m\u001b[37m\u001b[0m \u001b[1m0s\u001b[0m 8ms/step - accuracy: 0.9908 - loss: 0.0252 - val_accuracy: 0.9888 - val_loss: 0.0223\n",
      "Epoch 134/150\n",
      "\u001b[1m42/42\u001b[0m \u001b[32m━━━━━━━━━━━━━━━━━━━━\u001b[0m\u001b[37m\u001b[0m \u001b[1m0s\u001b[0m 9ms/step - accuracy: 0.9900 - loss: 0.0315 - val_accuracy: 0.9865 - val_loss: 0.0443\n",
      "Epoch 135/150\n",
      "\u001b[1m42/42\u001b[0m \u001b[32m━━━━━━━━━━━━━━━━━━━━\u001b[0m\u001b[37m\u001b[0m \u001b[1m1s\u001b[0m 7ms/step - accuracy: 0.9763 - loss: 0.0664 - val_accuracy: 0.9865 - val_loss: 0.0278\n",
      "Epoch 136/150\n",
      "\u001b[1m42/42\u001b[0m \u001b[32m━━━━━━━━━━━━━━━━━━━━\u001b[0m\u001b[37m\u001b[0m \u001b[1m0s\u001b[0m 10ms/step - accuracy: 0.9940 - loss: 0.1179 - val_accuracy: 0.9888 - val_loss: 0.0233\n",
      "Epoch 137/150\n",
      "\u001b[1m42/42\u001b[0m \u001b[32m━━━━━━━━━━━━━━━━━━━━\u001b[0m\u001b[37m\u001b[0m \u001b[1m1s\u001b[0m 9ms/step - accuracy: 0.9923 - loss: 0.0327 - val_accuracy: 0.9888 - val_loss: 0.0229\n",
      "Epoch 138/150\n",
      "\u001b[1m42/42\u001b[0m \u001b[32m━━━━━━━━━━━━━━━━━━━━\u001b[0m\u001b[37m\u001b[0m \u001b[1m1s\u001b[0m 8ms/step - accuracy: 0.9890 - loss: 0.0276 - val_accuracy: 0.9888 - val_loss: 0.0222\n",
      "Epoch 139/150\n",
      "\u001b[1m42/42\u001b[0m \u001b[32m━━━━━━━━━━━━━━━━━━━━\u001b[0m\u001b[37m\u001b[0m \u001b[1m1s\u001b[0m 6ms/step - accuracy: 0.9963 - loss: 0.0111 - val_accuracy: 0.9888 - val_loss: 0.0220\n",
      "Epoch 140/150\n",
      "\u001b[1m42/42\u001b[0m \u001b[32m━━━━━━━━━━━━━━━━━━━━\u001b[0m\u001b[37m\u001b[0m \u001b[1m0s\u001b[0m 10ms/step - accuracy: 0.9963 - loss: 0.0132 - val_accuracy: 0.9888 - val_loss: 0.0219\n",
      "Epoch 141/150\n",
      "\u001b[1m42/42\u001b[0m \u001b[32m━━━━━━━━━━━━━━━━━━━━\u001b[0m\u001b[37m\u001b[0m \u001b[1m1s\u001b[0m 7ms/step - accuracy: 0.9951 - loss: 0.0137 - val_accuracy: 0.9888 - val_loss: 0.0216\n",
      "Epoch 142/150\n",
      "\u001b[1m42/42\u001b[0m \u001b[32m━━━━━━━━━━━━━━━━━━━━\u001b[0m\u001b[37m\u001b[0m \u001b[1m1s\u001b[0m 10ms/step - accuracy: 0.9967 - loss: 0.0073 - val_accuracy: 0.9888 - val_loss: 0.0215\n",
      "Epoch 143/150\n",
      "\u001b[1m42/42\u001b[0m \u001b[32m━━━━━━━━━━━━━━━━━━━━\u001b[0m\u001b[37m\u001b[0m \u001b[1m0s\u001b[0m 7ms/step - accuracy: 0.9907 - loss: 0.0406 - val_accuracy: 0.9888 - val_loss: 0.0213\n",
      "Epoch 144/150\n",
      "\u001b[1m42/42\u001b[0m \u001b[32m━━━━━━━━━━━━━━━━━━━━\u001b[0m\u001b[37m\u001b[0m \u001b[1m0s\u001b[0m 7ms/step - accuracy: 0.9914 - loss: 0.0233 - val_accuracy: 0.9888 - val_loss: 0.0211\n",
      "Epoch 145/150\n",
      "\u001b[1m42/42\u001b[0m \u001b[32m━━━━━━━━━━━━━━━━━━━━\u001b[0m\u001b[37m\u001b[0m \u001b[1m1s\u001b[0m 8ms/step - accuracy: 0.9936 - loss: 0.0150 - val_accuracy: 0.9888 - val_loss: 0.0210\n",
      "Epoch 146/150\n",
      "\u001b[1m42/42\u001b[0m \u001b[32m━━━━━━━━━━━━━━━━━━━━\u001b[0m\u001b[37m\u001b[0m \u001b[1m0s\u001b[0m 7ms/step - accuracy: 0.9943 - loss: 0.0157 - val_accuracy: 0.9888 - val_loss: 0.0210\n",
      "Epoch 147/150\n",
      "\u001b[1m42/42\u001b[0m \u001b[32m━━━━━━━━━━━━━━━━━━━━\u001b[0m\u001b[37m\u001b[0m \u001b[1m0s\u001b[0m 7ms/step - accuracy: 0.9906 - loss: 0.0205 - val_accuracy: 0.9888 - val_loss: 0.0210\n",
      "Epoch 148/150\n",
      "\u001b[1m42/42\u001b[0m \u001b[32m━━━━━━━━━━━━━━━━━━━━\u001b[0m\u001b[37m\u001b[0m \u001b[1m0s\u001b[0m 7ms/step - accuracy: 0.9682 - loss: 0.1444 - val_accuracy: 0.9393 - val_loss: 0.1894\n",
      "Epoch 149/150\n",
      "\u001b[1m42/42\u001b[0m \u001b[32m━━━━━━━━━━━━━━━━━━━━\u001b[0m\u001b[37m\u001b[0m \u001b[1m0s\u001b[0m 7ms/step - accuracy: 0.9077 - loss: 0.1936 - val_accuracy: 0.9888 - val_loss: 0.0485\n",
      "Epoch 150/150\n",
      "\u001b[1m42/42\u001b[0m \u001b[32m━━━━━━━━━━━━━━━━━━━━\u001b[0m\u001b[37m\u001b[0m \u001b[1m0s\u001b[0m 7ms/step - accuracy: 0.9881 - loss: 0.0397 - val_accuracy: 0.9888 - val_loss: 0.0246\n"
     ]
    }
   ],
   "source": [
    "history = model_dnn.fit(X_train, y_train, epochs=150, verbose=1, validation_data=(X_test, y_test))"
   ]
  },
  {
   "cell_type": "markdown",
   "id": "de591a34-4a69-4c7a-89bc-7f77d957e82d",
   "metadata": {},
   "source": [
    "# Etape7 : VISUALISATION DE L'EVOLUTION DE TRAINING DU Rx NEURONNE"
   ]
  },
  {
   "cell_type": "code",
   "execution_count": 49,
   "id": "886921a3-6bbc-4ac4-965e-5bcfaefab05d",
   "metadata": {},
   "outputs": [],
   "source": [
    "epoch_accuracy = history.history['accuracy']\n",
    "epoch_loss = history.history['loss']\n",
    "\n",
    "epoch_val_accuracy = history.history['val_accuracy']\n",
    "epoch_val_loss = history.history['val_loss']"
   ]
  },
  {
   "cell_type": "code",
   "execution_count": 50,
   "id": "c9871fcf-54be-4ba5-918d-c6b4f9ae2ff1",
   "metadata": {},
   "outputs": [
    {
     "data": {
      "image/png": "[encoded data removed]",
      "text/plain": [
       "<Figure size 600x400 with 1 Axes>"
      ]
     },
     "metadata": {},
     "output_type": "display_data"
    }
   ],
   "source": [
    "plt.figure(figsize=(6, 4))\n",
    "plt.plot(range(0, len(epoch_accuracy)), epoch_accuracy, color='blue', label='Training Accuracy')\n",
    "plt.plot(range(0, len(epoch_loss)), epoch_loss, color='red', label='Training Loss')\n",
    "plt.xlabel('Epochs')\n",
    "plt.ylabel('Values')\n",
    "plt.title('Accuracy vs Loss')\n",
    "plt.legend()\n",
    "plt.show()"
   ]
  },
  {
   "cell_type": "code",
   "execution_count": 51,
   "id": "b6434c2a-be72-42b4-9145-3cfb25ca8f6f",
   "metadata": {},
   "outputs": [
    {
     "data": {
      "image/png": "[encoded data removed]",
      "text/plain": [
       "<Figure size 600x400 with 1 Axes>"
      ]
     },
     "metadata": {},
     "output_type": "display_data"
    }
   ],
   "source": [
    "plt.figure(figsize=(6, 4))\n",
    "plt.plot(range(0, len(epoch_accuracy)), epoch_accuracy, color='blue', label='Training Accuracy')\n",
    "plt.plot(range(0, len(epoch_val_accuracy)), epoch_val_accuracy, color='red', label='Test Accuracy')\n",
    "plt.xlabel('Epochs')\n",
    "plt.ylabel('Accuracy')\n",
    "plt.title('Training Accuracy Vs Taining Loss')\n",
    "plt.legend()\n",
    "plt.show()"
   ]
  },
  {
   "cell_type": "code",
   "execution_count": 52,
   "id": "47f16a3c-58fb-4bad-b00e-dc9777d4708c",
   "metadata": {},
   "outputs": [
    {
     "data": {
      "image/png": "[encoded data removed]",
      "text/plain": [
       "<Figure size 600x400 with 1 Axes>"
      ]
     },
     "metadata": {},
     "output_type": "display_data"
    }
   ],
   "source": [
    "plt.figure(figsize=(6, 4))\n",
    "plt.plot(range(0, len(epoch_loss)), epoch_loss, color='blue', label='Training Loss')\n",
    "plt.plot(range(0, len(epoch_val_loss)), epoch_val_loss, color='red', label='Test Loss')\n",
    "plt.xlabel('Epochs')\n",
    "plt.ylabel('Loss')\n",
    "plt.title('Training Accuracy Vs Taining Loss')\n",
    "plt.legend()\n",
    "plt.show()"
   ]
  },
  {
   "cell_type": "code",
   "execution_count": 53,
   "id": "58c87af0-f69c-4abc-97df-c36da00a5a66",
   "metadata": {},
   "outputs": [
    {
     "name": "stdout",
     "output_type": "stream",
     "text": [
      "\u001b[1m14/14\u001b[0m \u001b[32m━━━━━━━━━━━━━━━━━━━━\u001b[0m\u001b[37m\u001b[0m \u001b[1m0s\u001b[0m 5ms/step - accuracy: 0.9871 - loss: 0.0295     \n"
     ]
    },
    {
     "data": {
      "text/plain": [
       "[0.024644507095217705, 0.9887640476226807]"
      ]
     },
     "execution_count": 53,
     "metadata": {},
     "output_type": "execute_result"
    }
   ],
   "source": [
    "model_dnn.evaluate(X_test, y_test)"
   ]
  },
  {
   "cell_type": "code",
   "execution_count": 54,
   "id": "45d6560f-2634-47b0-981e-b15e2018db9d",
   "metadata": {},
   "outputs": [
    {
     "name": "stderr",
     "output_type": "stream",
     "text": [
      "WARNING:absl:You are saving your model as an HDF5 file via `model.save()` or `keras.saving.save_model(model)`. This file format is considered legacy. We recommend using instead the native Keras format, e.g. `model.save('my_model.keras')` or `keras.saving.save_model(model, 'my_model.keras')`. \n"
     ]
    }
   ],
   "source": [
    "model_dnn.save('model_dnn.h5')"
   ]
  },
  {
   "cell_type": "code",
   "execution_count": 55,
   "id": "acb877b6-90b5-4cee-a191-7c4b4d45f387",
   "metadata": {},
   "outputs": [
    {
     "data": {
      "text/plain": [
       "['scaler_ic.pkl']"
      ]
     },
     "execution_count": 55,
     "metadata": {},
     "output_type": "execute_result"
    }
   ],
   "source": [
    "joblib.dump(scaler, \"scaler_ic.pkl\")"
   ]
  },
  {
   "cell_type": "code",
   "execution_count": 56,
   "id": "92a15aa0-72eb-4df0-853b-5f2ec7b85a99",
   "metadata": {},
   "outputs": [
    {
     "name": "stdout",
     "output_type": "stream",
     "text": [
      "\u001b[1m14/14\u001b[0m \u001b[32m━━━━━━━━━━━━━━━━━━━━\u001b[0m\u001b[37m\u001b[0m \u001b[1m0s\u001b[0m 10ms/step\n"
     ]
    }
   ],
   "source": [
    "predictions = model_dnn.predict(X_test)"
   ]
  },
  {
   "cell_type": "code",
   "execution_count": 57,
   "id": "5d31fbf4-4024-4838-912f-68a7848fdd34",
   "metadata": {},
   "outputs": [
    {
     "data": {
      "text/plain": [
       "array([[6.8629665e-06, 1.5485105e-07, 9.9400145e-01, 5.9915548e-03],\n",
       "       [4.8055306e-14, 1.0136078e-14, 1.8211183e-12, 1.0000000e+00],\n",
       "       [1.0000000e+00, 0.0000000e+00, 3.1920886e-37, 1.6043305e-29],\n",
       "       ...,\n",
       "       [1.0000000e+00, 0.0000000e+00, 0.0000000e+00, 0.0000000e+00],\n",
       "       [1.0000000e+00, 0.0000000e+00, 3.3436826e-31, 2.6341739e-25],\n",
       "       [7.0230758e-06, 1.5953158e-07, 9.9398601e-01, 6.0068150e-03]],\n",
       "      dtype=float32)"
      ]
     },
     "execution_count": 57,
     "metadata": {},
     "output_type": "execute_result"
    }
   ],
   "source": [
    "predictions"
   ]
  },
  {
   "cell_type": "code",
   "execution_count": 58,
   "id": "1f55458b-3bfc-4ab3-8b87-9779dd5720b5",
   "metadata": {},
   "outputs": [
    {
     "name": "stdout",
     "output_type": "stream",
     "text": [
      "Prédictions : [2 3 0 2 3 1 3 3 2 2 0 0 3 2 2 0 3 0 0 3 3 3 0 1 3 0 3 2 0 0 0 0 3 3 1 3 2\n",
      " 0 2 2 0 2 0 0 0 3 0 2 0 3 3 2 0 3 2 2 2 2 0 3 0 2 2 2 0 1 3 2 2 0 0 3 2 0\n",
      " 3 0 3 0 2 3 0 0 2 3 0 0 2 3 3 3 0 0 0 2 3 0 1 1 3 2 0 3 3 1 3 1 3 0 3 1 2\n",
      " 0 3 0 3 3 1 0 3 3 0 0 2 3 0 0 0 3 0 0 3 3 3 0 1 3 3 3 0 0 0 1 0 0 3 0 0 0\n",
      " 0 1 0 1 2 1 0 3 0 0 0 0 1 0 3 1 0 0 3 3 1 3 0 3 0 0 3 0 0 1 0 3 0 0 3 0 0\n",
      " 3 3 1 3 3 0 3 3 3 0 2 0 0 0 0 3 3 3 3 3 0 3 2 0 3 3 2 0 0 0 3 3 0 3 2 0 3\n",
      " 2 0 0 0 2 3 0 1 3 0 1 2 1 3 0 2 0 2 0 3 0 2 0 3 2 2 0 3 0 2 0 0 3 3 0 0 0\n",
      " 3 2 0 3 3 3 2 2 3 2 3 1 0 0 0 0 1 0 0 0 2 0 2 2 3 2 3 0 1 0 3 2 0 3 0 2 2\n",
      " 1 0 0 2 0 3 2 2 2 0 0 0 0 1 2 0 2 0 1 3 1 1 2 3 3 0 1 3 0 0 0 0 3 0 0 2 3\n",
      " 3 0 1 3 3 3 1 0 0 3 2 2 3 1 1 0 2 2 0 3 2 2 2 3 0 0 0 3 3 0 1 3 3 0 2 0 3\n",
      " 0 3 1 3 0 2 0 3 1 2 0 3 3 0 3 0 3 2 0 0 3 3 0 3 3 1 0 0 2 3 0 0 0 2 1 3 3\n",
      " 0 2 0 3 0 0 1 3 0 2 3 3 1 0 1 3 3 2 1 0 2 3 1 3 0 1 2 0 3 1 2 1 3 0 0 0 0\n",
      " 2]\n"
     ]
    }
   ],
   "source": [
    "#predicted_classes\n",
    "predicted_classes = predictions.argmax(axis=1)\n",
    "\n",
    "print(\"Prédictions :\", predicted_classes)"
   ]
  },
  {
   "cell_type": "code",
   "execution_count": 59,
   "id": "1cb9e6fd-2ba7-49ed-ad32-977b46a02005",
   "metadata": {},
   "outputs": [
    {
     "data": {
      "text/html": [
       "<div>\n",
       "<style scoped>\n",
       "    .dataframe tbody tr th:only-of-type {\n",
       "        vertical-align: middle;\n",
       "    }\n",
       "\n",
       "    .dataframe tbody tr th {\n",
       "        vertical-align: top;\n",
       "    }\n",
       "\n",
       "    .dataframe thead th {\n",
       "        text-align: right;\n",
       "    }\n",
       "</style>\n",
       "<table border=\"1\" class=\"dataframe\">\n",
       "  <thead>\n",
       "    <tr style=\"text-align: right;\">\n",
       "      <th></th>\n",
       "      <th>Site</th>\n",
       "      <th>Longitude</th>\n",
       "      <th>Latitude</th>\n",
       "      <th>Altitude</th>\n",
       "      <th>Ic</th>\n",
       "      <th>Classe_Ic</th>\n",
       "    </tr>\n",
       "  </thead>\n",
       "  <tbody>\n",
       "    <tr>\n",
       "      <th>0</th>\n",
       "      <td>6</td>\n",
       "      <td>27.398758</td>\n",
       "      <td>-11.479370</td>\n",
       "      <td>1356.0</td>\n",
       "      <td>1.032063</td>\n",
       "      <td>0</td>\n",
       "    </tr>\n",
       "    <tr>\n",
       "      <th>1</th>\n",
       "      <td>6</td>\n",
       "      <td>27.398610</td>\n",
       "      <td>-11.478151</td>\n",
       "      <td>1354.0</td>\n",
       "      <td>27.390744</td>\n",
       "      <td>0</td>\n",
       "    </tr>\n",
       "    <tr>\n",
       "      <th>2</th>\n",
       "      <td>6</td>\n",
       "      <td>27.399395</td>\n",
       "      <td>-11.476759</td>\n",
       "      <td>1354.0</td>\n",
       "      <td>1.541371</td>\n",
       "      <td>0</td>\n",
       "    </tr>\n",
       "    <tr>\n",
       "      <th>3</th>\n",
       "      <td>6</td>\n",
       "      <td>27.399987</td>\n",
       "      <td>-11.475205</td>\n",
       "      <td>1354.0</td>\n",
       "      <td>1.081573</td>\n",
       "      <td>0</td>\n",
       "    </tr>\n",
       "    <tr>\n",
       "      <th>4</th>\n",
       "      <td>6</td>\n",
       "      <td>27.400558</td>\n",
       "      <td>-11.474226</td>\n",
       "      <td>1353.0</td>\n",
       "      <td>1.364352</td>\n",
       "      <td>0</td>\n",
       "    </tr>\n",
       "  </tbody>\n",
       "</table>\n",
       "</div>"
      ],
      "text/plain": [
       "   Site  Longitude   Latitude  Altitude         Ic  Classe_Ic\n",
       "0     6  27.398758 -11.479370    1356.0   1.032063          0\n",
       "1     6  27.398610 -11.478151    1354.0  27.390744          0\n",
       "2     6  27.399395 -11.476759    1354.0   1.541371          0\n",
       "3     6  27.399987 -11.475205    1354.0   1.081573          0\n",
       "4     6  27.400558 -11.474226    1353.0   1.364352          0"
      ]
     },
     "execution_count": 59,
     "metadata": {},
     "output_type": "execute_result"
    }
   ],
   "source": [
    "data_concat.head()"
   ]
  },
  {
   "cell_type": "code",
   "execution_count": 60,
   "id": "82a70660-4b65-4298-9835-877c0c3d1d81",
   "metadata": {},
   "outputs": [
    {
     "name": "stdout",
     "output_type": "stream",
     "text": [
      "[[-5.58584463  0.56992661 -1.32603792 -4.99967674 -4.25034463]]\n",
      "\u001b[1m1/1\u001b[0m \u001b[32m━━━━━━━━━━━━━━━━━━━━\u001b[0m\u001b[37m\u001b[0m \u001b[1m0s\u001b[0m 46ms/step\n",
      "Classe prédite : 1\n"
     ]
    }
   ],
   "source": [
    "# Une simple prediction \n",
    "\n",
    "# Donnée d'entrée (5 features)\n",
    "X_test_2 = np.array([[2,\t27.502679,\t-11.581215,\t1183.3166,\t-35.219849\t]])\n",
    "#X_test_2 = np.array([[10, 27.398758, -11.479370, 1356.0, 1.03206]])\n",
    "\n",
    "\n",
    "# N'oublie pas de scaler aussi cette entrée\n",
    "X_test_2 = scaler.transform(X_test_2)\n",
    "print(X_test_2)\n",
    "\n",
    "# Prédiction\n",
    "prediction = model_dnn.predict(X_test_2)\n",
    "predicted_class = prediction.argmax()\n",
    "\n",
    "print(\"Classe prédite :\", predicted_class)\n"
   ]
  },
  {
   "cell_type": "code",
   "execution_count": 61,
   "id": "4149358f-93da-4283-8828-e9bb7a9b82f5",
   "metadata": {},
   "outputs": [
    {
     "name": "stdout",
     "output_type": "stream",
     "text": [
      "Classe prédite : 1\n",
      "Probabilités par classe (%): [0. 1. 0. 0.]\n"
     ]
    }
   ],
   "source": [
    "# Affichage des résultats\n",
    "probs_percent = prediction[0]\n",
    "#probs_percent = prediction[0] * 100\n",
    "probs_rounded = np.round(probs_percent, 2)\n",
    "\n",
    "print(f\"Classe prédite : {predicted_class}\")\n",
    "print(\"Probabilités par classe (%):\", probs_rounded)"
   ]
  },
  {
   "cell_type": "code",
   "execution_count": null,
   "id": "c63e30ae-26f5-4049-87c5-a652ffa0e4d4",
   "metadata": {},
   "outputs": [],
   "source": []
  }
 ],
 "metadata": {
  "kernelspec": {
   "display_name": "Python 3 (ipykernel)",
   "language": "python",
   "name": "python3"
  },
  "language_info": {
   "codemirror_mode": {
    "name": "ipython",
    "version": 3
   },
   "file_extension": ".py",
   "mimetype": "text/x-python",
   "name": "python",
   "nbconvert_exporter": "python",
   "pygments_lexer": "ipython3",
   "version": "3.10.13"
  }
 },
 "nbformat": 4,
 "nbformat_minor": 5
}
